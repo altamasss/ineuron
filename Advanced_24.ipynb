{
 "cells": [
  {
   "cell_type": "code",
   "execution_count": null,
   "id": "287b0158",
   "metadata": {},
   "outputs": [],
   "source": [
    "'''\n",
    "Q1. Is it permissible to use several import statements to import the same module? \n",
    "What would the goal be? Can you think of a situation where it would be beneficial ?\n",
    "'''\n",
    "\n",
    "Ans: Yes, it is permissible to use several import statements to import the same module.\n",
    "    It is used in case when we have to import multiple functions from same module."
   ]
  },
  {
   "cell_type": "code",
   "execution_count": null,
   "id": "3511079d",
   "metadata": {},
   "outputs": [],
   "source": [
    "'''\n",
    "Q2. What are some of a module's characteristics? (Name at least one.)\n",
    "'''\n",
    "Ans: The following are some of a modules characteristics:\n",
    "\n",
    "__name__ : It returns the name of the module\n",
    "__doc__ : It denotes the documentation string line written in a module code.\n",
    "__file__ : It holds the name and path of the module file from which it is loaded\n",
    "__dict__ : It return a dictionary object of module attributes, functions and other definitions and their respective values"
   ]
  },
  {
   "cell_type": "code",
   "execution_count": null,
   "id": "cae9ba6c",
   "metadata": {},
   "outputs": [],
   "source": [
    "'''\n",
    "Q3. Circular importing, such as when two modules import each other, can lead to dependencies and bugs that aren't visible.\n",
    "How can you go about creating a program that avoids mutual importing?\n",
    "'''\n",
    "Ans: Circular importing means importing the two modules in each other.\n",
    "    If suppose we are wokring in MOD1.py file and it is importing some function say F2() from some other module say MOD2.\n",
    "    PY file or we can do vice-versa. What will happen is: This will give an import error.\n",
    "\n",
    "    This is because when we import F2() function from module MOD2.py, \n",
    "    then this will execute MOD2.py file. And in MOD2.py file there is an another statement of importing MOD1.py module.\n",
    "\n",
    "    This will result in endless loop. To avoid this error just do one thingWe can use if __name__ == '__main__'\n",
    "\n",
    "    In the function, you can't directly refer to the function in the program.\n",
    "    The addition of this sentence avoids the endless loop of the program ."
   ]
  },
  {
   "cell_type": "code",
   "execution_count": null,
   "id": "0bf7447a",
   "metadata": {},
   "outputs": [],
   "source": [
    "'''\n",
    "Q4. Why is __all__ in Python ?\n",
    "'''\n",
    "\n",
    "Ans: It provides list of all modules present in a library."
   ]
  },
  {
   "cell_type": "code",
   "execution_count": null,
   "id": "a7683568",
   "metadata": {},
   "outputs": [],
   "source": [
    "'''\n",
    "Q5. In what situation is it useful to refer to the __name__ attribute or the string __main_ _ ?\n",
    "'''\n",
    "\n",
    "Ans: During the time of execution of the code if we want to refer the module in which we are working\n",
    "    on then we uses name attribute. In that case it will return the module in which we are working on.\n",
    "    Suppose if that moudle is being imported from some other module then name will have the name of that moudle\n",
    "    from where the current module has been imported. The current module in which we are working is refer to the string __main __."
   ]
  },
  {
   "cell_type": "code",
   "execution_count": null,
   "id": "55fb8429",
   "metadata": {},
   "outputs": [],
   "source": [
    "'''\n",
    "Q6. What are some of the benefits of attaching a program counter to the RPN interpreter\n",
    "application, which interprets an RPN script line by line?\n",
    "'''\n",
    "-Attaching a program counter to an RPN interpreter application can provide several benefits, including:\n",
    "\n",
    "-Improved Control Flow: A program counter allows the interpreter to keep track of which instruction is currently being executed.    \n",
    "\n",
    "-Error Handling: With a program counter, the interpreter can detect and handle errors more efficiently.\n",
    "\n",
    "-Debugging: A program counter is a valuable tool for debugging, as it allows developers to step through the script line by line\n",
    "            and see exactly what the interpreter is doing at each step.    \n",
    "\n",
    "-Optimization: By keeping track of the current instruction, the interpreter can optimize the execution of the script. "
   ]
  },
  {
   "cell_type": "code",
   "execution_count": null,
   "id": "dca029e9",
   "metadata": {},
   "outputs": [],
   "source": [
    "'''\n",
    "Q7. What are the minimum expressions or statements (or both) that you'd need to render a basic\n",
    "programming language like RPN primitive but complete— that is, capable of carrying out any\n",
    "computerised task theoretically possible?\n",
    "'''\n",
    "-Arithmetic Expressions: At a minimum, the language needs to support arithmetic expressions\n",
    "such as addition, subtraction, multiplication, and division, along with parentheses for grouping.\n",
    "\n",
    "-Conditional Statements: The language needs to include conditional statements, such as if-else\n",
    "statements or switch-case statements, to allow the program to make decisions based on specific conditions.\n",
    "\n",
    "-Loops: The language should support loops, such as while loops or for loops, to allow the program to repeat\n",
    "certain actions until a condition is met."
   ]
  }
 ],
 "metadata": {
  "kernelspec": {
   "display_name": "Python 3 (ipykernel)",
   "language": "python",
   "name": "python3"
  },
  "language_info": {
   "codemirror_mode": {
    "name": "ipython",
    "version": 3
   },
   "file_extension": ".py",
   "mimetype": "text/x-python",
   "name": "python",
   "nbconvert_exporter": "python",
   "pygments_lexer": "ipython3",
   "version": "3.9.13"
  }
 },
 "nbformat": 4,
 "nbformat_minor": 5
}
