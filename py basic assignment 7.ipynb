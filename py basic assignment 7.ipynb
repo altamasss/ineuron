{
 "cells": [
  {
   "cell_type": "code",
   "execution_count": null,
   "id": "15bdcc6f",
   "metadata": {},
   "outputs": [],
   "source": [
    "#1. What is the name of the feature responsible for generating Regex objects?\n",
    "\n",
    "The re. compile() function returns Regex objects."
   ]
  },
  {
   "cell_type": "code",
   "execution_count": null,
   "id": "a8e4479b",
   "metadata": {},
   "outputs": [],
   "source": [
    "#2. Why do raw strings often appear in Regex objects?\n",
    "\n",
    "Raw strings are used so that backslashes do not have to be escaped."
   ]
  },
  {
   "cell_type": "code",
   "execution_count": null,
   "id": "64073c11",
   "metadata": {},
   "outputs": [],
   "source": [
    "#3. What is the return value of the search() method?\n",
    "\n",
    "Search() results matching object and if search did not succeed, and there is no matching text."
   ]
  },
  {
   "cell_type": "code",
   "execution_count": null,
   "id": "e7975868",
   "metadata": {},
   "outputs": [],
   "source": [
    "#4. From a Match item, how do you get the actual strings that match the pattern?\n",
    "\n",
    "group() function returns the matched string."
   ]
  },
  {
   "cell_type": "code",
   "execution_count": null,
   "id": "08e63b6c",
   "metadata": {},
   "outputs": [],
   "source": [
    "#5. In the regex which created from the r'(\\d\\d\\d)-(\\d\\d\\d-\\d\\d\\d\\d)', what does group zero cover? Group 2? Group 1?\n",
    "\n",
    "Group 0 is the entire match, group 1 covers the first set of parentheses, and group 2 covers the second set of parentheses."
   ]
  },
  {
   "cell_type": "code",
   "execution_count": null,
   "id": "17c82266",
   "metadata": {},
   "outputs": [],
   "source": [
    "#6. In standard expression syntax, parentheses and intervals have distinct meanings. \n",
    "# How can you tell a regex that you want it to fit real parentheses and periods?\n",
    "\n",
    "Periods and parentheses can be escaped with a backslash: ., (, and )."
   ]
  },
  {
   "cell_type": "code",
   "execution_count": null,
   "id": "f573e956",
   "metadata": {},
   "outputs": [],
   "source": [
    "#7. The findall() method returns a string list or a list of string tuples. What causes it to return one of the two options?\n",
    "\n",
    "If the regex has no groups, a list of strings is returned. If the regex has groups, a list of tuples of strings is returned."
   ]
  },
  {
   "cell_type": "code",
   "execution_count": null,
   "id": "4745a330",
   "metadata": {},
   "outputs": [],
   "source": [
    "#8. In standard expressions, what does the | character mean?\n",
    "\n",
    "or symbol"
   ]
  },
  {
   "cell_type": "code",
   "execution_count": null,
   "id": "fddc69f9",
   "metadata": {},
   "outputs": [],
   "source": [
    "#9. In regular expressions, what does the character stand for?\n",
    "\n",
    "Match either of the two groups."
   ]
  },
  {
   "cell_type": "code",
   "execution_count": null,
   "id": "cfcd8001",
   "metadata": {},
   "outputs": [],
   "source": [
    "#10.In regular expressions, what is the difference between the + and * characters?\n",
    "\n",
    "+ indicates one or more occurence.\n",
    "* inducates zero or more occurence."
   ]
  },
  {
   "cell_type": "code",
   "execution_count": null,
   "id": "5b383dda",
   "metadata": {},
   "outputs": [],
   "source": [
    "#11. What is the difference between {4} and {4,5} in regular expression?\n",
    "\n",
    "{4} matches exactly 4 instances of preceding group, {4,5} matches 4 to 5 instances of preceding group."
   ]
  },
  {
   "cell_type": "code",
   "execution_count": null,
   "id": "5901b91a",
   "metadata": {},
   "outputs": [],
   "source": [
    "#12. What do you mean by the \\d, \\w, and \\s shorthand character classes signify in regular expressions?\n",
    "\n",
    "\\d matches a single digit\n",
    "\\w matches a letter or digit or underbar\n",
    "\\s matches a space charcter"
   ]
  },
  {
   "cell_type": "code",
   "execution_count": null,
   "id": "a65edc5a",
   "metadata": {},
   "outputs": [],
   "source": [
    "#13. What do means by \\D, \\W, and \\S shorthand character classes signify in regular expressions?\n",
    "\n",
    "\\D matches a single character that is not a digit\n",
    "\\W matches a single character that is not a letter or digit or underbar.\n",
    "\\S matches a charcter that is not space."
   ]
  },
  {
   "cell_type": "code",
   "execution_count": null,
   "id": "684b56bb",
   "metadata": {},
   "outputs": [],
   "source": [
    "#14. What is the difference between (.*?) and (.*)?\n",
    "\n",
    "(.*)? is greedy. It tries to match as much .* as possible.\n",
    "(.*?) is non greedy. It matches .* only once."
   ]
  },
  {
   "cell_type": "code",
   "execution_count": null,
   "id": "9a3965a9",
   "metadata": {},
   "outputs": [],
   "source": [
    "#15. What is the syntax for matching both numbers and lowercase letters with a character class?\n",
    "\n",
    "[a-z0-9]"
   ]
  },
  {
   "cell_type": "code",
   "execution_count": null,
   "id": "e038d3ae",
   "metadata": {},
   "outputs": [],
   "source": [
    "#16. What is the procedure for making a normal expression in regax case insensitive?\n",
    "\n",
    "We can pass re.IGNORECASE as a flag to make a normal expression case insensitive."
   ]
  },
  {
   "cell_type": "code",
   "execution_count": null,
   "id": "bdb9efce",
   "metadata": {},
   "outputs": [],
   "source": [
    "#17. What does the . character normally match? What does it match if re.DOTALL is passed as 2nd argument in re.compile()?\n",
    "\n",
    "Dot . character matches any character except newline character .By passing re.DOTALL as a flag to re.compile(), \n",
    "you can make the dot character match all characters, including the newline character."
   ]
  },
  {
   "cell_type": "code",
   "execution_count": null,
   "id": "c199e8d3",
   "metadata": {},
   "outputs": [],
   "source": [
    "#18. If numReg = re.compile(r'\\d+'), what will numRegex.sub('X', '11 drummers, 10 pipers, five rings, 4 hen') return?\n",
    "\n",
    "'X drummers, X pipers, five rings, X hen'"
   ]
  },
  {
   "cell_type": "code",
   "execution_count": null,
   "id": "60b8fcc3",
   "metadata": {},
   "outputs": [],
   "source": [
    "#19. What does passing re.VERBOSE as the 2nd argument to re.compile() allow to do?\n",
    "\n",
    "re.VERBOSE will allow to add whitespace and comments to string passed to re.compile()."
   ]
  }
 ],
 "metadata": {
  "kernelspec": {
   "display_name": "Python 3 (ipykernel)",
   "language": "python",
   "name": "python3"
  },
  "language_info": {
   "codemirror_mode": {
    "name": "ipython",
    "version": 3
   },
   "file_extension": ".py",
   "mimetype": "text/x-python",
   "name": "python",
   "nbconvert_exporter": "python",
   "pygments_lexer": "ipython3",
   "version": "3.9.13"
  }
 },
 "nbformat": 4,
 "nbformat_minor": 5
}
