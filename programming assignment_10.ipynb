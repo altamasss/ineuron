{
 "cells": [
  {
   "cell_type": "code",
   "execution_count": 2,
   "id": "ce39fc55",
   "metadata": {},
   "outputs": [
    {
     "data": {
      "text/plain": [
       "55"
      ]
     },
     "execution_count": 2,
     "metadata": {},
     "output_type": "execute_result"
    }
   ],
   "source": [
    "#1. Write a Python program to find sum of elements in list?\n",
    "\n",
    "def func1(l):\n",
    "    \"\"\"\n",
    "    Returns sum of elements in list assuming list contains only numbers.\n",
    "    Input\n",
    "    1 : a list\n",
    "    \"\"\"\n",
    "    s = 0\n",
    "    for i in l:\n",
    "        s = s + i\n",
    "    return s   \n",
    "\n",
    "func1([1, 2, 3, 4, 5, 6, 7, 8, 9, 10])"
   ]
  },
  {
   "cell_type": "code",
   "execution_count": 3,
   "id": "5fe1e502",
   "metadata": {},
   "outputs": [
    {
     "data": {
      "text/plain": [
       "120"
      ]
     },
     "execution_count": 3,
     "metadata": {},
     "output_type": "execute_result"
    }
   ],
   "source": [
    "#2. Write a Python program to Multiply all numbers in the list?\n",
    "\n",
    "def func2(l):\n",
    "    \"\"\"\n",
    "    Returns product of numbers in a list.\n",
    "    Input\n",
    "    1 : a list\n",
    "    \"\"\"\n",
    "    p = 1\n",
    "    for i in l:\n",
    "        if type(i) == int:\n",
    "            p = p * i\n",
    "    return p  \n",
    "\n",
    "func2([1, 2, 3, 4, 5])"
   ]
  },
  {
   "cell_type": "code",
   "execution_count": 14,
   "id": "879a2102",
   "metadata": {},
   "outputs": [
    {
     "data": {
      "text/plain": [
       "1"
      ]
     },
     "execution_count": 14,
     "metadata": {},
     "output_type": "execute_result"
    }
   ],
   "source": [
    "#3. Write a Python program to find smallest number in a list?\n",
    "\n",
    "def func3(l):\n",
    "    \"\"\"\n",
    "    Returns min element in a list assuming list contains only numbers.\n",
    "    Input\n",
    "    1 : a list\n",
    "    \"\"\"\n",
    "    return min(l) \n",
    "\n",
    "func3([1, 2, 3, 4, 5])"
   ]
  },
  {
   "cell_type": "code",
   "execution_count": 15,
   "id": "001a3503",
   "metadata": {},
   "outputs": [
    {
     "data": {
      "text/plain": [
       "5"
      ]
     },
     "execution_count": 15,
     "metadata": {},
     "output_type": "execute_result"
    }
   ],
   "source": [
    "#4. Write a Python program to find largest number in a list?\n",
    "\n",
    "def func4(l):\n",
    "    \"\"\"\n",
    "    Returns max element in a list assuming list contains only numbers.\n",
    "    Input\n",
    "    1 : a list\n",
    "    \"\"\"\n",
    "    return max(l) \n",
    "\n",
    "func4([1, 2, 3, 4, 5])"
   ]
  },
  {
   "cell_type": "code",
   "execution_count": 16,
   "id": "f2f146d4",
   "metadata": {},
   "outputs": [
    {
     "data": {
      "text/plain": [
       "4"
      ]
     },
     "execution_count": 16,
     "metadata": {},
     "output_type": "execute_result"
    }
   ],
   "source": [
    "#5. Write a Python program to find second largest number in a list?\n",
    "\n",
    "def func5(l):  \n",
    "    \"\"\"\n",
    "    Returns second largest element in a list assuming list contains only numbers.\n",
    "    Input\n",
    "    1 : a list\n",
    "    \"\"\"\n",
    "    maxNum = max(l)\n",
    "    # remove all occurences of maximum number\n",
    "    for i in range(l.count(maxNum)):\n",
    "        l.remove(maxNum)\n",
    "    # returns the next maximum number\n",
    "    return max(l)\n",
    "\n",
    "func5([1, 2, 3, 4, 5])"
   ]
  },
  {
   "cell_type": "code",
   "execution_count": 17,
   "id": "5164d612",
   "metadata": {},
   "outputs": [
    {
     "name": "stdout",
     "output_type": "stream",
     "text": [
      "5\n",
      "4\n"
     ]
    }
   ],
   "source": [
    "#6. Write a Python program to find N largest elements from a list?\n",
    "\n",
    "def func6(l, N):\n",
    "    \"\"\"\n",
    "    Returns N largest elements in a list assuming list contains only numbers.\n",
    "    Input\n",
    "    1 : a list\n",
    "    N : Number of largest elements to be displayed\n",
    "    \"\"\"\n",
    "    for i in range(N):\n",
    "        maxNum = max(l)\n",
    "        print(maxNum)\n",
    "        # remove all occurences of maximum number\n",
    "        for i in range(l.count(maxNum)):\n",
    "            l.remove(maxNum)\n",
    "            \n",
    "func6([1, 2, 3, 4, 5], 2)"
   ]
  },
  {
   "cell_type": "code",
   "execution_count": 19,
   "id": "227817f1",
   "metadata": {},
   "outputs": [
    {
     "name": "stdout",
     "output_type": "stream",
     "text": [
      "2\n",
      "4\n",
      "6\n"
     ]
    }
   ],
   "source": [
    "#7. Write a Python program to print even numbers in a list?\n",
    "\n",
    "def func7(l):\n",
    "    \"\"\"\n",
    "    Prints even numbers in a list assuming list contains only numbers.\n",
    "    Input\n",
    "    1 : a list\n",
    "    \"\"\"\n",
    "    for i in l:\n",
    "        if i%2 == 0:\n",
    "          print(i)\n",
    "        \n",
    "func7([1, 2, 3, 4, 5, 6])"
   ]
  },
  {
   "cell_type": "code",
   "execution_count": 20,
   "id": "637de56f",
   "metadata": {},
   "outputs": [
    {
     "name": "stdout",
     "output_type": "stream",
     "text": [
      "1\n",
      "3\n",
      "5\n"
     ]
    }
   ],
   "source": [
    "#8. Write a Python program to print odd numbers in a List?\n",
    "\n",
    "def func8(l):\n",
    "    \"\"\"\n",
    "    Prints odd numbers in a list assuming list contains only numbers.\n",
    "    Input\n",
    "    1 : a list\n",
    "    \"\"\"\n",
    "    for i in l:\n",
    "        if i%2 == 1:\n",
    "          print(i)\n",
    "        \n",
    "func8([1, 2, 3, 4, 5, 6])"
   ]
  },
  {
   "cell_type": "code",
   "execution_count": 21,
   "id": "cf470acd",
   "metadata": {},
   "outputs": [
    {
     "name": "stdout",
     "output_type": "stream",
     "text": [
      "[1, 2, 3, 4, 5, 6, 7, 8, 9]\n"
     ]
    }
   ],
   "source": [
    "#9. Write a Python program to Remove empty List from List?\n",
    "\n",
    "def func9(l):\n",
    "    \"\"\"\n",
    "    Returns a list after removing an empty lists if present.\n",
    "    Input\n",
    "    1 : a list\n",
    "    \"\"\"\n",
    "    for i in l:\n",
    "        if i == []:\n",
    "          l.remove(i)\n",
    "    print(l)\n",
    "    \n",
    "func9([1, 2, 3, 4, 5, [], 6, 7, 8, [],9])"
   ]
  },
  {
   "cell_type": "code",
   "execution_count": 22,
   "id": "cfa58842",
   "metadata": {},
   "outputs": [
    {
     "data": {
      "text/plain": [
       "[1, 2, 3, 4, 5, 6]"
      ]
     },
     "execution_count": 22,
     "metadata": {},
     "output_type": "execute_result"
    }
   ],
   "source": [
    "#10. Write a Python program to Cloning or Copying a list?\n",
    "\n",
    "def func10(l):\n",
    "    \"\"\"\n",
    "    Returns a copy of the list.\n",
    "    Input\n",
    "    1 : a list\n",
    "    \"\"\"\n",
    "    l1 = l.copy()\n",
    "    return l1\n",
    "\n",
    "func10([1, 2, 3, 4, 5, 6])"
   ]
  },
  {
   "cell_type": "code",
   "execution_count": 24,
   "id": "087a76d3",
   "metadata": {},
   "outputs": [
    {
     "data": {
      "text/plain": [
       "3"
      ]
     },
     "execution_count": 24,
     "metadata": {},
     "output_type": "execute_result"
    }
   ],
   "source": [
    "#11. Write a Python program to Count occurrences of an element in a list?\n",
    "\n",
    "def func11(l, n):\n",
    "    \"\"\"\n",
    "    Returns number of occurences of the element passed.\n",
    "    Input\n",
    "    1 : a list\n",
    "    n : element whose count will be returned\n",
    "    \"\"\"\n",
    "    return l.count(n)\n",
    "\n",
    "func11([1, 2, 2, 2, 3, 4, 5], 2)"
   ]
  }
 ],
 "metadata": {
  "kernelspec": {
   "display_name": "Python 3 (ipykernel)",
   "language": "python",
   "name": "python3"
  },
  "language_info": {
   "codemirror_mode": {
    "name": "ipython",
    "version": 3
   },
   "file_extension": ".py",
   "mimetype": "text/x-python",
   "name": "python",
   "nbconvert_exporter": "python",
   "pygments_lexer": "ipython3",
   "version": "3.9.13"
  }
 },
 "nbformat": 4,
 "nbformat_minor": 5
}
