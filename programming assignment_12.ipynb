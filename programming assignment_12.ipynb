{
 "cells": [
  {
   "cell_type": "code",
   "execution_count": 1,
   "id": "4e87b388",
   "metadata": {},
   "outputs": [
    {
     "data": {
      "text/plain": [
       "{1, 2, 3, 'a', 'b'}"
      ]
     },
     "execution_count": 1,
     "metadata": {},
     "output_type": "execute_result"
    }
   ],
   "source": [
    "#1. Write a Python program to Extract Unique values dictionary values.\n",
    "\n",
    "d = {\n",
    "    'a': 1,\n",
    "    'b': 2,\n",
    "    'c': 3,\n",
    "    'd': 1,\n",
    "    'e': 2,\n",
    "    4: 'a',\n",
    "    5: 'b',\n",
    "    6: 'a'\n",
    "}\n",
    "unique_values = set(d.values())\n",
    "unique_values"
   ]
  },
  {
   "cell_type": "code",
   "execution_count": 3,
   "id": "13883b8d",
   "metadata": {},
   "outputs": [
    {
     "data": {
      "text/plain": [
       "27"
      ]
     },
     "execution_count": 3,
     "metadata": {},
     "output_type": "execute_result"
    }
   ],
   "source": [
    "# 2. Write a Python program to find the sum of all items in a dictionary.\n",
    "\n",
    "d = {\n",
    "    'a': 1,\n",
    "    'b': 2,\n",
    "    'c': 6,\n",
    "    'd': 1,\n",
    "    'e': 2,\n",
    "    4: 'a',\n",
    "    5: 'b',\n",
    "    6: 'a'\n",
    "}\n",
    "sum = 0\n",
    "for elem in d:\n",
    "    if type(elem)==int:\n",
    "        sum += elem\n",
    "    if type(d[elem])==int:\n",
    "        sum += d[elem]\n",
    "sum"
   ]
  },
  {
   "cell_type": "code",
   "execution_count": 4,
   "id": "6c032663",
   "metadata": {},
   "outputs": [
    {
     "data": {
      "text/plain": [
       "{'a': 4, 'b': 2, 'c': 4, 'd': 1}"
      ]
     },
     "execution_count": 4,
     "metadata": {},
     "output_type": "execute_result"
    }
   ],
   "source": [
    "# 3. Write a Python program to Merging two Dictionaries.\n",
    "\n",
    "d1 = {'a': 1,\n",
    "     'b': 2,\n",
    "     'c': 4}\n",
    "d2 = {'d': 1,\n",
    "     'b': 2,\n",
    "     'a': 4}\n",
    "d1.update(d2)\n",
    "d1"
   ]
  },
  {
   "cell_type": "code",
   "execution_count": 5,
   "id": "d500ba1c",
   "metadata": {},
   "outputs": [
    {
     "data": {
      "text/plain": [
       "{1: 'a', 2: 'b', 3: 'c', 4: 'd'}"
      ]
     },
     "execution_count": 5,
     "metadata": {},
     "output_type": "execute_result"
    }
   ],
   "source": [
    "# 4. Write a Python program to convert key-values list to flat dictionary.\n",
    "\n",
    "d = {'a': [1, 2, 3, 4],\n",
    "     'b': ['a', 'b', 'c', 'd']}\n",
    "flat_dict = {}\n",
    "t = zip(d['a'], d['b'])\n",
    "dict(t)"
   ]
  },
  {
   "cell_type": "code",
   "execution_count": 6,
   "id": "e7e6761b",
   "metadata": {},
   "outputs": [
    {
     "data": {
      "text/plain": [
       "OrderedDict([('two', 2), ('zero', 0), ('one', 1)])"
      ]
     },
     "execution_count": 6,
     "metadata": {},
     "output_type": "execute_result"
    }
   ],
   "source": [
    "# 5. Write a Python program to insertion at the beginning in OrderedDict.\n",
    "\n",
    "from collections import OrderedDict\n",
    "\n",
    "d = OrderedDict([('zero', 0), ('one', 1)])\n",
    "\n",
    "d.update({'two': 2})\n",
    "d.move_to_end('two', last=False)\n",
    "\n",
    "d"
   ]
  },
  {
   "cell_type": "code",
   "execution_count": 7,
   "id": "192e510d",
   "metadata": {},
   "outputs": [
    {
     "data": {
      "text/plain": [
       "OrderedDict([(0, 'P'), (1, 'y'), (2, 't'), (3, 'h'), (4, 'o'), (5, 'n')])"
      ]
     },
     "execution_count": 7,
     "metadata": {},
     "output_type": "execute_result"
    }
   ],
   "source": [
    "# 6. Write a Python program to check order of character in string using OrderedDict().\n",
    "\n",
    "from collections import OrderedDict\n",
    "\n",
    "d = OrderedDict(enumerate(\"Python\"))\n",
    "d"
   ]
  },
  {
   "cell_type": "code",
   "execution_count": 8,
   "id": "40e6e697",
   "metadata": {},
   "outputs": [
    {
     "data": {
      "text/plain": [
       "OrderedDict([('a', 1), ('b', 3), ('c', 2), ('d', 2), ('e', 1)])"
      ]
     },
     "execution_count": 8,
     "metadata": {},
     "output_type": "execute_result"
    }
   ],
   "source": [
    "#7. Write a Python program to sort Python Dictionaries by Key or Value.\n",
    "\n",
    "d = {\n",
    "    'a': 1,\n",
    "    'c': 2,\n",
    "    'b': 3,\n",
    "    'e': 1,\n",
    "    'd': 2\n",
    "}\n",
    "keys = list(d.keys())\n",
    "keys.sort()\n",
    "d1 = OrderedDict()\n",
    "for i in keys:\n",
    "    d1[i] = d[i]\n",
    "d1"
   ]
  }
 ],
 "metadata": {
  "kernelspec": {
   "display_name": "Python 3 (ipykernel)",
   "language": "python",
   "name": "python3"
  },
  "language_info": {
   "codemirror_mode": {
    "name": "ipython",
    "version": 3
   },
   "file_extension": ".py",
   "mimetype": "text/x-python",
   "name": "python",
   "nbconvert_exporter": "python",
   "pygments_lexer": "ipython3",
   "version": "3.9.13"
  }
 },
 "nbformat": 4,
 "nbformat_minor": 5
}
