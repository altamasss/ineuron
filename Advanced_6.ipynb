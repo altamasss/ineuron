{
 "cells": [
  {
   "cell_type": "code",
   "execution_count": null,
   "id": "061b534c",
   "metadata": {},
   "outputs": [],
   "source": [
    "# 1. Describe three applications for exception processing.\n",
    "\n",
    "1. The code can be executed without any interruption. \n",
    "2. Something can eb done to handle the error and thus enable us to continue program execution.\n",
    "3. Sufficient message can be given to user without termination of program execution."
   ]
  },
  {
   "cell_type": "code",
   "execution_count": null,
   "id": "8c20a8f1",
   "metadata": {},
   "outputs": [],
   "source": [
    "# 2. What happens if you don't do something extra to treat an exception?\n",
    "\n",
    "Code execution will be interrupted."
   ]
  },
  {
   "cell_type": "code",
   "execution_count": null,
   "id": "6b2166b6",
   "metadata": {},
   "outputs": [],
   "source": [
    "# 3. What are your options for recovering from an exception in your script?\n",
    "\n",
    "1. For anticipated exceptions, one may use try catch blocks.\n",
    "2. Recovery functions may be written to recover form exeptions and call it in the except block.\n",
    "3. A finally block which gets executed after the try block was successfully executed or a thrown exception was handled."
   ]
  },
  {
   "cell_type": "code",
   "execution_count": null,
   "id": "8a933d80",
   "metadata": {},
   "outputs": [],
   "source": [
    "# 4. Describe two methods for triggering exceptions in your script.\n",
    "\n",
    "1. An exception gets raised automatically when the code is inside try catch block and an error occurs.\n",
    "2. As a Python developer we can also choose to throw an exception if a condition occurs by using the raise keyword."
   ]
  },
  {
   "cell_type": "code",
   "execution_count": null,
   "id": "f717c36a",
   "metadata": {},
   "outputs": [],
   "source": [
    "# 5. Identify two methods for specifying actions to be executed at termination time, \n",
    "# regardless of whether or not an exception exists.\n",
    "\n",
    "\n",
    "The optional else clause contains codes to be executed if no exception occurs.\n",
    "The optional finally block contains codes to be executed irrespective of whether an exception occurs or not."
   ]
  }
 ],
 "metadata": {
  "kernelspec": {
   "display_name": "Python 3 (ipykernel)",
   "language": "python",
   "name": "python3"
  },
  "language_info": {
   "codemirror_mode": {
    "name": "ipython",
    "version": 3
   },
   "file_extension": ".py",
   "mimetype": "text/x-python",
   "name": "python",
   "nbconvert_exporter": "python",
   "pygments_lexer": "ipython3",
   "version": "3.9.13"
  }
 },
 "nbformat": 4,
 "nbformat_minor": 5
}
