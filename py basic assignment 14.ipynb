{
 "cells": [
  {
   "cell_type": "code",
   "execution_count": null,
   "id": "cb13bc25",
   "metadata": {},
   "outputs": [],
   "source": [
    "#1. What does RGBA stand for?\n",
    "\n",
    "Ans:\n",
    "RGBA: Red-Green-Blue-Alpha"
   ]
  },
  {
   "cell_type": "code",
   "execution_count": null,
   "id": "4220cd9b",
   "metadata": {},
   "outputs": [],
   "source": [
    "#2.From the Pillow module, how do you get the RGBA value of any images?\n",
    "\n",
    "Ans:\n",
    "from PIL import ImageColor\n",
    "\n",
    "ImageColor.getcolor(color_name, 'RGBA')"
   ]
  },
  {
   "cell_type": "code",
   "execution_count": null,
   "id": "59759aff",
   "metadata": {},
   "outputs": [],
   "source": [
    "#3.What is a box tuple, and how does it work?\n",
    "\n",
    "Ans:\n",
    "Many Pillow's function take box tuple argument. \n",
    "This means pillow is taking a tuple of four integer coordinates that expecting a rectangular region in image. \n",
    "The four integers are in order left, top, right, bottom."
   ]
  },
  {
   "cell_type": "code",
   "execution_count": null,
   "id": "53e5a2ca",
   "metadata": {},
   "outputs": [],
   "source": [
    "#4.Use your image and load in notebook then, How can you find out the width and height of an Image object?\n",
    "\n",
    "from PIL import Image\n",
    "im=Image.open(\"image.jpg\")\n",
    "width, height = im.size\n",
    "print(\"width=\", width)\n",
    "print(\"height=\", height)"
   ]
  },
  {
   "cell_type": "code",
   "execution_count": null,
   "id": "dd3f7ae4",
   "metadata": {},
   "outputs": [],
   "source": [
    "#5.What method would you call to get Image object for a 100×100 image, excluding the lower-left quarter of it?\n",
    "\n",
    "Ans:\n",
    "    \n",
    "from PIL import Image\n",
    "\n",
    "Image.new('RGBA', (100,100))"
   ]
  },
  {
   "cell_type": "code",
   "execution_count": null,
   "id": "a52eede7",
   "metadata": {},
   "outputs": [],
   "source": [
    "#6.After making changes to an Image object, how could you save it as an image file?\n",
    "\n",
    "Ans:\n",
    "save(filename)"
   ]
  },
  {
   "cell_type": "code",
   "execution_count": null,
   "id": "4b6c75e2",
   "metadata": {},
   "outputs": [],
   "source": [
    "#7.What module contains Pillow’s shape-drawing code?\n",
    "\n",
    "Ans:\n",
    "ImageDraw"
   ]
  },
  {
   "cell_type": "code",
   "execution_count": null,
   "id": "a42d3b83",
   "metadata": {},
   "outputs": [],
   "source": [
    "#8.Image objects do not have drawing methods. What kind of object does? How do you get this kind of object?\n",
    "\n",
    "Ans:\n",
    "\n",
    "from wand.drawing import Drawing"
   ]
  }
 ],
 "metadata": {
  "kernelspec": {
   "display_name": "Python 3 (ipykernel)",
   "language": "python",
   "name": "python3"
  },
  "language_info": {
   "codemirror_mode": {
    "name": "ipython",
    "version": 3
   },
   "file_extension": ".py",
   "mimetype": "text/x-python",
   "name": "python",
   "nbconvert_exporter": "python",
   "pygments_lexer": "ipython3",
   "version": "3.9.13"
  }
 },
 "nbformat": 4,
 "nbformat_minor": 5
}
