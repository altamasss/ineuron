{
 "cells": [
  {
   "cell_type": "code",
   "execution_count": null,
   "id": "f99b8592",
   "metadata": {},
   "outputs": [],
   "source": [
    "'''\n",
    "Q1. What is a probability distribution, exactly? If the values are meant to be random, how can you predict them at all ?\n",
    "'''\n",
    "\n",
    "Ans: A probability distribution describes how a random variable is distributed.\n",
    "\n",
    "It tells us which values a random variable is most likely to take on and which values are less likely. \n",
    "Based on the previous data and the occurences of the random event, we can predict the outcome in terms of probabilities."
   ]
  },
  {
   "cell_type": "code",
   "execution_count": null,
   "id": "bbacac82",
   "metadata": {},
   "outputs": [],
   "source": [
    "'''\n",
    "Q2. Is there a distinction between true random numbers and pseudo-random numbers, \n",
    "if there is one? Why are the latter considered “good enough”?\n",
    "'''\n",
    "\n",
    "Ans: : True Random Numbers are true physical values while pseudo-random numbers are generated internally by a program .\n",
    "        Latter is considered good enough as they have sort of uniform distribution.\n",
    "        "
   ]
  },
  {
   "cell_type": "code",
   "execution_count": null,
   "id": "5d210ea1",
   "metadata": {},
   "outputs": [],
   "source": [
    "'''\n",
    "Q3. What are the two main factors that influence the behaviour of a \"normal\" probability distribution ?\n",
    "'''\n",
    "\n",
    "Ans: Normal Probability Distribution are influenced by two factors mean and the variance."
   ]
  },
  {
   "cell_type": "code",
   "execution_count": null,
   "id": "a4dd2d85",
   "metadata": {},
   "outputs": [],
   "source": [
    "'''\n",
    "Q4. Provide a real-life example of a normal distribution ?\n",
    "\n",
    "'''\n",
    "Ans: A Real-life example of a normal distribution are heights or blood pressure measurements\n",
    "\n"
   ]
  },
  {
   "cell_type": "code",
   "execution_count": null,
   "id": "3925bbbe",
   "metadata": {},
   "outputs": [],
   "source": [
    "'''\n",
    "Q5. In the short term, how can you expect a probability distribution to behave? \n",
    "What do you think will happen as the number of trials grows ?\n",
    "'''\n",
    "\n",
    "Ans: Variance will decrease with number of trials"
   ]
  },
  {
   "cell_type": "code",
   "execution_count": null,
   "id": "2a323d00",
   "metadata": {},
   "outputs": [],
   "source": [
    "'''\n",
    "Q6. What kind of object can be shuffled by using random.shuffle ?\n",
    "'''\n",
    "Ans: lists (list), strings (str) and tuples (tuple) objects can be shuffled by using random.shuffle."
   ]
  },
  {
   "cell_type": "code",
   "execution_count": null,
   "id": "a4e773a4",
   "metadata": {},
   "outputs": [],
   "source": [
    "'''\n",
    "Q7. Describe the math package's general categories of functions ?\n",
    "'''\n",
    "Ans: The Math package's general categories of functions are:\n",
    "\n",
    "Trigonometric functions\n",
    "Quadratic functions\n",
    "Exponential functions\n",
    "Hyperbolic functions\n",
    "Periodic functions\n",
    "Arithmetic functions\n",
    "Logarithimic functions\n",
    "Conversions to Integer"
   ]
  },
  {
   "cell_type": "code",
   "execution_count": null,
   "id": "225eb5b9",
   "metadata": {},
   "outputs": [],
   "source": [
    "'''\n",
    "Q8. What is the relationship between exponentiation and logarithms ?\n",
    "'''\n",
    "\n",
    "Ans: Exponentiation and logarithms are inverse of each other.\n",
    "\n"
   ]
  },
  {
   "cell_type": "code",
   "execution_count": null,
   "id": "8a77a2c8",
   "metadata": {},
   "outputs": [],
   "source": [
    "'''\n",
    "Q9. What are the three logarithmic functions that Python supports ?\n",
    "'''\n",
    "Ans: The Three Logarithmic Functions that Python supports are:\n",
    "\n",
    "log2(x) - logarithmic value of x to base 2\n",
    "log10(x) - logarithmic value of x to base 10\n",
    "log1p(a) - This function is used to compute logarithm(1+a) ."
   ]
  }
 ],
 "metadata": {
  "kernelspec": {
   "display_name": "Python 3 (ipykernel)",
   "language": "python",
   "name": "python3"
  },
  "language_info": {
   "codemirror_mode": {
    "name": "ipython",
    "version": 3
   },
   "file_extension": ".py",
   "mimetype": "text/x-python",
   "name": "python",
   "nbconvert_exporter": "python",
   "pygments_lexer": "ipython3",
   "version": "3.9.13"
  }
 },
 "nbformat": 4,
 "nbformat_minor": 5
}
