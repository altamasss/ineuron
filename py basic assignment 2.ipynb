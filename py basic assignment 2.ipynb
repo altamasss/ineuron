{
 "cells": [
  {
   "cell_type": "markdown",
   "id": "a845b98b",
   "metadata": {},
   "source": [
    "# 1.What are the two values of the Boolean data type? How do you write them?"
   ]
  },
  {
   "cell_type": "code",
   "execution_count": null,
   "id": "5a118738",
   "metadata": {},
   "outputs": [],
   "source": [
    "0 for False\n",
    "1 for True"
   ]
  },
  {
   "cell_type": "markdown",
   "id": "bbfa65ed",
   "metadata": {},
   "source": [
    "# 2. What are the three different types of Boolean operators?"
   ]
  },
  {
   "cell_type": "code",
   "execution_count": null,
   "id": "336b9830",
   "metadata": {},
   "outputs": [],
   "source": [
    "and , or , not"
   ]
  },
  {
   "cell_type": "markdown",
   "id": "6688040c",
   "metadata": {},
   "source": [
    "# 3. Make a list of each Boolean operator's truth tables\n",
    "(i.e. every possible combination of Boolean values for the operator and what it evaluate )."
   ]
  },
  {
   "cell_type": "code",
   "execution_count": null,
   "id": "3eb0c29d",
   "metadata": {},
   "outputs": [],
   "source": [
    "# AND operator:\n",
    "#The AND operator returns \"True\" only if both operands are \"True\". Otherwise, it returns \"False\".  \n",
    "\n",
    "Operand 1\tOperand 2\tResult\n",
    "False\t      False\t     False\n",
    "False\t      True\t     False\n",
    "True\t      False\t     False\n",
    "True\t      True\t     True\n",
    "\n",
    "\n",
    "#OR operator:\n",
    "#The OR operator returns \"True\" if at least one of the operands is \"True\". If both operands are \"False\", it returns \"False\".\n",
    "\n",
    "Operand 1\tOperand 2\tResult\n",
    "False\t     False\t    False\n",
    "False\t     True\t    True\n",
    "True\t     False\t    True\n",
    "True\t     True\t    True\n",
    "\n",
    "\n",
    "#NOT operator:\n",
    "#The NOT operator returns the opposite of the operand. If the operand is \"True\", it returns \"False\", and if the operand is \"False\", it returns \"True\".\n",
    "\n",
    "Operand\t    Result\n",
    "False\t    True\n",
    "True\t    False"
   ]
  },
  {
   "cell_type": "markdown",
   "id": "940e4b63",
   "metadata": {},
   "source": [
    "# 4. What are the values of the following expressions?"
   ]
  },
  {
   "cell_type": "code",
   "execution_count": null,
   "id": "045388e7",
   "metadata": {},
   "outputs": [],
   "source": [
    "Expression                             Value\n",
    "(5 > 4) and (3 == 5)                   False\n",
    "not (5 > 4)                            False\n",
    "(5 > 4) or (3 == 5)                    True\n",
    "not ((5 > 4) or (3 == 5))              False\n",
    "(True and True) and (True == False)    False\n",
    "(not False) or (not True)              True\n"
   ]
  },
  {
   "cell_type": "markdown",
   "id": "5ed5bf6f",
   "metadata": {},
   "source": [
    "# 5. What are the six comparison operators?"
   ]
  },
  {
   "cell_type": "code",
   "execution_count": null,
   "id": "b8f44f01",
   "metadata": {},
   "outputs": [],
   "source": [
    "The six comparison operators are\n",
    "\n",
    ">\n",
    "<\n",
    ">=\n",
    "<=\n",
    "==\n",
    "!="
   ]
  },
  {
   "cell_type": "markdown",
   "id": "314aaad8",
   "metadata": {},
   "source": [
    "# 6. How do you tell the difference between the equal to and assignment operators?Describe a condition and when you would use one."
   ]
  },
  {
   "cell_type": "markdown",
   "id": "26645c08",
   "metadata": {},
   "source": [
    "An equal to operator is == \n",
    "AN assignment operator is =\n",
    "When you want to compare two values for equality we use equal to(==) operator \n",
    "where as to assign some values to a variable we use assignment operator(=)."
   ]
  },
  {
   "cell_type": "markdown",
   "id": "79de9380",
   "metadata": {},
   "source": [
    "# 7. Identify the three blocks in this code:"
   ]
  },
  {
   "cell_type": "code",
   "execution_count": 2,
   "id": "703cf3d0",
   "metadata": {},
   "outputs": [
    {
     "name": "stdout",
     "output_type": "stream",
     "text": [
      "ham\n",
      "spam\n",
      "spam\n"
     ]
    }
   ],
   "source": [
    "spam = 0\n",
    "\n",
    "# block 1\n",
    "if spam == 10: \n",
    "    print('eggs')\n",
    "    \n",
    "# block 2   \n",
    "if spam > 5:   \n",
    "    print('bacon') \n",
    "    \n",
    "# block 3   \n",
    "else:\n",
    "    print('ham') \n",
    "    print('spam')\n",
    "    print('spam')"
   ]
  },
  {
   "cell_type": "markdown",
   "id": "7936bbf9",
   "metadata": {},
   "source": [
    "# 8. Write code that prints Hello if 1 is stored in spam, prints Howdy if 2 is        stored in spam, and prints Greetings! if anything else is stored in spam."
   ]
  },
  {
   "cell_type": "code",
   "execution_count": null,
   "id": "0242c574",
   "metadata": {},
   "outputs": [],
   "source": [
    "spam = int(input())\n",
    "if spam == 1:\n",
    "    print(\"Hello\")\n",
    "elif spam == 2:\n",
    "    print(\"Howdy\")\n",
    "else:\n",
    "    print(\"Greetings!\")"
   ]
  },
  {
   "cell_type": "markdown",
   "id": "919678ab",
   "metadata": {},
   "source": [
    "# 9.If your programme is stuck in an endless loop, what keys you’ll press?"
   ]
  },
  {
   "cell_type": "code",
   "execution_count": null,
   "id": "dd169dad",
   "metadata": {},
   "outputs": [],
   "source": [
    "ctrl + c"
   ]
  },
  {
   "cell_type": "markdown",
   "id": "f8b7be95",
   "metadata": {},
   "source": [
    "# 10. How can you tell the difference between break and continue?"
   ]
  },
  {
   "cell_type": "markdown",
   "id": "f96b1122",
   "metadata": {},
   "source": [
    "'break' ends the current loop.\n",
    "'continue' skips the remaining lines of the loop and continues with the next iteration."
   ]
  },
  {
   "cell_type": "markdown",
   "id": "d9c05440",
   "metadata": {},
   "source": [
    "# 11. In a for loop, what is the difference between range(10), range(0, 10), and range(0, 10, 1)?"
   ]
  },
  {
   "cell_type": "markdown",
   "id": "dc6a056a",
   "metadata": {},
   "source": [
    "there is no difference all will generate same output"
   ]
  },
  {
   "cell_type": "markdown",
   "id": "41d6ba16",
   "metadata": {},
   "source": [
    "# 12. Write a short program that prints the numbers 1 to 10 using a for loop. Then write an equivalent program that prints the numbers 1 to 10 using a while loop."
   ]
  },
  {
   "cell_type": "code",
   "execution_count": 3,
   "id": "9c00e11b",
   "metadata": {},
   "outputs": [
    {
     "name": "stdout",
     "output_type": "stream",
     "text": [
      "1\n",
      "2\n",
      "3\n",
      "4\n",
      "5\n",
      "6\n",
      "7\n",
      "8\n",
      "9\n",
      "10\n"
     ]
    }
   ],
   "source": [
    "for i in range(1,11):\n",
    "    print(i)"
   ]
  },
  {
   "cell_type": "code",
   "execution_count": 4,
   "id": "7188f0db",
   "metadata": {},
   "outputs": [
    {
     "name": "stdout",
     "output_type": "stream",
     "text": [
      "1\n",
      "2\n",
      "3\n",
      "4\n",
      "5\n",
      "6\n",
      "7\n",
      "8\n",
      "9\n",
      "10\n"
     ]
    }
   ],
   "source": [
    "i = 1\n",
    "while i <= 10:\n",
    "    print(i)\n",
    "    i += 1"
   ]
  },
  {
   "cell_type": "markdown",
   "id": "572c3bcb",
   "metadata": {},
   "source": [
    "# 13. If you had a function named bacon() inside a module named spam, how would you call it after importing spam?"
   ]
  },
  {
   "cell_type": "code",
   "execution_count": null,
   "id": "251d8853",
   "metadata": {},
   "outputs": [],
   "source": [
    "spam.bacon()"
   ]
  }
 ],
 "metadata": {
  "kernelspec": {
   "display_name": "Python 3 (ipykernel)",
   "language": "python",
   "name": "python3"
  },
  "language_info": {
   "codemirror_mode": {
    "name": "ipython",
    "version": 3
   },
   "file_extension": ".py",
   "mimetype": "text/x-python",
   "name": "python",
   "nbconvert_exporter": "python",
   "pygments_lexer": "ipython3",
   "version": "3.9.13"
  }
 },
 "nbformat": 4,
 "nbformat_minor": 5
}
