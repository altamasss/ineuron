{
 "cells": [
  {
   "cell_type": "code",
   "execution_count": 1,
   "id": "1e956773",
   "metadata": {},
   "outputs": [
    {
     "data": {
      "text/plain": [
       "[1, 2, 3, 40]"
      ]
     },
     "execution_count": 1,
     "metadata": {},
     "output_type": "execute_result"
    }
   ],
   "source": [
    "'''\n",
    "1.\n",
    "Create a function that takes an integer and returns a list from 1 to the given number, where:\n",
    "If the number can be divided evenly by 4, amplify it by 10 (i.e. return 10 times the number).\n",
    "If the number cannot be divided evenly by 4, simply return the number.\n",
    "'''\n",
    "\n",
    "def amplify(num):\n",
    "    \"\"\"\n",
    "    Returns a list from 1 to the given number where\n",
    "    1. If the number can be divided evenly by 4, amplify it by 10 (i.e. return 10 times the number).\n",
    "    2. If the number cannot be divided evenly by 4, simply return the number\n",
    "    \n",
    "    Input\n",
    "    num: the number \n",
    "    \"\"\"\n",
    "    return [i * 10 if i%4 == 0 else i for i in range(1, num+1)]\n",
    "amplify(4)"
   ]
  },
  {
   "cell_type": "code",
   "execution_count": 2,
   "id": "514aa475",
   "metadata": {},
   "outputs": [
    {
     "data": {
      "text/plain": [
       "[1, 2, 3]"
      ]
     },
     "execution_count": 2,
     "metadata": {},
     "output_type": "execute_result"
    }
   ],
   "source": [
    "amplify(3)"
   ]
  },
  {
   "cell_type": "code",
   "execution_count": 3,
   "id": "e89c3c2e",
   "metadata": {},
   "outputs": [
    {
     "data": {
      "text/plain": [
       "7"
      ]
     },
     "execution_count": 3,
     "metadata": {},
     "output_type": "execute_result"
    }
   ],
   "source": [
    "'''\n",
    "2.\n",
    "Create a function that takes a list of numbers and return the number that's unique.\n",
    "'''\n",
    "\n",
    "def unique(l):\n",
    "    \"\"\"\n",
    "    Takes a list of numbers and return the number that's unique.\n",
    "    Input\n",
    "    l: a list\n",
    "    \"\"\"\n",
    "    s = set(l)\n",
    "    for n in s:\n",
    "        if l.count(n)==1:\n",
    "            return n\n",
    "unique([3, 3, 3, 7, 3, 3])"
   ]
  },
  {
   "cell_type": "code",
   "execution_count": 4,
   "id": "fdaccdf7",
   "metadata": {},
   "outputs": [
    {
     "data": {
      "text/plain": [
       "0.77"
      ]
     },
     "execution_count": 4,
     "metadata": {},
     "output_type": "execute_result"
    }
   ],
   "source": [
    "unique([0, 0, 0.77, 0, 0])"
   ]
  },
  {
   "cell_type": "code",
   "execution_count": 5,
   "id": "4b3e83d9",
   "metadata": {},
   "outputs": [
    {
     "data": {
      "text/plain": [
       "0"
      ]
     },
     "execution_count": 5,
     "metadata": {},
     "output_type": "execute_result"
    }
   ],
   "source": [
    "unique([0, 1, 1, 1, 1, 1, 1, 1])"
   ]
  },
  {
   "cell_type": "code",
   "execution_count": 6,
   "id": "8352e627",
   "metadata": {},
   "outputs": [
    {
     "data": {
      "text/plain": [
       "380.132711084365"
      ]
     },
     "execution_count": 6,
     "metadata": {},
     "output_type": "execute_result"
    }
   ],
   "source": [
    "'''\n",
    "3.\n",
    "Your task is to create a Circle constructor that creates a circle with a radius provided by an argument. \n",
    "The circles constructed must have two getters getArea() (PIr^2) and getPerimeter() (2PI*r) \n",
    "which give both respective areas and perimeter (circumference).\n",
    "'''\n",
    "\n",
    "import math\n",
    "\n",
    "class Circle:\n",
    "    \"\"\"\n",
    "    A Circle class\n",
    "    \"\"\"\n",
    "    def __init__(self, r):\n",
    "        \"\"\"\n",
    "        Circle constructor\n",
    "        Input\n",
    "        r: radius\n",
    "        \"\"\"\n",
    "        self.radius = r\n",
    "        self.PI = math.pi\n",
    "        \n",
    "    def getArea(self):\n",
    "        \"\"\"\n",
    "        Returns area of circle\n",
    "        \"\"\"\n",
    "        return self.PI * self.radius**2\n",
    "    \n",
    "    def getPerimeter(self):\n",
    "        \"\"\"\n",
    "        Returns perimeter of circle\n",
    "        \"\"\"\n",
    "        return 2*self.PI*self.radius\n",
    "circy = Circle(11)\n",
    "circy.getArea()   "
   ]
  },
  {
   "cell_type": "code",
   "execution_count": 7,
   "id": "341fafe4",
   "metadata": {},
   "outputs": [
    {
     "data": {
      "text/plain": [
       "27.897342763877365"
      ]
     },
     "execution_count": 7,
     "metadata": {},
     "output_type": "execute_result"
    }
   ],
   "source": [
    "circy = Circle(4.44)\n",
    "circy.getPerimeter()"
   ]
  },
  {
   "cell_type": "code",
   "execution_count": 8,
   "id": "98af42cf",
   "metadata": {},
   "outputs": [
    {
     "data": {
      "text/plain": [
       "['Apple', 'Google', 'Microsoft']"
      ]
     },
     "execution_count": 8,
     "metadata": {},
     "output_type": "execute_result"
    }
   ],
   "source": [
    "'''\n",
    "4.\n",
    "Create a function that takes a list of strings and return a list, sorted from shortest to longest.\n",
    "'''\n",
    "\n",
    "def sort_by_length(l):\n",
    "    \"\"\"\n",
    "    Return a list of strings, sorted from shortest to longest\n",
    "    Input\n",
    "    l: A list of strings\n",
    "    \"\"\"\n",
    "    # create a list of lengths\n",
    "    l2 = [len(word) for word in l]\n",
    "    sortedList = []\n",
    "    for i in range(len(l)):\n",
    "        # get minimum length\n",
    "        minlen = min(l2)\n",
    "        i = l2.index(minlen)\n",
    "        # get min length word corresponding to min length\n",
    "        minword = l[i]\n",
    "        # append to a new list\n",
    "        sortedList.append(minword)\n",
    "        # remove current minlength and minword\n",
    "        l2.remove(minlen)\n",
    "        l.remove(minword)\n",
    "    return sortedList\n",
    "sort_by_length([\"Google\", \"Apple\", \"Microsoft\"])"
   ]
  },
  {
   "cell_type": "code",
   "execution_count": 9,
   "id": "339bcbc9",
   "metadata": {},
   "outputs": [
    {
     "data": {
      "text/plain": [
       "['Raphael', 'Leonardo', 'Donatello', 'Michelangelo']"
      ]
     },
     "execution_count": 9,
     "metadata": {},
     "output_type": "execute_result"
    }
   ],
   "source": [
    "sort_by_length([\"Leonardo\", \"Michelangelo\", \"Raphael\", \"Donatello\"])"
   ]
  },
  {
   "cell_type": "code",
   "execution_count": 10,
   "id": "2fd53aa7",
   "metadata": {},
   "outputs": [
    {
     "data": {
      "text/plain": [
       "['Jung', 'Turing', 'Einstein']"
      ]
     },
     "execution_count": 10,
     "metadata": {},
     "output_type": "execute_result"
    }
   ],
   "source": [
    "sort_by_length([\"Turing\", \"Einstein\", \"Jung\"])"
   ]
  },
  {
   "cell_type": "code",
   "execution_count": 11,
   "id": "1c8390c4",
   "metadata": {},
   "outputs": [
    {
     "data": {
      "text/plain": [
       "True"
      ]
     },
     "execution_count": 11,
     "metadata": {},
     "output_type": "execute_result"
    }
   ],
   "source": [
    "'''\n",
    "5.\n",
    "Create a function that validates whether three given integers form a Pythagorean triplet.\n",
    "'''\n",
    "\n",
    "def is_triplet(a, b, c):\n",
    "    \"\"\"\n",
    "    Checks whether three given integers form a Pythagorean triplet.\n",
    "    Input\n",
    "    a: an integer\n",
    "    b: an integer\n",
    "    c: an integer\n",
    "    \"\"\"\n",
    "    if a**2 + b**2 == c**2 or b**2 + c**2 == a**2 or c**2 + a**2 == b**2:\n",
    "        return True\n",
    "    else:\n",
    "        return False\n",
    "is_triplet(3, 4, 5)"
   ]
  },
  {
   "cell_type": "code",
   "execution_count": 12,
   "id": "016ef431",
   "metadata": {},
   "outputs": [
    {
     "data": {
      "text/plain": [
       "True"
      ]
     },
     "execution_count": 12,
     "metadata": {},
     "output_type": "execute_result"
    }
   ],
   "source": [
    "is_triplet(13, 5, 12)"
   ]
  },
  {
   "cell_type": "code",
   "execution_count": 13,
   "id": "77b65e58",
   "metadata": {},
   "outputs": [
    {
     "data": {
      "text/plain": [
       "False"
      ]
     },
     "execution_count": 13,
     "metadata": {},
     "output_type": "execute_result"
    }
   ],
   "source": [
    "is_triplet(1, 2, 3)"
   ]
  }
 ],
 "metadata": {
  "kernelspec": {
   "display_name": "Python 3 (ipykernel)",
   "language": "python",
   "name": "python3"
  },
  "language_info": {
   "codemirror_mode": {
    "name": "ipython",
    "version": 3
   },
   "file_extension": ".py",
   "mimetype": "text/x-python",
   "name": "python",
   "nbconvert_exporter": "python",
   "pygments_lexer": "ipython3",
   "version": "3.9.13"
  }
 },
 "nbformat": 4,
 "nbformat_minor": 5
}
