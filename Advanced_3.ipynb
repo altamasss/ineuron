{
 "cells": [
  {
   "cell_type": "code",
   "execution_count": null,
   "id": "77c7a25d",
   "metadata": {},
   "outputs": [],
   "source": [
    "# 1. What is the concept of an abstract superclass?\n",
    "\n",
    "A class is called an Abstract class if it contains one or more abstract methods. \n",
    "An abstract method is a method that is declared, but contains no implementation.\n",
    "Abstract classes may not be instantiated,\n",
    "and its abstract methods must be implemented by its subclasses."
   ]
  },
  {
   "cell_type": "code",
   "execution_count": null,
   "id": "bd257267",
   "metadata": {},
   "outputs": [],
   "source": [
    "# 2. What happens when a class statement's top level contains a basic assignment statement?\n",
    "\n",
    "The variable that is assigned is considered as a class variable."
   ]
  },
  {
   "cell_type": "code",
   "execution_count": null,
   "id": "064dd485",
   "metadata": {},
   "outputs": [],
   "source": [
    "# 3. Why does a class need to manually call a superclass's init method?\n",
    "\n",
    "The main reason for always calling super class __init__ is that super class may typically \n",
    "create member variable and initialize them to defaults. So if we don't call super class init, \n",
    "none of that code would be executed and we would end up with super class that has no member variables."
   ]
  },
  {
   "cell_type": "code",
   "execution_count": null,
   "id": "59a04d51",
   "metadata": {},
   "outputs": [],
   "source": [
    "# 4. How can you augment, instead of completely replacing, an inherited method?\n",
    "\n",
    "The method can be called using super() or using base class name and then add extra features to the inherited method."
   ]
  },
  {
   "cell_type": "code",
   "execution_count": null,
   "id": "5a7c36a3",
   "metadata": {},
   "outputs": [],
   "source": [
    "# 5. How is the local scope of a class different from that of a function?\n",
    "\n",
    "Declaring a variable in a class outside of all class methods amkes it a class varaible and all methods can access it. \n",
    "And since it is a class variable even it can be accessed outside the class using using class name.\n",
    "Declaring a variable inside a function inside a class; only that function can access it (it's in that function's scope)."
   ]
  }
 ],
 "metadata": {
  "kernelspec": {
   "display_name": "Python 3 (ipykernel)",
   "language": "python",
   "name": "python3"
  },
  "language_info": {
   "codemirror_mode": {
    "name": "ipython",
    "version": 3
   },
   "file_extension": ".py",
   "mimetype": "text/x-python",
   "name": "python",
   "nbconvert_exporter": "python",
   "pygments_lexer": "ipython3",
   "version": "3.9.13"
  }
 },
 "nbformat": 4,
 "nbformat_minor": 5
}
