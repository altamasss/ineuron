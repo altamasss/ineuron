{
 "cells": [
  {
   "cell_type": "code",
   "execution_count": null,
   "id": "b0de762b",
   "metadata": {},
   "outputs": [],
   "source": [
    "array = [1, 2, 3, 4, 5, 6]"
   ]
  },
  {
   "cell_type": "code",
   "execution_count": null,
   "id": "64791810",
   "metadata": {},
   "outputs": [],
   "source": [
    "#1. Write a Python Program to find sum of array?\n",
    "\n",
    "sum(array)"
   ]
  },
  {
   "cell_type": "code",
   "execution_count": null,
   "id": "3c99eee4",
   "metadata": {},
   "outputs": [],
   "source": [
    "#2. Write a Python Program to find largest element in an array?\n",
    "\n",
    "max(array)"
   ]
  },
  {
   "cell_type": "code",
   "execution_count": null,
   "id": "a960fe10",
   "metadata": {},
   "outputs": [],
   "source": [
    "#3. Write a Python Program for array rotation?\n",
    "\n",
    "n = int(input(\"how much to rotate?\" ))\n",
    "new_array = []\n",
    "new_array = array[n:]\n",
    "new_array.extend(array[:n])\n",
    "new_array"
   ]
  },
  {
   "cell_type": "code",
   "execution_count": null,
   "id": "b869130c",
   "metadata": {},
   "outputs": [],
   "source": [
    "#4. Write a Python Program to Split the array and add the first part to the end?\n",
    "\n",
    "n = int(input(\"Enter the index to split:\" ))\n",
    "new_array = []\n",
    "first_part = array[:n]\n",
    "array = array[n:]\n",
    "array.append(first_part)\n",
    "array"
   ]
  },
  {
   "cell_type": "code",
   "execution_count": null,
   "id": "fc7eba5f",
   "metadata": {},
   "outputs": [],
   "source": [
    "#5. Write a Python Program to check if given array is Monotonic?\n",
    "\n",
    "def ismonotonic(array):\n",
    "    your_array = array.copy()\n",
    "    array.sort()\n",
    "    ascending_array = array.copy()\n",
    "    array.sort(reverse= True)\n",
    "    descending_array = array.copy()\n",
    "    if your_array ==  ascending_array or  your_array == descending_array:\n",
    "        return True\n",
    "    else:\n",
    "        return False"
   ]
  }
 ],
 "metadata": {
  "kernelspec": {
   "display_name": "Python 3 (ipykernel)",
   "language": "python",
   "name": "python3"
  },
  "language_info": {
   "codemirror_mode": {
    "name": "ipython",
    "version": 3
   },
   "file_extension": ".py",
   "mimetype": "text/x-python",
   "name": "python",
   "nbconvert_exporter": "python",
   "pygments_lexer": "ipython3",
   "version": "3.9.13"
  }
 },
 "nbformat": 4,
 "nbformat_minor": 5
}
