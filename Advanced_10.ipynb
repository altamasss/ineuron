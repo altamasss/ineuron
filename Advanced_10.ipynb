{
 "cells": [
  {
   "cell_type": "code",
   "execution_count": null,
   "id": "29174ac9",
   "metadata": {},
   "outputs": [],
   "source": [
    "# Q1. What is the difference between __getattr__ and __getattribute__?\n",
    "\n",
    "__getattr__ is called only when an attribute is not found by normal lookup, \n",
    "i.e., when a non-existent attribute is accessed on an object. \n",
    "It takes a single argument, the name of the attribute that was accessed,\n",
    "and should return the value of that attribute or raise an AttributeError if the attribute does not exist.\n",
    "\n",
    "__getattribute__ is called for every attribute lookup, whether the attribute exists or not.\n",
    "It takes a single argument, the name of the attribute that was accessed, and should return the value of that attribute.\n",
    "If the attribute does not exist, it should raise an AttributeError."
   ]
  },
  {
   "cell_type": "code",
   "execution_count": null,
   "id": "2dadbcf4",
   "metadata": {},
   "outputs": [],
   "source": [
    "# Q2. What is the difference between properties and descriptors?\n",
    "\n",
    "Properties and descriptors are both mechanisms in Python for controlling attribute access on objects, \n",
    "\n",
    "\n",
    "A property is a special kind of attribute that is accessed like a regular attribute,\n",
    "but whose value is computed dynamically using getter and/or setter methods. \n",
    "Properties are defined using the @property decorator and one or more \n",
    "corresponding setter and/or deleter methods using the @<name>.setter and @<name>.deleter decorators, respectively. \n",
    "\n",
    "\n",
    "A descriptor, on the other hand, is a more general mechanism for controlling attribute access,\n",
    "that allows for custom behavior to be defined for getting, setting, and deleting attributes on an object. \n",
    "Descriptors are defined by implementing one or more of the __get__, __set__, and __delete__ methods in a separate \n",
    "descriptor class, and then associating an instance of that class with an attribute on the object."
   ]
  },
  {
   "cell_type": "code",
   "execution_count": null,
   "id": "695d490d",
   "metadata": {},
   "outputs": [],
   "source": [
    "# Q3. What are the key differences in functionality between __getattr__ and __getattribute__,\n",
    "# as well as properties and descriptors?\n",
    "\n",
    "__getattr__ and __getattribute__ are both methods used to control attribute access on an object,\n",
    "but they have different use cases. __getattr__ is called when an attribute is not found through normal lookup, \n",
    "while __getattribute__ is called for every attribute access on the object.\n",
    "This means that __getattribute__ is more powerful but also more dangerous, \n",
    "as it can override normal attribute access behavior and potentially cause infinite recursion or other errors.\n",
    "\n",
    "Properties are accessed like regular attributes, but their value is computed dynamically using getter and/or setter methods.\n",
    "Properties are defined using the @property decorator, and setter and deleter methods are defined \n",
    "using the @<name>.setter and @<name>.deleter decorators, respectively.\n",
    "\n",
    "Descriptors are defined by implementing one or more of the __get__, __set__, and __delete__ methods in a\n",
    "separate descriptor class, and then associating an instance of that class with an attribute on the object."
   ]
  }
 ],
 "metadata": {
  "kernelspec": {
   "display_name": "Python 3 (ipykernel)",
   "language": "python",
   "name": "python3"
  },
  "language_info": {
   "codemirror_mode": {
    "name": "ipython",
    "version": 3
   },
   "file_extension": ".py",
   "mimetype": "text/x-python",
   "name": "python",
   "nbconvert_exporter": "python",
   "pygments_lexer": "ipython3",
   "version": "3.9.13"
  }
 },
 "nbformat": 4,
 "nbformat_minor": 5
}
