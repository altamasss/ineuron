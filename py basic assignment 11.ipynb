{
 "cells": [
  {
   "cell_type": "code",
   "execution_count": null,
   "id": "f6e0060e",
   "metadata": {},
   "outputs": [],
   "source": [
    "#1.Create an assert statement that throws an AssertionError if the variable spam is a negative integer.\n",
    "Ans:\n",
    "assert spam > 0, \"Negative not allowed!\""
   ]
  },
  {
   "cell_type": "code",
   "execution_count": null,
   "id": "0204b50a",
   "metadata": {},
   "outputs": [],
   "source": [
    "#2.Write an assert statement that triggers an AssertionError if the variables eggs and bacon contain strings\n",
    " that are the same as each other, even if their cases are different \n",
    " (that is, 'hello' and 'hello' are considered the same, and 'goodbye' and 'GOODbye' are also considered the same).\n",
    " \n",
    "Ans:\n",
    "assert eggs.lower()!=bacon.lower(), \"eggs and bacon shouldn't be same!\""
   ]
  },
  {
   "cell_type": "code",
   "execution_count": null,
   "id": "31b1d01a",
   "metadata": {},
   "outputs": [],
   "source": [
    "#3.Create an assert statement that throws an AssertionError every time.\n",
    "\n",
    "Ans:\n",
    "assert False"
   ]
  },
  {
   "cell_type": "code",
   "execution_count": null,
   "id": "4ff23d9c",
   "metadata": {},
   "outputs": [],
   "source": [
    "#4.What are the two lines that must be present in your software in order to call logging.debug()?\n",
    "\n",
    "Ans:\n",
    "import logging\n",
    "logging.basicConfig(fiename, level=logging.DEBUG)"
   ]
  },
  {
   "cell_type": "code",
   "execution_count": null,
   "id": "0afda4da",
   "metadata": {},
   "outputs": [],
   "source": [
    "#5.What are the two lines that your program must have in order to have logging.debug() \n",
    "# send a logging message to a file named programLog.txt?\n",
    "\n",
    "Ans:\n",
    "import logging\n",
    "logging.basicConfig(fiename=programLog.txt, level=logging.DEBUG)"
   ]
  },
  {
   "cell_type": "code",
   "execution_count": null,
   "id": "2fe27754",
   "metadata": {},
   "outputs": [],
   "source": [
    "#6.What are the five levels of logging?\n",
    "\n",
    "\n",
    "Ans:\n",
    "logging.debug()\n",
    "\n",
    "logging.info()\n",
    "\n",
    "logging.warning()\n",
    "\n",
    "logging.error()\n",
    "\n",
    "logging.critical()"
   ]
  },
  {
   "cell_type": "code",
   "execution_count": null,
   "id": "fe5d971e",
   "metadata": {},
   "outputs": [],
   "source": [
    "#7.What line of code would you add to your software to disable all logging messages?\n",
    "\n",
    "Ans:\n",
    "logging.disable(level)"
   ]
  },
  {
   "cell_type": "code",
   "execution_count": null,
   "id": "274cc587",
   "metadata": {},
   "outputs": [],
   "source": [
    "#8.Why is using logging messages better than using print() to display the same message?\n",
    "\n",
    "Ans:\n",
    "It helps to see where and when a logging call is being made from\n",
    "\n",
    "we can differentiate logging based on severity\n",
    "\n",
    "print does not have any of them"
   ]
  },
  {
   "cell_type": "code",
   "execution_count": null,
   "id": "9bda1977",
   "metadata": {},
   "outputs": [],
   "source": [
    "#9.What are the differences between the Step Over, Step In, and Step Out buttons in the debugger?\n",
    "\n",
    "Ans:\n",
    "Step In will dig into method calls.\n",
    "\n",
    "Step Over will just execute the line and go to the next line.\n",
    "\n",
    "Step Out Steps out of the current method and takes you to the caller method."
   ]
  },
  {
   "cell_type": "code",
   "execution_count": null,
   "id": "99d93bbc",
   "metadata": {},
   "outputs": [],
   "source": [
    "#10.After you click Continue, when will the debugger stop ?\n",
    "\n",
    "Ans:\n",
    "when it has reached the end of a program or a breakpoint"
   ]
  },
  {
   "cell_type": "code",
   "execution_count": null,
   "id": "22a5b379",
   "metadata": {},
   "outputs": [],
   "source": [
    "#11.What is the concept of a breakpoint?\n",
    "Ans:\n",
    "An intentional stopping point or pause put into program for debugging purpose."
   ]
  }
 ],
 "metadata": {
  "kernelspec": {
   "display_name": "Python 3 (ipykernel)",
   "language": "python",
   "name": "python3"
  },
  "language_info": {
   "codemirror_mode": {
    "name": "ipython",
    "version": 3
   },
   "file_extension": ".py",
   "mimetype": "text/x-python",
   "name": "python",
   "nbconvert_exporter": "python",
   "pygments_lexer": "ipython3",
   "version": "3.9.13"
  }
 },
 "nbformat": 4,
 "nbformat_minor": 5
}
