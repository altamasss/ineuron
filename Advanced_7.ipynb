{
 "cells": [
  {
   "cell_type": "code",
   "execution_count": null,
   "id": "a9dbfe12",
   "metadata": {},
   "outputs": [],
   "source": [
    "# 1. What is the purpose of the try statement?\n",
    "\n",
    "The try statement allows you to define a block of code to be tested for errors while it is being executed."
   ]
  },
  {
   "cell_type": "code",
   "execution_count": null,
   "id": "6857b4b5",
   "metadata": {},
   "outputs": [],
   "source": [
    "# 2. What are the two most popular try statement variations?\n",
    "\n",
    "A try can have single except or multiple except.\n",
    "\n",
    "\n",
    "\n",
    "version1\n",
    "try:\n",
    "    < block >\n",
    "except < exception >:\n",
    "    < block >\n",
    "    \n",
    "    \n",
    "    \n",
    "version2\n",
    "try:\n",
    "    < block >\n",
    "except < specific_exception >:\n",
    "    < block >\n",
    "except Exception as e:\n",
    "    < block >"
   ]
  },
  {
   "cell_type": "code",
   "execution_count": null,
   "id": "acc0148b",
   "metadata": {},
   "outputs": [],
   "source": [
    "# 3. What is the purpose of the raise statement?\n",
    "\n",
    "Python raise Keyword is used to raise exceptions or errors. \n",
    "The raise keyword raises an error and stops the control flow of the program. \n",
    "It is used to bring up the current exception in an exception handler \n",
    "so that it can be handled further up the call stack."
   ]
  },
  {
   "cell_type": "code",
   "execution_count": null,
   "id": "1d0cc3ea",
   "metadata": {},
   "outputs": [],
   "source": [
    "# 4. What does the assert statement do, and what other statement is it like?\n",
    "\n",
    "Assert statement takes an expression and optional message.\n",
    "Assert statement is used to check types, values of argument and the output of the function. \n",
    "Assert statement is used as debugging tool as it halts the program at the point where an error occurs."
   ]
  },
  {
   "cell_type": "code",
   "execution_count": null,
   "id": "cca2fa00",
   "metadata": {},
   "outputs": [],
   "source": [
    "# 5. What is the purpose of the with/as argument, and what other statement is it like?\n",
    "\n",
    "The with statement in Python is used for resource management and exception handling. \n",
    "We mostly use it when working with file streams.\n",
    "For example, the statement ensures that the file stream process \n",
    "doesn't block other processes if an exception is raised,\n",
    "but terminates properly."
   ]
  }
 ],
 "metadata": {
  "kernelspec": {
   "display_name": "Python 3 (ipykernel)",
   "language": "python",
   "name": "python3"
  },
  "language_info": {
   "codemirror_mode": {
    "name": "ipython",
    "version": 3
   },
   "file_extension": ".py",
   "mimetype": "text/x-python",
   "name": "python",
   "nbconvert_exporter": "python",
   "pygments_lexer": "ipython3",
   "version": "3.9.13"
  }
 },
 "nbformat": 4,
 "nbformat_minor": 5
}
