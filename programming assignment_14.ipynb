{
 "cells": [
  {
   "cell_type": "code",
   "execution_count": 2,
   "id": "3434542d",
   "metadata": {},
   "outputs": [],
   "source": [
    "'''\n",
    "Question 1:\n",
    "\n",
    "Define a class with a generator which can iterate the numbers, which are divisible by\n",
    "7, between a given range 0 and n.\n",
    "'''\n",
    "\n",
    "class DivisibleByN:\n",
    "    def __init__(self, n):\n",
    "        self.n = n\n",
    "    def numbers(self):\n",
    "        for i in range(1, self.n+1):\n",
    "            if i%7 ==0:\n",
    "                yield i"
   ]
  },
  {
   "cell_type": "code",
   "execution_count": 5,
   "id": "8a9ddbb1",
   "metadata": {},
   "outputs": [
    {
     "name": "stdout",
     "output_type": "stream",
     "text": [
      "7 14 21 28 35 42 49 56 63 70 77 84 91 98 "
     ]
    }
   ],
   "source": [
    "for i in DivisibleByN(100).numbers():\n",
    "    print(i, end=\" \")"
   ]
  },
  {
   "cell_type": "code",
   "execution_count": 6,
   "id": "9b4f294a",
   "metadata": {},
   "outputs": [
    {
     "name": "stdout",
     "output_type": "stream",
     "text": [
      "2: 2\n",
      "3.: 1\n",
      "3?: 1\n",
      "New: 1\n",
      "Python: 5\n",
      "Read: 1\n",
      "and: 1\n",
      "between: 1\n",
      "choosing: 1\n",
      "or: 2\n",
      "to: 1\n"
     ]
    }
   ],
   "source": [
    "'''\n",
    "Question 2:\n",
    "\n",
    "Write a program to compute the frequency of the words from the input. The output\n",
    "should output after sorting the key alphanumerically.\n",
    "Suppose the following input is supplied to the program:\n",
    "New to Python or choosing between Python 2 and Python 3? Read Python 2 or\n",
    "Python 3.\n",
    "Then, the output should be:\n",
    "2:2\n",
    "3.:1\n",
    "3?:1\n",
    "New:1\n",
    "Python:5\n",
    "Read:1\n",
    "and:1\n",
    "between:1\n",
    "choosing:1\n",
    "or:2\n",
    "to:1\n",
    "'''\n",
    "\n",
    "def get_frequency(s):\n",
    "    words = s.split()\n",
    "    unique_words = list(set(words))\n",
    "    unique_words.sort()\n",
    "    for word in unique_words:\n",
    "        print(f\"{word}: {words.count(word)}\")\n",
    "get_frequency(\"New to Python or choosing between Python 2 and Python 3? Read Python 2 or Python 3.\")"
   ]
  },
  {
   "cell_type": "code",
   "execution_count": 8,
   "id": "05c3915d",
   "metadata": {},
   "outputs": [
    {
     "name": "stdout",
     "output_type": "stream",
     "text": [
      "Male\n"
     ]
    }
   ],
   "source": [
    "'''\n",
    "Question 3:\n",
    "\n",
    "Define a class Person and its two child classes: Male and Female.\n",
    "All classes have a method \"getGender\" which can print \"Male\" for Male class and \"Female\" for Female class.\n",
    "'''\n",
    "\n",
    "class Person:\n",
    "    def __init__(self, g):\n",
    "        self.gender = g\n",
    "    def getGender(self):\n",
    "        print(self.gender)\n",
    "        \n",
    "class Male(Person):\n",
    "    def __init__(self):\n",
    "        self.gender = \"Male\"\n",
    "    def getGender(self):\n",
    "        Person.getGender(self)\n",
    "        \n",
    "class Female(Person):\n",
    "    def __init__(self):\n",
    "        self.gender = \"Female\"\n",
    "    def getGender(self):\n",
    "        Person.getGender(self)\n",
    "        \n",
    "m = Male()\n",
    "m.getGender()"
   ]
  },
  {
   "cell_type": "code",
   "execution_count": 9,
   "id": "40b97cf6",
   "metadata": {},
   "outputs": [
    {
     "name": "stdout",
     "output_type": "stream",
     "text": [
      "I Play Hockey\n",
      "I Play Football\n",
      "I Love Hockey\n",
      "I Love Football\n",
      "You Play Hockey\n",
      "You Play Football\n",
      "You Love Hockey\n",
      "You Love Football\n"
     ]
    }
   ],
   "source": [
    "'''\n",
    "Question 4:\n",
    "\n",
    "Please write a program to generate all sentences where subject is in [\"I\", \"You\"] and\n",
    "verb is in [\"Play\", \"Love\"] and the object is in [\"Hockey\",\"Football\"].\n",
    "'''\n",
    "\n",
    "import itertools\n",
    "\n",
    "subject = [\"I\", \"You\"]\n",
    "verb = [\"Play\", \"Love\"]\n",
    "obj = [\"Hockey\",\"Football\"]\n",
    "\n",
    "for element in itertools.product(subject, verb, obj):\n",
    "    print(\" \".join(element))"
   ]
  },
  {
   "cell_type": "code",
   "execution_count": null,
   "id": "a3cf8dc5",
   "metadata": {},
   "outputs": [],
   "source": [
    "'''\n",
    "Question 5:\n",
    "Please write a program to compress and decompress the string \"hello world!hello world!hello world!hello world!\".\n",
    "'''\n",
    "import zlib\n",
    "import sys\n",
    "s = 'hello world!hello world!hello world!hello world!'\n",
    "print(f\"Size of original text: {sys.getsizeof(s)}\")\n",
    "t = zlib.compress(y)\n",
    "print(f\"Size of compressed text: {sys.getsizeof(t)}\")\n",
    "print(f\"Compressed String: {t}\")\n",
    "decompress = zlib.decompress(t)\n",
    "print(f\"Decompressed String: {decompress}\")"
   ]
  },
  {
   "cell_type": "code",
   "execution_count": 11,
   "id": "c076d9d9",
   "metadata": {},
   "outputs": [
    {
     "name": "stdout",
     "output_type": "stream",
     "text": [
      "Item present at index 3\n"
     ]
    }
   ],
   "source": [
    "'''\n",
    "Question 6:\n",
    "\n",
    "Please write a binary search function which searches an item in a sorted list. \n",
    "The function should return the index of element to be searched in the list.\n",
    "'''\n",
    "def binary_search(l,n):\n",
    "    low = 0\n",
    "    high = len(l) - 1\n",
    "    mid = 0\n",
    "    while low <= high:\n",
    "        mid = (high + low) // 2        \n",
    "        if l[mid] < n:\n",
    "            low = mid + 1            \n",
    "        elif l[mid] > n:\n",
    "            high = mid - 1\n",
    "        else:\n",
    "            return mid        \n",
    "    return False\n",
    "\n",
    "\n",
    "l = [ 2, 3, 4, 1, 400, 50, 60, 20 ]\n",
    "num = 1\n",
    "result = binary_search(l, num)\n",
    "if result != False:\n",
    "    print(\"Item present at index\", str(result))\n",
    "else:\n",
    "    print(\"Item not present\")\n"
   ]
  }
 ],
 "metadata": {
  "kernelspec": {
   "display_name": "Python 3 (ipykernel)",
   "language": "python",
   "name": "python3"
  },
  "language_info": {
   "codemirror_mode": {
    "name": "ipython",
    "version": 3
   },
   "file_extension": ".py",
   "mimetype": "text/x-python",
   "name": "python",
   "nbconvert_exporter": "python",
   "pygments_lexer": "ipython3",
   "version": "3.9.13"
  }
 },
 "nbformat": 4,
 "nbformat_minor": 5
}
