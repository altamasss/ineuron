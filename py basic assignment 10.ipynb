{
 "cells": [
  {
   "cell_type": "code",
   "execution_count": null,
   "id": "dced1b7e",
   "metadata": {},
   "outputs": [],
   "source": [
    "#1. How do you distinguish between shutil.copy() and shutil.copytree()?\n",
    "Ans:\n",
    "shutil.copy() will copy a single file and shutil.copytree() will copy \n",
    "an entire folder and every folder and file contained in it."
   ]
  },
  {
   "cell_type": "code",
   "execution_count": null,
   "id": "c8637bad",
   "metadata": {},
   "outputs": [],
   "source": [
    "#2. What function is used to rename files??\n",
    "Ans:\n",
    "os.rename()"
   ]
  },
  {
   "cell_type": "code",
   "execution_count": null,
   "id": "f001f4d7",
   "metadata": {},
   "outputs": [],
   "source": [
    "#3. What is the difference between the delete functions in the send2trash and shutil modules?\n",
    "Ans:\n",
    "send2trash function move a file or folder to the recycle bin, while shutil function permanently delete file or folder."
   ]
  },
  {
   "cell_type": "code",
   "execution_count": null,
   "id": "45de8771",
   "metadata": {},
   "outputs": [],
   "source": [
    "#4. ZipFile objects have a close() method just like File objects’ close() method.\n",
    "#What ZipFile method is equivalent to File objects’ open() method?\n",
    "Ans:\n",
    "ZipFile\n"
   ]
  }
 ],
 "metadata": {
  "kernelspec": {
   "display_name": "Python 3 (ipykernel)",
   "language": "python",
   "name": "python3"
  },
  "language_info": {
   "codemirror_mode": {
    "name": "ipython",
    "version": 3
   },
   "file_extension": ".py",
   "mimetype": "text/x-python",
   "name": "python",
   "nbconvert_exporter": "python",
   "pygments_lexer": "ipython3",
   "version": "3.9.13"
  }
 },
 "nbformat": 4,
 "nbformat_minor": 5
}
