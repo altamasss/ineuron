{
 "cells": [
  {
   "cell_type": "code",
   "execution_count": 1,
   "id": "10a16174",
   "metadata": {},
   "outputs": [
    {
     "name": "stdout",
     "output_type": "stream",
     "text": [
      "hello\n",
      "peacock\n",
      "computer\n"
     ]
    }
   ],
   "source": [
    "#1. Write a Python program to find words which are greater than given length k?\n",
    "\n",
    "def func1(l, k):\n",
    "    \"\"\"\n",
    "    Prints words greater than a given length k\n",
    "    Input:\n",
    "    l : list of words\n",
    "    k : length limit \n",
    "    \"\"\"\n",
    "    for s in l:\n",
    "        if type(s) == str:\n",
    "            if len(s) > k:\n",
    "                print(s)\n",
    "func1([\"hello\", \"cats\", \"peacock\", \"computer\", \"book\", 5], 4)"
   ]
  },
  {
   "cell_type": "code",
   "execution_count": 2,
   "id": "4227b1d6",
   "metadata": {},
   "outputs": [
    {
     "data": {
      "text/plain": [
       "'peaock'"
      ]
     },
     "execution_count": 2,
     "metadata": {},
     "output_type": "execute_result"
    }
   ],
   "source": [
    "#2. Write a Python program for removing i-th character from a string?\n",
    "\n",
    "def func2(s, i):\n",
    "    \"\"\"\n",
    "    Remove ith character from a string\n",
    "    Input:\n",
    "    s : input string\n",
    "    i : index whose character has to be removed\n",
    "    \"\"\"\n",
    "    return s.replace(s[i], \"\", 1)\n",
    "func2(\"peacock\", 3)"
   ]
  },
  {
   "cell_type": "code",
   "execution_count": 3,
   "id": "24d14343",
   "metadata": {},
   "outputs": [
    {
     "data": {
      "text/plain": [
       "'PeacockisthenationalbirdofIndia.'"
      ]
     },
     "execution_count": 3,
     "metadata": {},
     "output_type": "execute_result"
    }
   ],
   "source": [
    "#3. Write a Python program to split and join a string?\n",
    "\n",
    "def func3(s):\n",
    "    \"\"\"\n",
    "    Splits the string based on space and then joins it.\n",
    "    Input:\n",
    "    s : input string\n",
    "    \"\"\"\n",
    "    l = s.split()\n",
    "    return \"\".join(l)\n",
    "func3(\"Peacock is the national bird of India.\")"
   ]
  },
  {
   "cell_type": "code",
   "execution_count": 4,
   "id": "0be2c0e7",
   "metadata": {},
   "outputs": [
    {
     "name": "stdout",
     "output_type": "stream",
     "text": [
      "String is binary\n"
     ]
    }
   ],
   "source": [
    "#4. Write a Python to check if a given string is binary string or not?\n",
    "\n",
    "def func4(s):\n",
    "    \"\"\"\n",
    "    Checks if a string is binary or not\n",
    "    Input:\n",
    "    s : input string\n",
    "    \"\"\"\n",
    "    for ch in s:\n",
    "        if ch=='1' or ch=='0':\n",
    "            continue\n",
    "        else:\n",
    "            print(\"String is not a binary string\")\n",
    "            break\n",
    "    else:\n",
    "        print(\"String is binary\")\n",
    "func4(\"111111000011110\")"
   ]
  },
  {
   "cell_type": "code",
   "execution_count": 5,
   "id": "919867e9",
   "metadata": {},
   "outputs": [
    {
     "name": "stdout",
     "output_type": "stream",
     "text": [
      "{'bird', 'animal', 'Tiger', 'Peacock'}\n"
     ]
    }
   ],
   "source": [
    "#5. Write a Python program to find uncommon words from two Strings?\n",
    "\n",
    "def func5(s1, s2):\n",
    "    \"\"\"\n",
    "    Prints uncommon words from two strings.\n",
    "    Input:\n",
    "    s1 : input string1\n",
    "    s2 : input string2\n",
    "    \"\"\"\n",
    "    l1 = set(s1.split())\n",
    "    l2 = set(s2.split())\n",
    "    l3 = l1.symmetric_difference(l2)\n",
    "    print(l3)\n",
    "    \n",
    "func5(\"Peacock is national bird of India\", \"Tiger is national animal of India\")"
   ]
  },
  {
   "cell_type": "code",
   "execution_count": 6,
   "id": "21acd89c",
   "metadata": {},
   "outputs": [
    {
     "name": "stdout",
     "output_type": "stream",
     "text": [
      "{'c'}\n"
     ]
    }
   ],
   "source": [
    "#6. Write a Python to find all duplicate characters in string?\n",
    "\n",
    "def func6(s):\n",
    "    \"\"\"\n",
    "    Prints all duplicate characters in a string.\n",
    "    Input:\n",
    "    s : input string\n",
    "    \"\"\"\n",
    "    duplicates = set()\n",
    "    for ch in s:\n",
    "          if s.count(ch)>1:\n",
    "               duplicates.add(ch)\n",
    "    print(duplicates)\n",
    "    \n",
    "func6(\"Peacock\")"
   ]
  },
  {
   "cell_type": "code",
   "execution_count": 7,
   "id": "1d1193fb",
   "metadata": {},
   "outputs": [
    {
     "name": "stdout",
     "output_type": "stream",
     "text": [
      "String does not contain special characters.\n"
     ]
    }
   ],
   "source": [
    "#7. Write a Python Program to check if a string contains any special character?\n",
    "\n",
    "def func7(s):\n",
    "    \"\"\"\n",
    "    Checks if string contains a special character.\n",
    "    Input:\n",
    "    s : input string\n",
    "    \"\"\"\n",
    "    for ch in s:\n",
    "        if ch >= '0' and ch <= '9' or ch >= 'a' and ch <= 'z' or ch >= 'A' and ch <= 'Z':\n",
    "            continue\n",
    "        else:\n",
    "            print(\"String contains special characters.\")\n",
    "            break\n",
    "    else:\n",
    "       print(\"String does not contain special characters.\") \n",
    "func7(\"hello1234ABCD\") "
   ]
  }
 ],
 "metadata": {
  "kernelspec": {
   "display_name": "Python 3 (ipykernel)",
   "language": "python",
   "name": "python3"
  },
  "language_info": {
   "codemirror_mode": {
    "name": "ipython",
    "version": 3
   },
   "file_extension": ".py",
   "mimetype": "text/x-python",
   "name": "python",
   "nbconvert_exporter": "python",
   "pygments_lexer": "ipython3",
   "version": "3.9.13"
  }
 },
 "nbformat": 4,
 "nbformat_minor": 5
}
