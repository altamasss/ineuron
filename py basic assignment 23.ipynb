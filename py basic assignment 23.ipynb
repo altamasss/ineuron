{
 "cells": [
  {
   "cell_type": "code",
   "execution_count": null,
   "id": "72017ef7",
   "metadata": {},
   "outputs": [],
   "source": [
    "# 1. What is the result of the code, and why?\n",
    "\n",
    ">>> def func(a, b=6, c=8):\n",
    "                print(a, b, c)\n",
    ">>> func(1, 2)\n",
    "\n",
    "\n",
    "# Output: 1, 2, 8\n",
    "# 1 is assigned to a. 2 is assigned to b since two arguments are provided in the function call. \n",
    "# c takes the default value supplied .i.e. 8."
   ]
  },
  {
   "cell_type": "code",
   "execution_count": null,
   "id": "6c877568",
   "metadata": {},
   "outputs": [],
   "source": [
    "#2. What is the result of this code, and why?\n",
    "\n",
    "\n",
    ">>> def func(a, b, c=5):\n",
    "        print(a, b, c)\n",
    ">>> func(1, c=3, b=2)\n",
    "\n",
    "# Output: 1, 2, 3\n",
    "\n",
    "# 1 being the positional argument is assigned to a.\n",
    "# c and b is assigned 3 and 2 being supplied as named argument."
   ]
  },
  {
   "cell_type": "code",
   "execution_count": null,
   "id": "658d7c1a",
   "metadata": {},
   "outputs": [],
   "source": [
    "#3. How about this code: what is its result, and why?\n",
    "\n",
    "\n",
    ">>> def func(a, *pargs):\n",
    "       print(a, pargs)\n",
    ">>> func(1, 2, 3)\n",
    "\n",
    "\n",
    "# Ans: 1, (2, 3)\n",
    "\n",
    "# 1 being positional argument is assigned to a.\n",
    "# Rest of the arguments is assigned to pargs as a tuple since *pargs represents multiple arguments."
   ]
  },
  {
   "cell_type": "code",
   "execution_count": null,
   "id": "f24da6f2",
   "metadata": {},
   "outputs": [],
   "source": [
    "#4. What does this code print, and why?\n",
    "\n",
    "\n",
    ">>> def func(a, **kargs):\n",
    "       print(a, kargs)\n",
    ">>> func(a=1, c=3, b=2)\n",
    "\n",
    "#Ans: 1, {'c':3, 'b':2}\n",
    "\n",
    "# 1 being positional argument is assigned to a.\n",
    "# Rest of the arguments is assigned to kargs as a key:value pair(dictionary)."
   ]
  },
  {
   "cell_type": "code",
   "execution_count": null,
   "id": "66f82752",
   "metadata": {},
   "outputs": [],
   "source": [
    "#5. What gets printed by this, and explain?\n",
    "\n",
    ">>> def func(a, b, c=8, d=5): \n",
    "         print(a, b, c, d)\n",
    ">>> func(1, *(5, 6))\n",
    "\n",
    "#Ans: 1 5 6 5\n",
    "\n",
    "# 1 being positional argument is assigned to a.\n",
    "# (5,6) is unpacked and assigned to b and c\n",
    "# d gets the default value .i.e. 5."
   ]
  },
  {
   "cell_type": "code",
   "execution_count": null,
   "id": "3a627286",
   "metadata": {},
   "outputs": [],
   "source": [
    "#6. what is the result of this, and explain?\n",
    "\n",
    "\n",
    ">>> def func(a, b, c): \n",
    "       a = 2; b[0] = 'x'; c['a'] = 'y'\n",
    ">>> l=1; m=[1]; n={'a':0}\n",
    ">>> func(l, m, n)\n",
    "\n",
    ">>> l, m, n\n",
    "\n",
    "\n",
    "\n",
    "Initally value of\n",
    "\n",
    "l = 1\n",
    "m = [1] and\n",
    "n = {'a': 0}\n",
    "\n",
    "\n",
    "# These are then passed to function as arguments.\n",
    "# Since l is an int(immutable), its value is copied to the parameter a.\n",
    "# Any changes to a in function doesn't affect the variable l. Hence its value remains the same .i.e. 1.\n",
    "# m and n are list and dictionary respectively(mutable). \n",
    "# The parameters b and c are just made to point to the location of m and n.\n",
    "# So any changes in the function affects m and n also."
   ]
  }
 ],
 "metadata": {
  "kernelspec": {
   "display_name": "Python 3 (ipykernel)",
   "language": "python",
   "name": "python3"
  },
  "language_info": {
   "codemirror_mode": {
    "name": "ipython",
    "version": 3
   },
   "file_extension": ".py",
   "mimetype": "text/x-python",
   "name": "python",
   "nbconvert_exporter": "python",
   "pygments_lexer": "ipython3",
   "version": "3.9.13"
  }
 },
 "nbformat": 4,
 "nbformat_minor": 5
}
