{
 "cells": [
  {
   "cell_type": "code",
   "execution_count": null,
   "id": "dc4f3614",
   "metadata": {},
   "outputs": [],
   "source": [
    "#1. What is the difference between enclosing a list comprehension in square brackets and parentheses?\n",
    "\n",
    "# A list comprehension enclosed in square brackets return a list of items \n",
    "# where as the one enclosed in paranthesis return a generator object."
   ]
  },
  {
   "cell_type": "code",
   "execution_count": null,
   "id": "9041b51f",
   "metadata": {},
   "outputs": [],
   "source": [
    "l = [n*2 for n in range(10)]\n",
    "l"
   ]
  },
  {
   "cell_type": "code",
   "execution_count": null,
   "id": "69f122a6",
   "metadata": {},
   "outputs": [],
   "source": [
    "g = (n*2 for n in range(10))\n",
    "g"
   ]
  },
  {
   "cell_type": "code",
   "execution_count": null,
   "id": "e52b1acf",
   "metadata": {},
   "outputs": [],
   "source": [
    "for i in g:\n",
    "    print(i, end=\" \")"
   ]
  },
  {
   "cell_type": "code",
   "execution_count": null,
   "id": "dfb01fb7",
   "metadata": {},
   "outputs": [],
   "source": [
    "#2. What is the relationship between generators and iterators?\n",
    "\n",
    "# The generator yealds each of its elements at run time and doesn't store entire list in memory. \n",
    "# An iterator is the one which helps us to access the next element from an iterable using next() function. \n",
    "#A generator is an iterator but not vice versa."
   ]
  },
  {
   "cell_type": "code",
   "execution_count": null,
   "id": "efae9814",
   "metadata": {},
   "outputs": [],
   "source": [
    "#3. What are the signs that a function is a generator function?\n",
    "\n",
    "# A generator is a special type of function which does not return a single value, \n",
    "# instead, it returns an iterator object with a sequence of values. \n",
    "# In a generator function, a yield statement is used rather than a return statement."
   ]
  },
  {
   "cell_type": "code",
   "execution_count": null,
   "id": "c7692615",
   "metadata": {},
   "outputs": [],
   "source": [
    "#4. What is the purpose of a yield statement?\n",
    "\n",
    "# The yield statement suspends function's execution and sends a value back to the caller, \n",
    "# but resumes the function from where it is left off.\n",
    "# When resumed, the function continues execution immediately after the last yield statement."
   ]
  },
  {
   "cell_type": "code",
   "execution_count": null,
   "id": "c67b8ea6",
   "metadata": {},
   "outputs": [],
   "source": [
    "#5) What is the relationship between map calls and list comprehensions? \n",
    "# Make a comparison and contrast between the two.\n",
    "\n",
    "# map calls are easier in case of already written user defined function.\n",
    "# map calls cannot be used to filter values from a list which is easily possible through list comprehension.\n",
    "# map returns a map object while list comprehension can return outputs as per our requirement."
   ]
  }
 ],
 "metadata": {
  "kernelspec": {
   "display_name": "Python 3 (ipykernel)",
   "language": "python",
   "name": "python3"
  },
  "language_info": {
   "codemirror_mode": {
    "name": "ipython",
    "version": 3
   },
   "file_extension": ".py",
   "mimetype": "text/x-python",
   "name": "python",
   "nbconvert_exporter": "python",
   "pygments_lexer": "ipython3",
   "version": "3.9.13"
  }
 },
 "nbformat": 4,
 "nbformat_minor": 5
}
