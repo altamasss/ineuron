{
 "cells": [
  {
   "cell_type": "code",
   "execution_count": null,
   "id": "c2e1c641",
   "metadata": {},
   "outputs": [],
   "source": [
    "# 1. What is the meaning of multiple inheritance?\n",
    "\n",
    "When a class is derived from more than one base class \n",
    "it is called multiple Inheritance.\n",
    "The derived class inherits all the features of the base classes."
   ]
  },
  {
   "cell_type": "code",
   "execution_count": null,
   "id": "6fadc776",
   "metadata": {},
   "outputs": [],
   "source": [
    "# 2. What is the concept of delegation?\n",
    "\n",
    "Delegation is an alternative to inheritance for reusing code among multiple classes. \n",
    "Inheritance uses the IS-A relationship for re-use; \n",
    "delegation uses the HAS-A reference relationship to do the same."
   ]
  },
  {
   "cell_type": "code",
   "execution_count": null,
   "id": "de9507bb",
   "metadata": {},
   "outputs": [],
   "source": [
    "# 3. What is the concept of composition?\n",
    "\n",
    "Composition is a concept that enables creating complex types by combining objects of other types. \n",
    "This means that a class Composite can contain an object of another class Component ."
   ]
  },
  {
   "cell_type": "code",
   "execution_count": null,
   "id": "9c834731",
   "metadata": {},
   "outputs": [],
   "source": [
    "# 4. What are bound methods and how do we use them?\n",
    "\n",
    "If a function is an attribute of class and it is accessed via the instances, they are called bound methods. \n",
    "A bound method is one that has an instance passed(usually as 'self') as its first argument."
   ]
  },
  {
   "cell_type": "code",
   "execution_count": null,
   "id": "497258a1",
   "metadata": {},
   "outputs": [],
   "source": [
    "# 5. What is the purpose of pseudoprivate attributes?\n",
    "\n",
    "To avoid namespace collisions in instances and not to restrict access to names in general."
   ]
  }
 ],
 "metadata": {
  "kernelspec": {
   "display_name": "Python 3 (ipykernel)",
   "language": "python",
   "name": "python3"
  },
  "language_info": {
   "codemirror_mode": {
    "name": "ipython",
    "version": 3
   },
   "file_extension": ".py",
   "mimetype": "text/x-python",
   "name": "python",
   "nbconvert_exporter": "python",
   "pygments_lexer": "ipython3",
   "version": "3.9.13"
  }
 },
 "nbformat": 4,
 "nbformat_minor": 5
}
