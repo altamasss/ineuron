{
 "cells": [
  {
   "cell_type": "code",
   "execution_count": null,
   "id": "ff651f0b",
   "metadata": {},
   "outputs": [],
   "source": [
    "#1. Why are functions advantageous to have in your programs?"
   ]
  },
  {
   "cell_type": "markdown",
   "id": "40bc9d47",
   "metadata": {},
   "source": [
    "-Reusability: Functions allow you to write a piece of code once and reuse it multiple times throughout your program.\n",
    "-Modularity: Functions allow you to break your program into smaller, more manageable pieces. This makes your code easier to   \n",
    " read, understand, and maintain.\n",
    "-Abstraction: Functions can abstract away complex or repetitive operations, making your code easier to understand and more \n",
    " readable.\n",
    "-Testing: Functions make it easier to test your code because you can test each function individually, without having to test the   entire program. "
   ]
  },
  {
   "cell_type": "code",
   "execution_count": null,
   "id": "44560464",
   "metadata": {},
   "outputs": [],
   "source": [
    "#2. When does the code in a function run: when it's specified or when it's called?"
   ]
  },
  {
   "cell_type": "markdown",
   "id": "c1324a38",
   "metadata": {},
   "source": [
    "A function code is executed when it is called."
   ]
  },
  {
   "cell_type": "code",
   "execution_count": null,
   "id": "45b7a145",
   "metadata": {},
   "outputs": [],
   "source": [
    "#3. What statement creates a function?"
   ]
  },
  {
   "cell_type": "markdown",
   "id": "5ed66866",
   "metadata": {},
   "source": [
    "def function_name():"
   ]
  },
  {
   "cell_type": "code",
   "execution_count": null,
   "id": "d46e14f2",
   "metadata": {},
   "outputs": [],
   "source": [
    "#4. What is the difference between a function and a function call?"
   ]
  },
  {
   "cell_type": "markdown",
   "id": "c064c67b",
   "metadata": {},
   "source": [
    "A function is a block of code that performs a specific task, and it is defined with a name and a set of input parameters (if any). \n",
    "A function call, on the other hand, is an instruction to execute a function with a specific set of input parameters (if any). "
   ]
  },
  {
   "cell_type": "code",
   "execution_count": null,
   "id": "b035c16a",
   "metadata": {},
   "outputs": [],
   "source": [
    "# Function definition\n",
    "def greet(name):\n",
    "    print(\"Hello, \" + name + \"!\")\n",
    "\n",
    "# Function call\n",
    "greet(\"Alice\")\n"
   ]
  },
  {
   "cell_type": "code",
   "execution_count": null,
   "id": "ffd7d886",
   "metadata": {},
   "outputs": [],
   "source": [
    "#5. How many global scopes are there in a Python program? How many local scopes?"
   ]
  },
  {
   "cell_type": "markdown",
   "id": "0337e939",
   "metadata": {},
   "source": [
    "The global scope is the outermost scope in a Python program and is created when the program starts running. \n",
    "Local scopes, on the other hand, are created whenever a function is called, and they exist only for the duration of that function call. "
   ]
  },
  {
   "cell_type": "code",
   "execution_count": null,
   "id": "fdbd0edb",
   "metadata": {},
   "outputs": [],
   "source": [
    "#6. What happens to variables in a local scope when the function call returns?"
   ]
  },
  {
   "cell_type": "markdown",
   "id": "fe872d98",
   "metadata": {},
   "source": [
    "Variables defined in a local scope cannot be accessed from outside that function, and any modifications made to them are lost when the function returns."
   ]
  },
  {
   "cell_type": "code",
   "execution_count": null,
   "id": "5fb90546",
   "metadata": {},
   "outputs": [],
   "source": [
    "#7. What is the concept of a return value? Is it possible to have a return value in an expression?"
   ]
  },
  {
   "cell_type": "markdown",
   "id": "22cc2978",
   "metadata": {},
   "source": [
    "A return value is the output of the function.\n",
    "Yes, it is possible to have a return value in the form of an expression."
   ]
  },
  {
   "cell_type": "code",
   "execution_count": null,
   "id": "946d764c",
   "metadata": {},
   "outputs": [],
   "source": [
    "#8. If a function does not have a return statement, what is the return value of a call to that function?"
   ]
  },
  {
   "cell_type": "markdown",
   "id": "8ac1ede0",
   "metadata": {},
   "source": [
    "If a function does not have a return statement, the return value of a call to that function will be None."
   ]
  },
  {
   "cell_type": "code",
   "execution_count": null,
   "id": "60e875cb",
   "metadata": {},
   "outputs": [],
   "source": [
    "#9. How do you make a function variable refer to the global variable?"
   ]
  },
  {
   "cell_type": "markdown",
   "id": "12413416",
   "metadata": {},
   "source": [
    "To make a function variable refer to a global variable with the same name, you can use the global keyword inside the function."
   ]
  },
  {
   "cell_type": "code",
   "execution_count": null,
   "id": "0d0e2ed8",
   "metadata": {},
   "outputs": [],
   "source": [
    "#10. What is the data type of None?"
   ]
  },
  {
   "cell_type": "code",
   "execution_count": null,
   "id": "fe96c5c1",
   "metadata": {},
   "outputs": [],
   "source": [
    "NoneType"
   ]
  },
  {
   "cell_type": "code",
   "execution_count": null,
   "id": "72aac236",
   "metadata": {},
   "outputs": [],
   "source": [
    "#11. What does the sentence import areallyourpetsnamederic do?"
   ]
  },
  {
   "cell_type": "markdown",
   "id": "1fa48ffa",
   "metadata": {},
   "source": [
    "the statement import areallyourpetsnamederic is not a valid module name in Python, so attempting to import it would result in a ModuleNotFoundError."
   ]
  },
  {
   "cell_type": "code",
   "execution_count": null,
   "id": "123e055f",
   "metadata": {},
   "outputs": [],
   "source": [
    "#12. If you had a bacon() feature in a spam module, what would you call it after importing spam?"
   ]
  },
  {
   "cell_type": "code",
   "execution_count": null,
   "id": "76893960",
   "metadata": {},
   "outputs": [],
   "source": [
    "spam.bacon()"
   ]
  },
  {
   "cell_type": "code",
   "execution_count": null,
   "id": "f1e72b5e",
   "metadata": {},
   "outputs": [],
   "source": [
    "#13. What can you do to save a programme from crashing if it encounters an error?"
   ]
  },
  {
   "cell_type": "code",
   "execution_count": null,
   "id": "c6d34d30",
   "metadata": {},
   "outputs": [],
   "source": [
    "Add exception handling to the program so that the error is caught and the program won't crash."
   ]
  },
  {
   "cell_type": "code",
   "execution_count": null,
   "id": "1bb86c4b",
   "metadata": {},
   "outputs": [],
   "source": [
    "#14. What is the purpose of the try clause? What is the purpose of the except clause?"
   ]
  },
  {
   "cell_type": "markdown",
   "id": "2e93a528",
   "metadata": {},
   "source": [
    "-try checks if the block is raising any exceptions or not.\n",
    "-except catches the exception raised in try block.\n",
    "-The program control goes to except block once try block raises an exception."
   ]
  }
 ],
 "metadata": {
  "kernelspec": {
   "display_name": "Python 3 (ipykernel)",
   "language": "python",
   "name": "python3"
  },
  "language_info": {
   "codemirror_mode": {
    "name": "ipython",
    "version": 3
   },
   "file_extension": ".py",
   "mimetype": "text/x-python",
   "name": "python",
   "nbconvert_exporter": "python",
   "pygments_lexer": "ipython3",
   "version": "3.9.13"
  }
 },
 "nbformat": 4,
 "nbformat_minor": 5
}
