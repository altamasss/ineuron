{
 "cells": [
  {
   "cell_type": "code",
   "execution_count": null,
   "id": "96938bd1",
   "metadata": {},
   "outputs": [],
   "source": [
    "#1. Write a Python Program to Find LCM?\n",
    "\n",
    "import math\n",
    "\n",
    "num1 = int(input(\"Enter first number: \"))\n",
    "num2 = int(input(\"Enter second number: \"))\n",
    "gcd = math.gcd(num1, num2)\n",
    "lcm = (num1 * num2)/gcd\n",
    "print(int(lcm))"
   ]
  },
  {
   "cell_type": "code",
   "execution_count": null,
   "id": "1103986b",
   "metadata": {},
   "outputs": [],
   "source": [
    "#2. Write a Python Program to Find HCF?\n",
    "\n",
    "import math\n",
    "\n",
    "num1 = int(input(\"Enter first number: \"))\n",
    "num2 = int(input(\"Enter second number: \"))\n",
    "hcf = math.gcd(num1, num2)\n",
    "print(int(hcf))"
   ]
  },
  {
   "cell_type": "code",
   "execution_count": null,
   "id": "4976d93d",
   "metadata": {},
   "outputs": [],
   "source": [
    "#3. Write a Python Program to Convert Decimal to Binary, Octal and Hexadecimal?\n",
    "\n",
    "num = int(input(\"Enter number: \"))\n",
    "num2 = bin(num).lstrip(\"0b\")\n",
    "num8 = oct(num).lstrip(\"0o\")\n",
    "num16 = hex(num).lstrip(\"0x\")\n",
    "print(\"Binary= \",num2)\n",
    "print(\"Octal= \",num8)\n",
    "print(\"Hexadecimal= \",num16)"
   ]
  },
  {
   "cell_type": "code",
   "execution_count": null,
   "id": "b8a7ebbd",
   "metadata": {},
   "outputs": [],
   "source": [
    "#4. Write a Python Program To Find ASCII value of a character\n",
    "\n",
    "c = input(\"Enter a character: \")\n",
    "print(\"ASCII = \",ord(c))"
   ]
  },
  {
   "cell_type": "code",
   "execution_count": null,
   "id": "b4588841",
   "metadata": {},
   "outputs": [],
   "source": [
    "#5. Write a Python Program to Make a Simple Calculator with 4 basic mathematical operations\n",
    "\n",
    "while True:\n",
    "    num1 = int(input(\"Enter first number: \"))\n",
    "    num2 = int(input(\"Enter second number: \"))\n",
    "    print(\"1. Addition\")\n",
    "    print(\"2. Subtraction\")\n",
    "    print(\"3. Multiplication\")\n",
    "    print(\"4. Division\")\n",
    "    ch = int(input(\"What do you want to do?\"))\n",
    "    if ch == 1:\n",
    "        print(num1+num2)\n",
    "    elif ch == 2:\n",
    "        print(num1-num2)\n",
    "    elif ch == 3:\n",
    "        print(num1*num2)\n",
    "    elif ch == 4:\n",
    "        print(num1/num2)\n",
    "    else:\n",
    "        print(\"Enter correct option.\")\n",
    "    c = input(\"Do you want to quit(q)?\")\n",
    "    if c[0] == 'q' or c[0] == 'Q':\n",
    "        break"
   ]
  }
 ],
 "metadata": {
  "kernelspec": {
   "display_name": "Python 3 (ipykernel)",
   "language": "python",
   "name": "python3"
  },
  "language_info": {
   "codemirror_mode": {
    "name": "ipython",
    "version": 3
   },
   "file_extension": ".py",
   "mimetype": "text/x-python",
   "name": "python",
   "nbconvert_exporter": "python",
   "pygments_lexer": "ipython3",
   "version": "3.9.13"
  }
 },
 "nbformat": 4,
 "nbformat_minor": 5
}
