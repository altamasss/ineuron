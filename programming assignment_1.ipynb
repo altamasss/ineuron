{
 "cells": [
  {
   "cell_type": "code",
   "execution_count": null,
   "id": "951539d9",
   "metadata": {},
   "outputs": [],
   "source": [
    "#1. Write a Python program to print \"Hello Python\"?\n",
    "\n",
    "print(\"Hello Python.\")"
   ]
  },
  {
   "cell_type": "code",
   "execution_count": null,
   "id": "f2adb61d",
   "metadata": {},
   "outputs": [],
   "source": [
    "#2. Write a Python program to do arithmetical operations addition and division.?\n",
    "\n",
    "num1 = int(input(\"Enter num: \"))\n",
    "num2 = int(input(\"Enter num: \"))\n",
    "add = num1 + num2\n",
    "sol = num1 / num2\n",
    "print(\"Addition operation of {}, {} gives {}\".format(num1, num2, add))\n",
    "print(\"Division operation of {}, {} gives {}\".format(num1, num2, sol))"
   ]
  },
  {
   "cell_type": "code",
   "execution_count": null,
   "id": "a87063ad",
   "metadata": {},
   "outputs": [],
   "source": [
    "#3. Write a Python program to find the area of a triangle?\n",
    "\n",
    "b = int(input(\"Enter base of triangle: \"))\n",
    "h = int(input(\"Enter altitude of triangle: \"))\n",
    "area = (b * h)/2\n",
    "print(\"Area of triangle= {}\".format(area))"
   ]
  },
  {
   "cell_type": "code",
   "execution_count": null,
   "id": "62c0234c",
   "metadata": {},
   "outputs": [],
   "source": [
    "#4. Write a Python program to swap two variables?\n",
    "\n",
    "num1 = int(input(\"Enter num: \"))\n",
    "num2 = int(input(\"Enter num: \"))\n",
    "num2, num1 = num1, num2\n",
    "print(\"Swapped numbers:{}, {}\".format(num1, num2))"
   ]
  },
  {
   "cell_type": "code",
   "execution_count": null,
   "id": "b3d06000",
   "metadata": {},
   "outputs": [],
   "source": [
    "#5. Write a Python program to generate a random number?\n",
    "\n",
    "import random\n",
    "randNum = random.randint(1,999)\n",
    "print(\"Random between 1 and 999: \",randNum)"
   ]
  }
 ],
 "metadata": {
  "kernelspec": {
   "display_name": "Python 3 (ipykernel)",
   "language": "python",
   "name": "python3"
  },
  "language_info": {
   "codemirror_mode": {
    "name": "ipython",
    "version": 3
   },
   "file_extension": ".py",
   "mimetype": "text/x-python",
   "name": "python",
   "nbconvert_exporter": "python",
   "pygments_lexer": "ipython3",
   "version": "3.9.13"
  }
 },
 "nbformat": 4,
 "nbformat_minor": 5
}
