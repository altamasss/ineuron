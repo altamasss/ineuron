{
 "cells": [
  {
   "cell_type": "code",
   "execution_count": 1,
   "id": "b660c8ea",
   "metadata": {},
   "outputs": [
    {
     "name": "stdout",
     "output_type": "stream",
     "text": [
      "Enter comma separated numbers input: 100,200,300\n",
      "[18, 25, 31]\n"
     ]
    }
   ],
   "source": [
    "'''\n",
    "1. Write a program that calculates and prints the value according to the given formula:\n",
    "Q = Square root of [(2 C D)/H]\n",
    "\n",
    "Following are the fixed values of C and H:\n",
    "\n",
    "C is 50. H is 30.\n",
    "\n",
    "D is the variable whose values should be input to your program in a comma-separated sequence.\n",
    "\n",
    "\n",
    "'''\n",
    "\n",
    "import math\n",
    "\n",
    "def calculate_formula(args):\n",
    "    c = 50\n",
    "    h = 30\n",
    "    result = []\n",
    "    for d in args:\n",
    "        result.append(int(math.sqrt((2*c*int(d))/h)))\n",
    "    print(result)\n",
    "    \n",
    "\n",
    "inp = list(input(\"Enter comma separated numbers input: \").split(','))\n",
    "calculate_formula(inp)"
   ]
  },
  {
   "cell_type": "code",
   "execution_count": 2,
   "id": "ba7a8062",
   "metadata": {},
   "outputs": [
    {
     "name": "stdout",
     "output_type": "stream",
     "text": [
      "Enter X value: 4\n",
      "Enter Y value: 4\n",
      "[[0, 0, 0, 0], [0, 1, 2, 3], [0, 2, 4, 6], [0, 3, 6, 9]]\n"
     ]
    }
   ],
   "source": [
    "'''\n",
    "2. Write a program which takes 2 digits, X,Y as input and generates a 2-dimensional array. \n",
    "   The element value in the i-th row and j-th column of the array should be i*j.\n",
    "\n",
    "Note: i=0,1.., X-1; j=0,1,¡Y-1.\n",
    "Example\n",
    "Suppose the following inputs are given to the program:\n",
    "3,5\n",
    "Then, the output of the program should be:\n",
    "[[0, 0, 0, 0, 0], [0, 1, 2, 3, 4], [0, 2, 4, 6, 8]]\n",
    "'''\n",
    "\n",
    "x = int(input(\"Enter X value: \"))\n",
    "y = int(input(\"Enter Y value: \"))\n",
    "matrix = []\n",
    "for i in range(x):\n",
    "    row = []\n",
    "    for j in range(y):\n",
    "        row.append(i*j)\n",
    "    matrix.append(row)\n",
    "print(matrix)"
   ]
  },
  {
   "cell_type": "code",
   "execution_count": 3,
   "id": "a7ae542e",
   "metadata": {},
   "outputs": [
    {
     "name": "stdout",
     "output_type": "stream",
     "text": [
      "Enter comma seperated words: without,hello,bag,world\n",
      "bag,hello,without,world\n"
     ]
    }
   ],
   "source": [
    "'''\n",
    "3. Write a program that accepts a comma separated sequence of words as input and prints \n",
    "the words in a comma-separated sequence after sorting them alphabetically.\n",
    "\n",
    "Suppose the following input is supplied to the program:\n",
    "without,hello,bag,world\n",
    "Then, the output should be:\n",
    "bag,hello,without,world\n",
    "'''\n",
    "\n",
    "words = list(input(\"Enter comma seperated words: \").split(','))\n",
    "words.sort() \n",
    "print(','.join(words))"
   ]
  },
  {
   "cell_type": "code",
   "execution_count": 4,
   "id": "30e0e11e",
   "metadata": {},
   "outputs": [
    {
     "name": "stdout",
     "output_type": "stream",
     "text": [
      "Enter comma seperated words: hello world and practice makes perfect and hello world again\n",
      "again and hello makes perfect practice world\n"
     ]
    }
   ],
   "source": [
    "'''\n",
    "4. Write a program that accepts a sequence of whitespace separated words as input and prints the words after\n",
    "removing all duplicate words and sorting them alphanumerically.\n",
    "\n",
    "Suppose the following input is supplied to the program:\n",
    "hello world and practice makes perfect and hello world again\n",
    "Then, the output should be:\n",
    "again and hello makes perfect practice world\n",
    "'''\n",
    "\n",
    "words = list(set(input(\"Enter comma seperated words: \").split(' ')))\n",
    "words.sort() \n",
    "print(' '.join(words))"
   ]
  },
  {
   "cell_type": "code",
   "execution_count": 5,
   "id": "c8399b46",
   "metadata": {},
   "outputs": [
    {
     "name": "stdout",
     "output_type": "stream",
     "text": [
      "Enter a sentence: hello world! 123\n",
      "LETTERS 10\n",
      "DIGITS 3\n"
     ]
    }
   ],
   "source": [
    "'''\n",
    "5. Write a program that accepts a sentence and calculate the number of letters and digits.\n",
    "\n",
    "Suppose the following input is supplied to the program:\n",
    "hello world! 123\n",
    "Then, the output should be:\n",
    "LETTERS 10\n",
    "\n",
    "DIGITS 3\n",
    "'''\n",
    "\n",
    "words = input(\"Enter a sentence: \")\n",
    "letters = 0\n",
    "digits = 0\n",
    "for c in words:\n",
    "    if (ord(c) >= ord('a') and ord(c) <= ord('z')) or (ord(c) >= ord('A') and ord(c) <= ord('Z')):\n",
    "        letters += 1\n",
    "    elif ord(c) >= ord('0') and ord(c) <= ord('9'):\n",
    "        digits += 1\n",
    "print(\"LETTERS {}\".format(letters))\n",
    "print(\"DIGITS {}\".format(digits))"
   ]
  },
  {
   "cell_type": "code",
   "execution_count": 9,
   "id": "bd385378",
   "metadata": {},
   "outputs": [
    {
     "name": "stdout",
     "output_type": "stream",
     "text": [
      "Enter comma seperated passwords: Aaltamas@123\n",
      "Aaltamas@123\n"
     ]
    }
   ],
   "source": [
    "'''\n",
    "6. A website requires the users to input username and password to register.\n",
    "Write a program to check the validity of password input by users.\n",
    "\n",
    "Following are the criteria for checking the password:\n",
    "1. At least 1 letter between [a-z]\n",
    "2. At least 1 number between [0-9]\n",
    "1. At least 1 letter between [A-Z]\n",
    "3. At least 1 character from [$#@]\n",
    "4. Minimum length of transaction password: 6\n",
    "5. Maximum length of transaction password: 12\n",
    "Your program should accept a sequence of comma separated passwords and will check them\n",
    "according to the above criteria. Passwords that match the criteria are to be printed, each\n",
    "separated by a comma.\n",
    "'''\n",
    "\n",
    "def check_smallcase(password):\n",
    "    check = False\n",
    "    for p in password:\n",
    "        if ord(p) >= ord('a') and ord(p) <= ord('z'):\n",
    "            check = True\n",
    "            break\n",
    "    return check\n",
    "\n",
    "def check_uppercase(password):\n",
    "    check = False\n",
    "    for p in password:\n",
    "        if ord(p) >= ord('A') and ord(p) <= ord('Z'):\n",
    "            check = True\n",
    "            break\n",
    "    return check\n",
    "\n",
    "def check_digit(password):\n",
    "    check = False\n",
    "    for p in password:\n",
    "        if ord(p) >= ord('1') and ord(p) <= ord('9'):\n",
    "            check = True\n",
    "            break\n",
    "    return check\n",
    "\n",
    "def check_specialchars(password):\n",
    "    check = False\n",
    "    specials = \"!@#$%^&*()_+=->;,:/?`\"\n",
    "    for p in password:\n",
    "        if p in specials:\n",
    "            check = True\n",
    "            break\n",
    "    return check\n",
    "\n",
    "def check_minlength(password):\n",
    "    return len(password) >= 6\n",
    "\n",
    "def check_maxlength(password):\n",
    "    return len(password) <= 12\n",
    "\n",
    "passwords = list(set(input(\"Enter comma seperated passwords: \").split(',')))\n",
    "valid_passwords = []\n",
    "for password in passwords:\n",
    "    if check_smallcase(password) and check_uppercase(password) and check_digit(password) and check_specialchars(password) and check_minlength(password) and check_maxlength(password):\n",
    "        valid_passwords.append(password)\n",
    "print(','.join(valid_passwords))"
   ]
  }
 ],
 "metadata": {
  "kernelspec": {
   "display_name": "Python 3 (ipykernel)",
   "language": "python",
   "name": "python3"
  },
  "language_info": {
   "codemirror_mode": {
    "name": "ipython",
    "version": 3
   },
   "file_extension": ".py",
   "mimetype": "text/x-python",
   "name": "python",
   "nbconvert_exporter": "python",
   "pygments_lexer": "ipython3",
   "version": "3.9.13"
  }
 },
 "nbformat": 4,
 "nbformat_minor": 5
}
