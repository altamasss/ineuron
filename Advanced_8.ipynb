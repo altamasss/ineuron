{
 "cells": [
  {
   "cell_type": "code",
   "execution_count": null,
   "id": "7d8dde9e",
   "metadata": {},
   "outputs": [],
   "source": [
    "# Q1. What are the two latest user-defined exception constraints in Python 3.X?\n",
    "\n",
    "\n",
    "\"1\"\n",
    "\n",
    "\"raise\" statement with \"Exception\" class:\n",
    "This is the most basic way to define a user-defined exception in Python 3.x. \n",
    "You can use the \"raise\" statement with the \"Exception\" class to raise an exception of your own choosing.\n",
    "\n",
    "\n",
    "\"2\"\n",
    "\n",
    "\"assert\" statement with \"AssertionError\" class:\n",
    "Another way to define a user-defined exception is by using the \"assert\" statement\n",
    "with the \"AssertionError\" class. This is commonly used when you want to check for\n",
    "a certain condition in your code and raise an exception if that condition is not met."
   ]
  },
  {
   "cell_type": "code",
   "execution_count": null,
   "id": "1f65b3ce",
   "metadata": {},
   "outputs": [],
   "source": [
    "# Q2. How are class-based exceptions that have been raised matched to handlers?\n",
    "\n",
    "When an exception is raised, the interpreter starts looking for a matching exception \n",
    "handler from the innermost block and moves outwards towards the outermost block until a matching handler is found.\n",
    "\n",
    "If a class-based exception is raised, the interpreter looks for handlers \n",
    "that can handle exceptions of that class or its subclasses.\n",
    "\n",
    "If a handler is found, it is called to handle the exception. \n",
    "If no matching handler is found, the interpreter terminates the program and prints an error message."
   ]
  },
  {
   "cell_type": "code",
   "execution_count": null,
   "id": "bcc8df90",
   "metadata": {},
   "outputs": [],
   "source": [
    "# Q3. Describe two methods for attaching context information to exception artifacts.\n",
    "\n",
    "\"1\"\n",
    "Adding metadata to the exception object:\n",
    "You can add metadata to the exception object to provide additional context information about the exception. \n",
    "This metadata can include things like the current state of the program, the values of variables,\n",
    "the time of the error, and any other relevant information. \n",
    "You can add metadata to the exception object by creating custom attributes or by using existing attributes, \n",
    "such as the \"args\" attribute.\n",
    "\n",
    "\"2\"\n",
    "Using a context manager:\n",
    "You can also use a context manager to attach context information to an exception.\n",
    "A context manager is a Python construct that allows you to set up a context \n",
    "before running a block of code and tear it down afterwards. \n",
    "You can use a context manager to set up the context information \n",
    "before executing the code that may raise an exception and tear it down afterwards."
   ]
  },
  {
   "cell_type": "code",
   "execution_count": null,
   "id": "65f565c5",
   "metadata": {},
   "outputs": [],
   "source": [
    "# Q4. Describe two methods for specifying the text of an exception object's error message.\n",
    "\n",
    "\"1\"\n",
    "Passing a message string to the exception constructor:\n",
    "When raising an exception, you can pass a message string as an argument to the exception constructor.\n",
    "This message will be stored in the \"args\" attribute of the exception object and can be accessed using the \"str\" method. \n",
    "You can also define your own exception classes and override the \"init\" method to accept a message argument.\n",
    "\n",
    "\n",
    "\"2\"\n",
    "Formatting a message string using string formatting:\n",
    "You can also use string formatting to construct an error message that includes information about the context of the error.\n",
    "You can use string formatting placeholders, such as \"{}\" or \"{0}\", to insert values into the error message. \n",
    "You can then pass this formatted message string as an argument to the exception constructor."
   ]
  },
  {
   "cell_type": "code",
   "execution_count": null,
   "id": "3829fd1c",
   "metadata": {},
   "outputs": [],
   "source": [
    "# Q5. Why do you no longer use string-based exceptions?\n",
    "\n",
    "Lack of type checking: With string-based exceptions, \n",
    "there was no way to ensure that the correct exception type was being raised or caught.\n",
    "This could lead to errors and make debugging more difficult.\n",
    "\n",
    "No subclassing: String-based exceptions could not be subclassed or extended, \n",
    "which limited their functionality and made it difficult to organize and manage exception handling.\n",
    "\n",
    "No traceback: String-based exceptions did not provide traceback information,\n",
    "which made it harder to identify the source of the error.\n",
    "\n",
    "Not Pythonic: Using strings to represent exceptions is not consistent with Python design philosophy,\n",
    "which emphasizes clarity and readability."
   ]
  }
 ],
 "metadata": {
  "kernelspec": {
   "display_name": "Python 3 (ipykernel)",
   "language": "python",
   "name": "python3"
  },
  "language_info": {
   "codemirror_mode": {
    "name": "ipython",
    "version": 3
   },
   "file_extension": ".py",
   "mimetype": "text/x-python",
   "name": "python",
   "nbconvert_exporter": "python",
   "pygments_lexer": "ipython3",
   "version": "3.9.13"
  }
 },
 "nbformat": 4,
 "nbformat_minor": 5
}
