{
 "cells": [
  {
   "cell_type": "code",
   "execution_count": null,
   "id": "35cdc60b",
   "metadata": {},
   "outputs": [],
   "source": [
    "#1. Write a Python program to check if the given number is a Disarium Number?\n",
    "\n",
    "def disarium(num):\n",
    "    pos = 1\n",
    "    summ = 0\n",
    "    for d in num:\n",
    "        summ += int(d)**pos\n",
    "        pos += 1\n",
    "    if summ == int(num):\n",
    "        return True\n",
    "    else:\n",
    "        return False\n",
    "        \n",
    "num = input(\"Enter number: \")\n",
    "if(disarium(num)):\n",
    "    print(\"Number is a disarium number\")\n",
    "else:\n",
    "    print(\"Number is not a disarium number\")"
   ]
  },
  {
   "cell_type": "code",
   "execution_count": null,
   "id": "dff911fe",
   "metadata": {},
   "outputs": [],
   "source": [
    "#2. Write a Python program to print all disarium numbers between 1 to 100?\n",
    "\n",
    "for num in filter(disarium,map(str,range(1,101))):\n",
    "    print(num, end=\" \")\n",
    "    "
   ]
  },
  {
   "cell_type": "code",
   "execution_count": null,
   "id": "9bcb5e51",
   "metadata": {},
   "outputs": [],
   "source": [
    "#3. Write a Python program to check if the given number is Happy Number?\n",
    "\n",
    "def is_happy(num):    \n",
    "    while True:\n",
    "        pos = 1\n",
    "        summ = 0\n",
    "        for d in num:\n",
    "            summ += int(d)**2\n",
    "            pos += 1  \n",
    "        if summ == 1:\n",
    "            return True            \n",
    "        elif summ == 4:\n",
    "            return False\n",
    "        else:\n",
    "            num = str(summ)\n",
    "        \n",
    "num = input(\"Enter number: \")\n",
    "if(is_happy(num)):\n",
    "    print(\"Number is a happy number\")\n",
    "else:\n",
    "    print(\"Number is not a happy number\")"
   ]
  },
  {
   "cell_type": "code",
   "execution_count": null,
   "id": "7927144d",
   "metadata": {},
   "outputs": [],
   "source": [
    "#4. Write a Python program to print all happy numbers between 1 and 100.\n",
    "\n",
    "for num in filter(is_happy,map(str,range(1,101))):\n",
    "    print(num, end=\" \")"
   ]
  },
  {
   "cell_type": "code",
   "execution_count": null,
   "id": "20bb1ffc",
   "metadata": {},
   "outputs": [],
   "source": [
    "#5. Write a Python program to determine whether the given number is a Harshad Number.\n",
    "\n",
    "def is_harshad(num): \n",
    "    summ = 0\n",
    "    for d in num:\n",
    "        summ += int(d)\n",
    "    if int(num)%summ == 0:\n",
    "        return True\n",
    "    else:\n",
    "        return False\n",
    "        \n",
    "num = input(\"Enter number: \")\n",
    "if(is_harshad(num)):\n",
    "    print(\"Number is a Harshad number\")\n",
    "else:\n",
    "    print(\"Number is not a Harshad number\")"
   ]
  },
  {
   "cell_type": "code",
   "execution_count": null,
   "id": "b261849e",
   "metadata": {},
   "outputs": [],
   "source": [
    "#6. Write a Python program to print all pronic numbers between 1 and 100.\n",
    "\n",
    "def is_pronic(num): \n",
    "    if num == 2:\n",
    "        return True\n",
    "    for i in range(1, num//2):        \n",
    "        if i*(i+1) == num:\n",
    "            return True\n",
    "    return False\n",
    "        \n",
    "for num in filter(is_pronic,range(1,101)):\n",
    "    print(num, end=\" \")"
   ]
  }
 ],
 "metadata": {
  "kernelspec": {
   "display_name": "Python 3 (ipykernel)",
   "language": "python",
   "name": "python3"
  },
  "language_info": {
   "codemirror_mode": {
    "name": "ipython",
    "version": 3
   },
   "file_extension": ".py",
   "mimetype": "text/x-python",
   "name": "python",
   "nbconvert_exporter": "python",
   "pygments_lexer": "ipython3",
   "version": "3.9.13"
  }
 },
 "nbformat": 4,
 "nbformat_minor": 5
}
