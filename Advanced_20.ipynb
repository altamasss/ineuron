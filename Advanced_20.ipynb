{
 "cells": [
  {
   "cell_type": "code",
   "execution_count": null,
   "id": "70ebc823",
   "metadata": {},
   "outputs": [],
   "source": [
    "'''\n",
    "1. Compare and contrast the float and Decimal classes' benefits and drawbacks ?\n",
    "'''\n",
    "\n",
    "Ans: Both the float and decimal types store numerical values in Python.\n",
    "\n",
    "Use floats when convenience and speed matter. A float gives you an approximation of the number you declare.\n",
    "\n",
    "Use decimals when precision matters. Decimals can suffer from their own precision issues, \n",
    "but generally, decimals are more precise than floats. The performance difference between float and decimal, \n",
    "with Python 3, is not outlandish, and in my experience, the precision benefits of a decimal outweigh\n",
    "the performance benefits of a float."
   ]
  },
  {
   "cell_type": "code",
   "execution_count": null,
   "id": "dad696fa",
   "metadata": {},
   "outputs": [],
   "source": [
    "'''\n",
    "2. Decimal('1.200') and Decimal('1.2') are two objects to consider.\n",
    "In what sense are these the same object? Are these just two ways of representing the exact same value,\n",
    "or do they correspond to different internal states ?\n",
    "'''\n",
    "Ans: Both values are same but internal representation at storage Is different. \n",
    "    Precsion differs, Decimal('1.200') gives internally 1.200 and Decimal('1.2') gives 1.2."
   ]
  },
  {
   "cell_type": "code",
   "execution_count": null,
   "id": "09b69259",
   "metadata": {},
   "outputs": [],
   "source": [
    "'''\n",
    "3. What happens if the equality of Decimal('1.200') and Decimal('1.2') is checked ?\n",
    "'''\n",
    "\n",
    "Ans: Both values are checked to be equal , they only differ in precision."
   ]
  },
  {
   "cell_type": "code",
   "execution_count": null,
   "id": "d1c3c6c7",
   "metadata": {},
   "outputs": [],
   "source": [
    "'''\n",
    "4. Why is it preferable to start a Decimal object with a string rather than a floating-point value ?\n",
    "'''\n",
    "\n",
    "Ans: Floating-point value is converted to Decimal format. Decimal can store float value with absolute precision. \n",
    "    But when float value is given as Decimal object,\n",
    "    it first has to be converted from floating point value which might already have rounding error.\n",
    "    Hence it is preferable to start a Decimal object with a string."
   ]
  },
  {
   "cell_type": "code",
   "execution_count": null,
   "id": "86ca06d1",
   "metadata": {},
   "outputs": [],
   "source": [
    "'''\n",
    "5. In an arithmetic phrase, how simple is it to combine Decimal objects with integers ?\n",
    "'''\n",
    "Ans: We can do it with use of Decimal()."
   ]
  },
  {
   "cell_type": "code",
   "execution_count": null,
   "id": "187bce9e",
   "metadata": {},
   "outputs": [],
   "source": [
    "'''\n",
    "6. Can Decimal objects and floating-point values be combined easily ?\n",
    "'''\n",
    "Ans: Arithmetic operfations like Adding,subtracting or multiplying a Decimal object\n",
    "    by a floating-point value is generates an error.\n",
    "\n",
    "To do these operations, the floating point has to be converted to a Decimal."
   ]
  },
  {
   "cell_type": "code",
   "execution_count": null,
   "id": "36407d5b",
   "metadata": {},
   "outputs": [],
   "source": [
    "'''\n",
    "7. Using the Fraction class but not the Decimal class,\n",
    "give an example of a quantity that can be expressed with absolute precision ?\n",
    "'''\n",
    "\n",
    "Ans: Value of 0.5 will be represented as ½."
   ]
  },
  {
   "cell_type": "code",
   "execution_count": null,
   "id": "b3ee9722",
   "metadata": {},
   "outputs": [],
   "source": [
    "'''\n",
    "8. Describe a quantity that can be accurately expressed by the Decimal or Fraction classes but not by\n",
    "a floating-point value.\n",
    "'''\n",
    "One example of a quantity that can be accurately expressed by the Decimal or Fraction classes \n",
    "but not by a floating-point value is 0.1 in decimal form or 1/10 in fractional form.\n",
    "\n",
    "In decimal form, 0.1 can be represented exactly as 0.1 in the Decimal class, \n",
    "but in floating-point representation, it is actually stored as a binary approximation, which is not exact. Therefore, when performing arithmetic operations on this number, the result can be inaccurate due to rounding errors.\n",
    "\n",
    "Similarly, in fractional form, 1/10 can be represented exactly as a Fraction object\n",
    "with a numerator of 1 and a denominator of 10. However, in floating-point representation, \n",
    "this value is also stored as a binary approximation, which can lead to inaccuracies in arithmetic operations.\n",
    "\n",
    "Therefore, if precise decimal or fractional values are required, \n",
    "it is recommended to use the Decimal or Fraction classes instead of floating-point representation."
   ]
  },
  {
   "cell_type": "code",
   "execution_count": null,
   "id": "2ed089c6",
   "metadata": {},
   "outputs": [],
   "source": [
    "'''\n",
    "9.Consider the following two fraction objects: Fraction(1, 2) and Fraction(1, 2). (5, 10).\n",
    "Is the internal state of these two objects the same? Why do you think that is ?\n",
    "'''\n",
    "Ans: Both will be reduced to 1/2\n",
    "\n"
   ]
  },
  {
   "cell_type": "code",
   "execution_count": null,
   "id": "3f0c979b",
   "metadata": {},
   "outputs": [],
   "source": [
    "'''\n",
    "10. How do the Fraction class and the integer type (int) relate to each other? Containment or inheritance ?\n",
    "\n",
    "'''\n",
    "Ans: Fraction class and integer type(int) are related in form of a container.\n",
    "    It contains two ints, one the numerator and the other the denominator"
   ]
  }
 ],
 "metadata": {
  "kernelspec": {
   "display_name": "Python 3 (ipykernel)",
   "language": "python",
   "name": "python3"
  },
  "language_info": {
   "codemirror_mode": {
    "name": "ipython",
    "version": 3
   },
   "file_extension": ".py",
   "mimetype": "text/x-python",
   "name": "python",
   "nbconvert_exporter": "python",
   "pygments_lexer": "ipython3",
   "version": "3.9.13"
  }
 },
 "nbformat": 4,
 "nbformat_minor": 5
}
