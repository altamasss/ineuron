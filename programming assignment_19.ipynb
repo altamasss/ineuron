{
 "cells": [
  {
   "cell_type": "code",
   "execution_count": 1,
   "id": "11a9240f",
   "metadata": {},
   "outputs": [
    {
     "data": {
      "text/plain": [
       "'SSttrriinngg'"
      ]
     },
     "execution_count": 1,
     "metadata": {},
     "output_type": "execute_result"
    }
   ],
   "source": [
    "'''\n",
    "1. Create a function that takes a string and returns a string in which each character is repeated once.\n",
    "'''\n",
    "def double_char(s):\n",
    "    \"\"\"\n",
    "    Returns a string in which each character is repeated once.\n",
    "    Input\n",
    "    s: a string\n",
    "    \"\"\"\n",
    "    new_s = \"\"\n",
    "    for ch in s:\n",
    "        new_s += ch*2\n",
    "    return new_s\n",
    "double_char(\"String\")"
   ]
  },
  {
   "cell_type": "code",
   "execution_count": 2,
   "id": "42bc0b3d",
   "metadata": {},
   "outputs": [
    {
     "data": {
      "text/plain": [
       "'HHeelllloo  WWoorrlldd'"
      ]
     },
     "execution_count": 2,
     "metadata": {},
     "output_type": "execute_result"
    }
   ],
   "source": [
    "double_char(\"Hello World\")"
   ]
  },
  {
   "cell_type": "code",
   "execution_count": 3,
   "id": "a986b0ef",
   "metadata": {},
   "outputs": [
    {
     "data": {
      "text/plain": [
       "False"
      ]
     },
     "execution_count": 3,
     "metadata": {},
     "output_type": "execute_result"
    }
   ],
   "source": [
    "'''\n",
    "2. Create a function that reverses a boolean value and returns the string \"boolean expected\" if another variable type is given.\n",
    "'''\n",
    "def reverse(b):\n",
    "    \"\"\"\n",
    "    Reverses a boolean value and returns the string \"boolean expected\" if another variable type is given.\n",
    "    \"\"\"\n",
    "    if type(b) == bool:\n",
    "        return not b\n",
    "    else:\n",
    "        return \"boolean expected\"\n",
    "reverse(True)"
   ]
  },
  {
   "cell_type": "code",
   "execution_count": 4,
   "id": "d7865f6d",
   "metadata": {},
   "outputs": [
    {
     "data": {
      "text/plain": [
       "True"
      ]
     },
     "execution_count": 4,
     "metadata": {},
     "output_type": "execute_result"
    }
   ],
   "source": [
    "reverse(False)"
   ]
  },
  {
   "cell_type": "code",
   "execution_count": 5,
   "id": "8d8d9fda",
   "metadata": {},
   "outputs": [
    {
     "data": {
      "text/plain": [
       "'0.001 m'"
      ]
     },
     "execution_count": 5,
     "metadata": {},
     "output_type": "execute_result"
    }
   ],
   "source": [
    "'''\n",
    "3. Create a function that returns the thickness (in meters) of a piece of paper after folding it n number of times. \n",
    "The paper starts off with a thickness of 0.5mm.\n",
    "'''\n",
    "def num_layers(n):\n",
    "    \"\"\"\n",
    "    Returns the thickness (in meters) of a piece of paper after folding it n number of times. The paper starts off with a thickness of 0.5mm.\n",
    "    Input\n",
    "    n; Number of times paper is folded\n",
    "    \"\"\"\n",
    "    thickness = (0.5*2**n)/1000\n",
    "    return \"{} m\".format(thickness)\n",
    "num_layers(1)"
   ]
  },
  {
   "cell_type": "code",
   "execution_count": 6,
   "id": "0ae6d456",
   "metadata": {},
   "outputs": [
    {
     "data": {
      "text/plain": [
       "'1048.576 m'"
      ]
     },
     "execution_count": 6,
     "metadata": {},
     "output_type": "execute_result"
    }
   ],
   "source": [
    "num_layers(21)"
   ]
  },
  {
   "cell_type": "code",
   "execution_count": 7,
   "id": "9b94cf0a",
   "metadata": {},
   "outputs": [
    {
     "data": {
      "text/plain": [
       "[1, 3, 5]"
      ]
     },
     "execution_count": 7,
     "metadata": {},
     "output_type": "execute_result"
    }
   ],
   "source": [
    "'''\n",
    "4. Create a function that takes a single string as argument and returns an ordered list containing \n",
    "the indices of all capital letters in the string.\n",
    "'''\n",
    "def index_of_caps(s):\n",
    "    l = []\n",
    "    index = 0\n",
    "    for ch in s:\n",
    "        if ch.isupper():\n",
    "            l.append(index)\n",
    "        index += 1\n",
    "    return l\n",
    "            \n",
    "index_of_caps(\"eDaBiT\")"
   ]
  },
  {
   "cell_type": "code",
   "execution_count": 8,
   "id": "069d01a3",
   "metadata": {},
   "outputs": [
    {
     "data": {
      "text/plain": [
       "[1, 3, 4, 6]"
      ]
     },
     "execution_count": 8,
     "metadata": {},
     "output_type": "execute_result"
    }
   ],
   "source": [
    "index_of_caps(\"eQuINoX\")"
   ]
  },
  {
   "cell_type": "code",
   "execution_count": 9,
   "id": "cb34c078",
   "metadata": {},
   "outputs": [
    {
     "data": {
      "text/plain": [
       "[]"
      ]
     },
     "execution_count": 9,
     "metadata": {},
     "output_type": "execute_result"
    }
   ],
   "source": [
    "index_of_caps(\"determine\")"
   ]
  },
  {
   "cell_type": "code",
   "execution_count": 10,
   "id": "b3298e65",
   "metadata": {},
   "outputs": [
    {
     "data": {
      "text/plain": [
       "[2, 4, 6, 8]"
      ]
     },
     "execution_count": 10,
     "metadata": {},
     "output_type": "execute_result"
    }
   ],
   "source": [
    "'''\n",
    "5. Using list comprehensions, create a function that finds all even numbers from 1 to the given number.\n",
    "'''\n",
    "def find_even_nums(n):\n",
    "    \"\"\"\n",
    "    List of even numbers till the given number.\n",
    "    Input\n",
    "    n: last even number in list\n",
    "    \"\"\"\n",
    "    return [i for i in range(1, n+1) if i%2==0]\n",
    "find_even_nums(8)"
   ]
  },
  {
   "cell_type": "code",
   "execution_count": 11,
   "id": "b004b34e",
   "metadata": {},
   "outputs": [
    {
     "data": {
      "text/plain": [
       "[2, 4]"
      ]
     },
     "execution_count": 11,
     "metadata": {},
     "output_type": "execute_result"
    }
   ],
   "source": [
    "find_even_nums(4)"
   ]
  },
  {
   "cell_type": "code",
   "execution_count": 12,
   "id": "d0fd1317",
   "metadata": {},
   "outputs": [
    {
     "data": {
      "text/plain": [
       "[2]"
      ]
     },
     "execution_count": 12,
     "metadata": {},
     "output_type": "execute_result"
    }
   ],
   "source": [
    "find_even_nums(2)"
   ]
  },
  {
   "cell_type": "code",
   "execution_count": null,
   "id": "70fa3c92",
   "metadata": {},
   "outputs": [],
   "source": []
  }
 ],
 "metadata": {
  "kernelspec": {
   "display_name": "Python 3 (ipykernel)",
   "language": "python",
   "name": "python3"
  },
  "language_info": {
   "codemirror_mode": {
    "name": "ipython",
    "version": 3
   },
   "file_extension": ".py",
   "mimetype": "text/x-python",
   "name": "python",
   "nbconvert_exporter": "python",
   "pygments_lexer": "ipython3",
   "version": "3.9.13"
  }
 },
 "nbformat": 4,
 "nbformat_minor": 5
}
