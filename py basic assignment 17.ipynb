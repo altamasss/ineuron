{
 "cells": [
  {
   "cell_type": "code",
   "execution_count": 3,
   "id": "8c6d1735",
   "metadata": {},
   "outputs": [
    {
     "name": "stdout",
     "output_type": "stream",
     "text": [
      "too low\n"
     ]
    }
   ],
   "source": [
    "#1. Assign the value 7 to the variable guess_me. \n",
    "# Then, write the conditional tests (if, else, and elif) to print the string \n",
    "# 'too low' if guess_me is less than 7, 'too high' if greater than 7, and 'just right' if equal to 7.\n",
    "\n",
    "guess_me = 7\n",
    "if guess_me < 7:\n",
    "    print(\"too low\")\n",
    "elif guess_me > 7:\n",
    "    print(\"too high\")\n",
    "elif guess_me == 7:\n",
    "    print(\"just right\")"
   ]
  },
  {
   "cell_type": "code",
   "execution_count": 4,
   "id": "103dc633",
   "metadata": {},
   "outputs": [
    {
     "name": "stdout",
     "output_type": "stream",
     "text": [
      "too low\n",
      "too low\n",
      "too low\n",
      "too low\n",
      "too low\n",
      "too low\n",
      "found it\n"
     ]
    }
   ],
   "source": [
    "#2. Assign the value 7 to the variable guess_me and the value 1 to the variable start. \n",
    "# Write a while loop that compares start with guess_me. Print too low if start is less than guess me. \n",
    "# If start equals guess_me, print 'found it!' and exit the loop. \n",
    "# If start is greater than guess_me, print 'oops' and exit he loop. Increment start at the end of the loop.\n",
    "\n",
    "guess_me = 7\n",
    "start = 1\n",
    "while True:\n",
    "    if start < guess_me:\n",
    "        print(\"too low\")\n",
    "    elif start > guess_me:\n",
    "        print(\"oops\")\n",
    "        break\n",
    "    elif start == guess_me:\n",
    "        print(\"found it\")\n",
    "        break\n",
    "    start += 1"
   ]
  },
  {
   "cell_type": "code",
   "execution_count": 5,
   "id": "16a7f2bb",
   "metadata": {},
   "outputs": [
    {
     "name": "stdout",
     "output_type": "stream",
     "text": [
      "3\n",
      "2\n",
      "1\n",
      "0\n"
     ]
    }
   ],
   "source": [
    "#3. Print the following values of the list [3, 2, 1, 0] using a for loop.\n",
    "\n",
    "for i in [3, 2, 1, 0]:\n",
    "    print(i)"
   ]
  },
  {
   "cell_type": "code",
   "execution_count": 6,
   "id": "eb2d2115",
   "metadata": {},
   "outputs": [
    {
     "data": {
      "text/plain": [
       "[0, 2, 4, 6, 8]"
      ]
     },
     "execution_count": 6,
     "metadata": {},
     "output_type": "execute_result"
    }
   ],
   "source": [
    "#4. Use a list comprehension to make a list of the even numbers in range(10)\n",
    "\n",
    "[i for i in range(10) if i%2==0]"
   ]
  },
  {
   "cell_type": "code",
   "execution_count": 7,
   "id": "bd3c556e",
   "metadata": {},
   "outputs": [
    {
     "data": {
      "text/plain": [
       "{0: 0, 1: 1, 2: 4, 3: 9, 4: 16, 5: 25, 6: 36, 7: 49, 8: 64, 9: 81}"
      ]
     },
     "execution_count": 7,
     "metadata": {},
     "output_type": "execute_result"
    }
   ],
   "source": [
    "#5. Use a dictionary comprehension to create the dictionary squares. \n",
    "# Use range(10) to return the keys, and use the square of each key as its value.\n",
    "\n",
    "{i : i*i for i in range(10)}"
   ]
  },
  {
   "cell_type": "code",
   "execution_count": 8,
   "id": "b102b556",
   "metadata": {},
   "outputs": [
    {
     "data": {
      "text/plain": [
       "{1, 3, 5, 7, 9}"
      ]
     },
     "execution_count": 8,
     "metadata": {},
     "output_type": "execute_result"
    }
   ],
   "source": [
    "#6. Construct the set odd from the odd numbers in the range using a set comprehension (10).\n",
    "\n",
    "odd = {i for i in range(10) if i%2==1}\n",
    "odd"
   ]
  },
  {
   "cell_type": "code",
   "execution_count": 9,
   "id": "4fb3b8e3",
   "metadata": {},
   "outputs": [
    {
     "name": "stdout",
     "output_type": "stream",
     "text": [
      "('Got', 0)\n",
      "('Got', 1)\n",
      "('Got', 2)\n",
      "('Got', 3)\n",
      "('Got', 4)\n",
      "('Got', 5)\n",
      "('Got', 6)\n",
      "('Got', 7)\n",
      "('Got', 8)\n",
      "('Got', 9)\n"
     ]
    }
   ],
   "source": [
    "#7. Use a generator comprehension to return the string 'Got '\n",
    "# and a number for the numbers in range(10).\n",
    "# Iterate through this by using a for loop.\n",
    "\n",
    "gen = ((\"Got\",i) for i in range(10))\n",
    "for i in gen:\n",
    "    print(i)"
   ]
  },
  {
   "cell_type": "code",
   "execution_count": 10,
   "id": "af4e8ca0",
   "metadata": {},
   "outputs": [
    {
     "data": {
      "text/plain": [
       "['Harry', 'Ron', 'Hermione']"
      ]
     },
     "execution_count": 10,
     "metadata": {},
     "output_type": "execute_result"
    }
   ],
   "source": [
    "#8. Define a function called good that returns the list ['Harry', 'Ron', 'Hermione'].\n",
    "\n",
    "def good():\n",
    "    return ['Harry', 'Ron', 'Hermione']\n",
    "good()"
   ]
  },
  {
   "cell_type": "code",
   "execution_count": 11,
   "id": "5d495472",
   "metadata": {},
   "outputs": [
    {
     "name": "stdout",
     "output_type": "stream",
     "text": [
      "5\n"
     ]
    }
   ],
   "source": [
    "#9. Define a generator function called get_odds that returns the odd numbers from range(10).\n",
    "# Use a for loop to find and print the third value returned.\n",
    "\n",
    "def get_odds():\n",
    "    for i in range(10):\n",
    "        if i%2 == 1:\n",
    "            yield i\n",
    "odds = get_odds()\n",
    "count = 1\n",
    "for i in odds:\n",
    "    if count == 3:\n",
    "        print(i)\n",
    "        break\n",
    "    else:\n",
    "        count += 1"
   ]
  },
  {
   "cell_type": "code",
   "execution_count": 19,
   "id": "6b6a7011",
   "metadata": {},
   "outputs": [
    {
     "name": "stdout",
     "output_type": "stream",
     "text": [
      "Caught an oops\n"
     ]
    }
   ],
   "source": [
    "#10. Define an exception called OopsException.\n",
    "# Raise this exception to see what happens.\n",
    "# Then write the code to catch this exception and print 'Caught an oops'.\n",
    "\n",
    "class OopsException(Exception):\n",
    "    def __init__(self):\n",
    "        pass\n",
    "try:\n",
    "    raise OopsException\n",
    "except OopsException:\n",
    "    print(\"Caught an oops\")"
   ]
  },
  {
   "cell_type": "code",
   "execution_count": 20,
   "id": "5d50215c",
   "metadata": {},
   "outputs": [
    {
     "data": {
      "text/plain": [
       "{'Creature of Habit': 'A nun turns into a monster',\n",
       " 'Crewel Fate': 'A haunted yarn shop'}"
      ]
     },
     "execution_count": 20,
     "metadata": {},
     "output_type": "execute_result"
    }
   ],
   "source": [
    "#11. Use zip() to make a dictionary called movies that pairs these \n",
    "# lists: titles = ['Creature of Habit','Crewel Fate'] and plots = ['A nun turns into a monster', 'A haunted yarn shop'].\n",
    "\n",
    "titles = ['Creature of Habit','Crewel Fate']\n",
    "plots = ['A nun turns into a monster', 'A haunted yarn shop']\n",
    "dict(zip(titles, plots))"
   ]
  },
  {
   "cell_type": "code",
   "execution_count": null,
   "id": "09c76559",
   "metadata": {},
   "outputs": [],
   "source": []
  }
 ],
 "metadata": {
  "kernelspec": {
   "display_name": "Python 3 (ipykernel)",
   "language": "python",
   "name": "python3"
  },
  "language_info": {
   "codemirror_mode": {
    "name": "ipython",
    "version": 3
   },
   "file_extension": ".py",
   "mimetype": "text/x-python",
   "name": "python",
   "nbconvert_exporter": "python",
   "pygments_lexer": "ipython3",
   "version": "3.9.13"
  }
 },
 "nbformat": 4,
 "nbformat_minor": 5
}
