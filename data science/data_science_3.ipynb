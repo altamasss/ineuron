{
  "nbformat": 4,
  "nbformat_minor": 0,
  "metadata": {
    "colab": {
      "provenance": []
    },
    "kernelspec": {
      "name": "python3",
      "display_name": "Python 3"
    },
    "language_info": {
      "name": "python"
    }
  },
  "cells": [
    {
      "cell_type": "markdown",
      "source": [
        "# 1.\n",
        "Scenario: A company wants to analyze the sales performance of its products in different regions. They have collected the following data:\n",
        "\n",
        "   Region A: [10, 15, 12, 8, 14]\n",
        "\n",
        "   Region B: [18, 20, 16, 22, 25]\n",
        "\n",
        "   Calculate the mean sales for each region.\n"
      ],
      "metadata": {
        "id": "O2whAuREBIh5"
      }
    },
    {
      "cell_type": "code",
      "execution_count": 1,
      "metadata": {
        "colab": {
          "base_uri": "https://localhost:8080/"
        },
        "id": "np40ZM3uACet",
        "outputId": "0cd6cdb7-72dc-4c0e-fc44-5fe18d2d2553"
      },
      "outputs": [
        {
          "output_type": "stream",
          "name": "stdout",
          "text": [
            "mean of region_a = 11.8\n",
            "mean of region_b = 20.2\n"
          ]
        }
      ],
      "source": [
        "#Ans1\n",
        "\n",
        "Region_A =  [10, 15, 12, 8, 14]\n",
        "Region_B =  [18, 20, 16, 22, 25]\n",
        "\n",
        "mean_region_a = sum(Region_A)/len(Region_A)\n",
        "mean_region_b = sum(Region_B)/len(Region_B)\n",
        "\n",
        "print(f'mean of region_a = {mean_region_a}')\n",
        "print(f'mean of region_b = {mean_region_b}')"
      ]
    },
    {
      "cell_type": "markdown",
      "source": [
        "# 2.\n",
        "Scenario: A survey is conducted to measure customer satisfaction on a scale of 1 to 5. The data collected is as follows:\n",
        "\n",
        "   [4, 5, 2, 3, 5, 4, 3, 2, 4, 5]\n",
        "\n",
        "   Calculate the mode of the survey responses.\n"
      ],
      "metadata": {
        "id": "nGj3J561BVqS"
      }
    },
    {
      "cell_type": "code",
      "source": [
        "#Ans2\n",
        "\n",
        "import statistics\n",
        "\n",
        "responses =  [4, 5, 2, 3, 5, 4, 3, 2, 4, 5]\n",
        "mode_value = statistics.mode(responses)\n",
        "\n",
        "print(\"Mode:\", mode_value)"
      ],
      "metadata": {
        "colab": {
          "base_uri": "https://localhost:8080/"
        },
        "id": "beuLaD56Bm4W",
        "outputId": "1330d533-17ec-4ab1-a31e-3bb3f510df1a"
      },
      "execution_count": 2,
      "outputs": [
        {
          "output_type": "stream",
          "name": "stdout",
          "text": [
            "Mode: 4\n"
          ]
        }
      ]
    },
    {
      "cell_type": "markdown",
      "source": [
        "# 3.\n",
        "Scenario: A company wants to compare the salaries of two departments. The salary data for Department A and Department B are as follows:\n",
        "\n",
        "   Department A: [5000, 6000, 5500, 7000]\n",
        "\n",
        "   Department B: [4500, 5500, 5800, 6000, 5200]\n",
        "\n",
        "   Calculate the median salary for each department.\n",
        "\n"
      ],
      "metadata": {
        "id": "gHh0uWg4Brh8"
      }
    },
    {
      "cell_type": "code",
      "source": [
        "#Ans3\n",
        "\n",
        "import statistics\n",
        "Department_A = [5000, 6000, 5500, 7000]\n",
        "Department_B = [4500, 5500, 5800, 6000, 5200]\n",
        "\n",
        "meadian_a = statistics.median(Department_A)\n",
        "median_b = statistics.median(Department_B)\n",
        "\n",
        "print(\"median of department A\",meadian_a)\n",
        "print(\"median of department A\",median_b)"
      ],
      "metadata": {
        "colab": {
          "base_uri": "https://localhost:8080/"
        },
        "id": "eq6znvePBy7-",
        "outputId": "1821fc09-e5d4-49c0-d610-2c7e9b8532cb"
      },
      "execution_count": 3,
      "outputs": [
        {
          "output_type": "stream",
          "name": "stdout",
          "text": [
            "median of department A 5750.0\n",
            "median of department A 5500\n"
          ]
        }
      ]
    },
    {
      "cell_type": "markdown",
      "source": [
        "# 4.\n",
        "Scenario: A data analyst wants to determine the variability in the daily stock prices of a company. The data collected is as follows:\n",
        "\n",
        "   [25.5, 24.8, 26.1, 25.3, 24.9]\n",
        "\n",
        "   Calculate the range of the stock prices.\n"
      ],
      "metadata": {
        "id": "cNhewnvHB4tF"
      }
    },
    {
      "cell_type": "code",
      "source": [
        "#Ans4\n",
        "\n",
        "stock_prices = [25.5, 24.8, 26.1, 25.3, 24.9]\n",
        "price_range = max(stock_prices) - min(stock_prices)\n",
        "\n",
        "print(\"Range:\", round(price_range,2))"
      ],
      "metadata": {
        "colab": {
          "base_uri": "https://localhost:8080/"
        },
        "id": "ljHUCk2_B85u",
        "outputId": "ca0f90ed-b670-4fde-e7fc-d352eb5a90b4"
      },
      "execution_count": 4,
      "outputs": [
        {
          "output_type": "stream",
          "name": "stdout",
          "text": [
            "Range: 1.3\n"
          ]
        }
      ]
    },
    {
      "cell_type": "markdown",
      "source": [
        "# 5.\n",
        "Scenario: A study is conducted to compare the performance of two different teaching methods. The test scores of the students in each group are as follows:\n",
        "\n",
        "   Group A: [85, 90, 92, 88, 91]\n",
        "\n",
        "   Group B: [82, 88, 90, 86, 87]\n",
        "\n",
        "   Perform a t-test to determine if there is a significant difference in the mean scores between the two groups.\n"
      ],
      "metadata": {
        "id": "Xq_2kvxwCEp3"
      }
    },
    {
      "cell_type": "code",
      "source": [
        "#Ans 5\n",
        "\n",
        "import scipy.stats as stats\n",
        "\n",
        "group_A = [85, 90, 92, 88, 91]\n",
        "group_B = [82, 88, 90, 86, 87]\n",
        "\n",
        "t_statistic, p_value = stats.ttest_ind(group_A, group_B)\n",
        "\n",
        "print(\"T-Statistic:\", t_statistic)\n",
        "print(\"P-Value:\", p_value)"
      ],
      "metadata": {
        "colab": {
          "base_uri": "https://localhost:8080/"
        },
        "id": "iQO3RsOXCOMA",
        "outputId": "fd3a1de3-59aa-40a9-fc8f-208c0dfb5a43"
      },
      "execution_count": 5,
      "outputs": [
        {
          "output_type": "stream",
          "name": "stdout",
          "text": [
            "T-Statistic: 1.4312528946642733\n",
            "P-Value: 0.19023970239078333\n"
          ]
        }
      ]
    },
    {
      "cell_type": "markdown",
      "source": [
        "# 6.\n",
        " Scenario: A company wants to analyze the relationship between advertising expenditure and sales. The data collected is as follows:\n",
        "\n",
        "   Advertising Expenditure (in thousands): [10, 15, 12, 8, 14]\n",
        "\n",
        "   Sales (in thousands): [25, 30, 28, 20, 26]\n",
        "\n",
        "   Calculate the correlation coefficient between advertising expenditure and sales.\n"
      ],
      "metadata": {
        "id": "d5SsnSlcCRho"
      }
    },
    {
      "cell_type": "code",
      "source": [
        "#Ans 6\n",
        "\n",
        "import numpy as np\n",
        "\n",
        "advertising_expenditure = [10, 15, 12, 8, 14]\n",
        "sales = [25, 30, 28, 20, 26]\n",
        "\n",
        "correlation_coef = np.corrcoef(advertising_expenditure, sales)[0, 1]\n",
        "\n",
        "print(\"Correlation Coefficient:\", correlation_coef)"
      ],
      "metadata": {
        "colab": {
          "base_uri": "https://localhost:8080/"
        },
        "id": "syHs7fPFCW7Y",
        "outputId": "35be8c19-4710-4a19-d7f6-b1235987279b"
      },
      "execution_count": 6,
      "outputs": [
        {
          "output_type": "stream",
          "name": "stdout",
          "text": [
            "Correlation Coefficient: 0.8757511375750132\n"
          ]
        }
      ]
    },
    {
      "cell_type": "markdown",
      "source": [
        "# 7.\n",
        "Scenario: A survey is conducted to measure the heights of a group of people. The data collected is as follows:\n",
        "\n",
        "   [160, 170, 165, 155, 175, 180, 170]\n",
        "\n",
        "   Calculate the standard deviation of the heights.\n"
      ],
      "metadata": {
        "id": "wIl6TsgkCdiB"
      }
    },
    {
      "cell_type": "code",
      "source": [
        "#Ans7\n",
        "\n",
        "import numpy as np\n",
        "\n",
        "heights = [160, 170, 165, 155, 175, 180, 170]\n",
        "standard_deviation = np.std(heights)\n",
        "\n",
        "print(\"Standard Deviation:\", standard_deviation)"
      ],
      "metadata": {
        "colab": {
          "base_uri": "https://localhost:8080/"
        },
        "id": "cyRtA83dCdX5",
        "outputId": "8b9b2ff2-c1e7-43ed-82aa-e0f8c5195896"
      },
      "execution_count": 7,
      "outputs": [
        {
          "output_type": "stream",
          "name": "stdout",
          "text": [
            "Standard Deviation: 7.953949089757174\n"
          ]
        }
      ]
    },
    {
      "cell_type": "markdown",
      "source": [
        "# 8.\n",
        "Scenario: A company wants to analyze the relationship between employee tenure and job satisfaction. The data collected is as follows:\n",
        "\n",
        "   Employee Tenure (in years): [2, 3, 5, 4, 6, 2, 4]\n",
        "\n",
        "   Job Satisfaction (on a scale of 1 to 10): [7, 8, 6, 9, 5, 7, 6]\n",
        "\n",
        "   Perform a linear regression analysis to predict job satisfaction based on employee tenure.\n"
      ],
      "metadata": {
        "id": "OdXKGwHqCc7J"
      }
    },
    {
      "cell_type": "code",
      "source": [
        "#Ans8\n",
        "\n",
        "from sklearn.linear_model import LinearRegression\n",
        "import numpy as np\n",
        "\n",
        "employee_tenure = np.array([2, 3, 5, 4, 6, 2, 4]).reshape((-1, 1))\n",
        "job_satisfaction = np.array([7, 8, 6, 9, 5, 7, 6])\n",
        "\n",
        "regression_model = LinearRegression().fit(employee_tenure, job_satisfaction)\n",
        "\n",
        "new_tenure = np.array([3]).reshape((-1, 1))\n",
        "predicted_job_satisfaction = regression_model.predict(new_tenure)\n",
        "\n",
        "print(\"Predicted Job Satisfaction:\", predicted_job_satisfaction)"
      ],
      "metadata": {
        "colab": {
          "base_uri": "https://localhost:8080/"
        },
        "id": "cGetDxrNCcwh",
        "outputId": "66901b4e-bfce-46f8-b9e8-47e09131baae"
      },
      "execution_count": 8,
      "outputs": [
        {
          "output_type": "stream",
          "name": "stdout",
          "text": [
            "Predicted Job Satisfaction: [7.19148936]\n"
          ]
        }
      ]
    },
    {
      "cell_type": "markdown",
      "source": [
        "# 9.\n",
        "Scenario: A study is conducted to compare the effectiveness of two different medications. The recovery times of the patients in each group are as follows:\n",
        "\n",
        "   Medication A: [10, 12, 14, 11, 13]\n",
        "\n",
        "   Medication B: [15, 17, 16, 14, 18]\n",
        "\n",
        "   Perform an analysis of variance (ANOVA) to determine if there is a significant difference in the mean recovery times between the two medications.\n"
      ],
      "metadata": {
        "id": "e3VSyYjzCcMq"
      }
    },
    {
      "cell_type": "code",
      "source": [
        "#Ans9\n",
        "\n",
        "import scipy.stats as stats\n",
        "\n",
        "medication_A = [10, 12, 14, 11, 13]\n",
        "medication_B = [15, 17, 16, 14, 18]\n",
        "\n",
        "f_statistic, p_value = stats.f_oneway(medication_A, medication_B)\n",
        "\n",
        "print(\"F-Statistic:\", f_statistic)\n",
        "print(\"P-Value:\", p_value)"
      ],
      "metadata": {
        "colab": {
          "base_uri": "https://localhost:8080/"
        },
        "id": "Eqx1HudnCb0Z",
        "outputId": "79e26f17-ad50-44f9-9be5-4714d81bea0d"
      },
      "execution_count": 9,
      "outputs": [
        {
          "output_type": "stream",
          "name": "stdout",
          "text": [
            "F-Statistic: 16.0\n",
            "P-Value: 0.003949772803445326\n"
          ]
        }
      ]
    },
    {
      "cell_type": "markdown",
      "source": [
        "# 10.\n",
        "Scenario: A company wants to analyze customer feedback ratings on a scale of 1 to 10. The data collected is\n",
        "\n",
        " as follows:\n",
        "\n",
        "  [8, 9, 7, 6, 8, 10, 9, 8, 7, 8]\n",
        "\n",
        "  Calculate the 75th percentile of the feedback ratings.\n"
      ],
      "metadata": {
        "id": "qsEHUOiHCbfq"
      }
    },
    {
      "cell_type": "code",
      "source": [
        "#Ans 10\n",
        "import numpy as np\n",
        "\n",
        "feedback_ratings = [8, 9, 7, 6, 8, 10, 9, 8, 7, 8]\n",
        "percentile_75 = np.percentile(feedback_ratings, 75)\n",
        "\n",
        "print(\"75th Percentile:\", percentile_75)"
      ],
      "metadata": {
        "colab": {
          "base_uri": "https://localhost:8080/"
        },
        "id": "X0AFSnBwCbKS",
        "outputId": "3e1a7c5a-4daf-4052-92da-3469d7b26004"
      },
      "execution_count": 10,
      "outputs": [
        {
          "output_type": "stream",
          "name": "stdout",
          "text": [
            "75th Percentile: 8.75\n"
          ]
        }
      ]
    },
    {
      "cell_type": "markdown",
      "source": [
        "# 11.\n",
        "Scenario: A quality control department wants to test the weight consistency of a product. The weights of a sample of products are as follows:\n",
        "\n",
        "  [10.2, 9.8, 10.0, 10.5, 10.3, 10.1]\n",
        "\n",
        "   Perform a hypothesis test to determine if the mean weight differs significantly from 10 grams.\n"
      ],
      "metadata": {
        "id": "fiTE-jwIDh4e"
      }
    },
    {
      "cell_type": "code",
      "source": [
        "#Ans 11\n",
        "import scipy.stats as stats\n",
        "\n",
        "weights = [10.2, 9.8, 10.0, 10.5, 10.3, 10.1]\n",
        "pop_mean = 10.0\n",
        "\n",
        "t_statistic, p_value = stats.ttest_1samp(weights, pop_mean)\n",
        "\n",
        "print(\"T-Statistic:\", t_statistic)\n",
        "print(\"P-Value:\", p_value)"
      ],
      "metadata": {
        "colab": {
          "base_uri": "https://localhost:8080/"
        },
        "id": "7mR7HtrZDhuc",
        "outputId": "d0f52a41-5677-4832-e168-9e35bce4d3a5"
      },
      "execution_count": 11,
      "outputs": [
        {
          "output_type": "stream",
          "name": "stdout",
          "text": [
            "T-Statistic: 1.5126584522688367\n",
            "P-Value: 0.19077595151110102\n"
          ]
        }
      ]
    },
    {
      "cell_type": "markdown",
      "source": [
        "# 12.\n",
        "Scenario: A company wants to analyze the click-through rates of two different website designs. The number of clicks for each design is as follows:\n",
        "\n",
        "   Design A: [100, 120, 110, 90, 95]\n",
        "\n",
        "   Design B: [80, 85, 90, 95, 100]\n",
        "\n",
        "   Perform a chi-square test to determine if there is a significant difference in the click-through rates between the two designs.\n"
      ],
      "metadata": {
        "id": "fvyTgp8iDhib"
      }
    },
    {
      "cell_type": "code",
      "source": [
        "#Ans 12\n",
        "import scipy.stats as stats\n",
        "import numpy as np\n",
        "\n",
        "design_A = [100, 120, 110, 90, 95]\n",
        "design_B = [80, 85, 90, 95, 100]\n",
        "\n",
        "contingency_table = np.array([design_A, design_B])\n",
        "\n",
        "chi2_statistic, p_value, _, _ = stats.chi2_contingency(contingency_table)\n",
        "\n",
        "print(\"Chi-square Statistic:\", chi2_statistic)\n",
        "print(\"P-Value:\", p_value)"
      ],
      "metadata": {
        "colab": {
          "base_uri": "https://localhost:8080/"
        },
        "id": "an5BKUzXDhZz",
        "outputId": "58a08d2b-6be8-4300-b62b-7956782d281a"
      },
      "execution_count": 12,
      "outputs": [
        {
          "output_type": "stream",
          "name": "stdout",
          "text": [
            "Chi-square Statistic: 6.110658166925435\n",
            "P-Value: 0.19103526314060293\n"
          ]
        }
      ]
    },
    {
      "cell_type": "markdown",
      "source": [
        "# 13.\n",
        "Scenario: A survey is conducted to measure customer satisfaction with a product on a scale of 1 to 10. The data collected is as follows:\n",
        "\n",
        "  [7, 9, 6, 8, 10, 7, 8, 9, 7, 8]\n",
        "\n",
        "  Calculate the 95% confidence interval for the population mean satisfaction score.\n"
      ],
      "metadata": {
        "id": "7MNQMQlLDhRs"
      }
    },
    {
      "cell_type": "code",
      "source": [
        "#Ans 13\n",
        "\n",
        "import scipy.stats as stats\n",
        "import numpy as np\n",
        "\n",
        "satisfaction_scores = [7, 9, 6, 8, 10, 7, 8, 9, 7, 8]\n",
        "confidence_level = 0.95\n",
        "\n",
        "sample_mean = np.mean(satisfaction_scores)\n",
        "sample_std = np.std(satisfaction_scores, ddof=1)\n",
        "\n",
        "\n",
        "sample_size = len(satisfaction_scores)\n",
        "standard_error = sample_std / np.sqrt(sample_size)\n",
        "confidence_interval = stats.t.interval(confidence_level, df=sample_size-1, loc=sample_mean, scale=standard_error)\n",
        "\n",
        "\n",
        "print(\"95% Confidence Interval:\", confidence_interval)"
      ],
      "metadata": {
        "colab": {
          "base_uri": "https://localhost:8080/"
        },
        "id": "lYWSsblRDhF8",
        "outputId": "5c3751c0-23f5-4fd7-f8f6-c2c7fa2f6e0e"
      },
      "execution_count": 13,
      "outputs": [
        {
          "output_type": "stream",
          "name": "stdout",
          "text": [
            "95% Confidence Interval: (7.043561120599888, 8.756438879400113)\n"
          ]
        }
      ]
    },
    {
      "cell_type": "markdown",
      "source": [
        "# 14.\n",
        "Scenario: A company wants to analyze the effect of temperature on product performance. The data collected is as follows:\n",
        "\n",
        "   Temperature (in degrees Celsius): [20, 22, 23, 19, 21]\n",
        "\n",
        "   Performance (on a scale of 1 to 10): [8, 7, 9, 6, 8]\n",
        "\n",
        "   Perform a simple linear regression to predict performance based on temperature.\n"
      ],
      "metadata": {
        "id": "skGpJNkzDg8t"
      }
    },
    {
      "cell_type": "code",
      "source": [
        "#Ans 14\n",
        "\n",
        "from sklearn.linear_model import LinearRegression\n",
        "import numpy as np\n",
        "\n",
        "temperature = np.array([20, 22, 23, 19, 21]).reshape((-1, 1))\n",
        "performance = np.array([8, 7, 9, 6, 8])\n",
        "\n",
        "regression_model = LinearRegression().fit(temperature, performance)\n",
        "\n",
        "new_temperature = np.array([24]).reshape((-1, 1))\n",
        "predicted_performance = regression_model.predict(new_temperature)\n",
        "\n",
        "print(\"Predicted Performance:\", predicted_performance)"
      ],
      "metadata": {
        "colab": {
          "base_uri": "https://localhost:8080/"
        },
        "id": "sdwSKnPBDgy0",
        "outputId": "fddd91c7-7b1b-49c8-8643-a178fc969118"
      },
      "execution_count": 14,
      "outputs": [
        {
          "output_type": "stream",
          "name": "stdout",
          "text": [
            "Predicted Performance: [9.1]\n"
          ]
        }
      ]
    },
    {
      "cell_type": "markdown",
      "source": [
        "# 15.\n",
        "Scenario: A study is conducted to compare the preferences of two groups of participants. The preferences are measured on a Likert scale from 1 to 5. The data collected is as follows:\n",
        "\n",
        "   Group A: [4, 3, 5, 2, 4]\n",
        "\n",
        "   Group B: [3, 2, 4, 3, 3]\n",
        "\n",
        "   Perform a Mann-Whitney U test to determine if there is a significant difference in the median preferences between the two groups.\n"
      ],
      "metadata": {
        "id": "eu0V2stYGn_a"
      }
    },
    {
      "cell_type": "code",
      "source": [
        "#Ans 15\n",
        "\n",
        "import scipy.stats as stats\n",
        "\n",
        "group_A = [4, 3, 5, 2, 4]\n",
        "group_B = [3, 2, 4, 3, 3]\n",
        "\n",
        "statistic, p_value = stats.mannwhitneyu(group_A, group_B)\n",
        "\n",
        "print(\"Mann-Whitney U Statistic:\", statistic)\n",
        "print(\"P-Value:\", p_value)"
      ],
      "metadata": {
        "colab": {
          "base_uri": "https://localhost:8080/"
        },
        "id": "EZ7d8WWrGvBY",
        "outputId": "974f6e81-add0-4059-c019-7f5976f9f2e6"
      },
      "execution_count": 15,
      "outputs": [
        {
          "output_type": "stream",
          "name": "stdout",
          "text": [
            "Mann-Whitney U Statistic: 17.0\n",
            "P-Value: 0.380836480306712\n"
          ]
        }
      ]
    },
    {
      "cell_type": "markdown",
      "source": [
        "# 16.\n",
        "Scenario: A company wants to analyze the distribution of customer ages. The data collected is as follows:\n",
        "\n",
        "  [25, 30, 35, 40, 45, 50, 55, 60, 65, 70]\n",
        "\n",
        "  Calculate the interquartile range (IQR) of the ages.\n"
      ],
      "metadata": {
        "id": "_YI5pVp9G00o"
      }
    },
    {
      "cell_type": "code",
      "source": [
        "#Ans16\n",
        "\n",
        "import numpy as np\n",
        "\n",
        "ages = [25, 30, 35, 40, 45, 50, 55, 60, 65, 70]\n",
        "q1 = np.percentile(ages, 25)\n",
        "q3 = np.percentile(ages, 75)\n",
        "iqr = q3 - q1\n",
        "\n",
        "print(\"Interquartile Range (IQR):\", iqr)"
      ],
      "metadata": {
        "colab": {
          "base_uri": "https://localhost:8080/"
        },
        "id": "j-C3XUs_G9UF",
        "outputId": "d461a3de-f93f-4fff-b265-3bfcf241909f"
      },
      "execution_count": 16,
      "outputs": [
        {
          "output_type": "stream",
          "name": "stdout",
          "text": [
            "Interquartile Range (IQR): 22.5\n"
          ]
        }
      ]
    },
    {
      "cell_type": "markdown",
      "source": [
        "# 17.\n",
        " Scenario: A study is conducted to compare the performance of three different machine learning algorithms. The accuracy scores for each algorithm are as follows:\n",
        "\n",
        "   Algorithm A: [0.85, 0.80, 0.82, 0.87, 0.83]\n",
        "\n",
        "  Algorithm B: [0.78, 0.82, 0.84, 0.80, 0.79]\n",
        "\n",
        "  Algorithm C: [0.90, 0.88, 0.89, 0.86, 0.87]\n",
        "\n",
        "  Perform a Kruskal-Wallis test to determine if there is a significant difference in the median accuracy scores between the algorithms.\n"
      ],
      "metadata": {
        "id": "WSrs78ysHEBg"
      }
    },
    {
      "cell_type": "code",
      "source": [
        "#Ans 17\n",
        "\n",
        "import scipy.stats as stats\n",
        "\n",
        "algorithm_A = [0.85, 0.80, 0.82, 0.87, 0.83]\n",
        "algorithm_B = [0.78, 0.82, 0.84, 0.80, 0.79]\n",
        "algorithm_C = [0.90, 0.88, 0.89, 0.86, 0.87]\n",
        "\n",
        "statistic, p_value = stats.kruskal(algorithm_A, algorithm_B, algorithm_C)\n",
        "\n",
        "print(\"Kruskal-Wallis Statistic:\", statistic)\n",
        "print(\"P-Value:\", p_value)"
      ],
      "metadata": {
        "colab": {
          "base_uri": "https://localhost:8080/"
        },
        "id": "5YvGNScLHMBi",
        "outputId": "a71dbd22-79b6-4c33-d723-2cb5775185ca"
      },
      "execution_count": 17,
      "outputs": [
        {
          "output_type": "stream",
          "name": "stdout",
          "text": [
            "Kruskal-Wallis Statistic: 9.696947935368053\n",
            "P-Value: 0.007840333026249539\n"
          ]
        }
      ]
    },
    {
      "cell_type": "markdown",
      "source": [
        "# 18.\n",
        "Scenario: A company wants to analyze the effect of price on sales. The data collected is as follows:\n",
        "\n",
        "   Price (in dollars): [10, 15, 12, 8, 14]\n",
        "\n",
        "  Sales: [100, 80, 90, 110, 95]\n",
        "\n",
        "   Perform a simple linear regression to predict\n",
        "\n",
        " sales based on price.\n"
      ],
      "metadata": {
        "id": "b-j6tBARHUOM"
      }
    },
    {
      "cell_type": "code",
      "source": [
        "#Ans 18\n",
        "\n",
        "from sklearn.linear_model import LinearRegression\n",
        "import numpy as np\n",
        "\n",
        "price = np.array([10, 15, 12, 8, 14]).reshape((-1, 1))\n",
        "sales = np.array([100, 80, 90, 110, 95])\n",
        "\n",
        "regression_model = LinearRegression().fit(price, sales)\n",
        "\n",
        "new_price = np.array([13]).reshape((-1, 1))\n",
        "predicted_sales = regression_model.predict(new_price)\n",
        "\n",
        "print(\"Predicted Sales:\", predicted_sales)"
      ],
      "metadata": {
        "colab": {
          "base_uri": "https://localhost:8080/"
        },
        "id": "CASmCuIFHeI9",
        "outputId": "a05930f1-244d-44f0-eac8-3888af58a581"
      },
      "execution_count": 18,
      "outputs": [
        {
          "output_type": "stream",
          "name": "stdout",
          "text": [
            "Predicted Sales: [90.79268293]\n"
          ]
        }
      ]
    },
    {
      "cell_type": "markdown",
      "source": [
        "# 19.\n",
        "Scenario: A survey is conducted to measure the satisfaction levels of customers with a new product. The data collected is as follows:\n",
        "\n",
        "  [7, 8, 9, 6, 8, 7, 9, 7, 8, 7]\n",
        "\n",
        "  Calculate the standard error of the mean satisfaction score.\n"
      ],
      "metadata": {
        "id": "TdOaCF9YHlL1"
      }
    },
    {
      "cell_type": "code",
      "source": [
        "#Ans 19\n",
        "\n",
        "import numpy as np\n",
        "\n",
        "satisfaction_scores = [7, 8, 9, 6, 8, 7, 9, 7, 8, 7]\n",
        "sample_size = len(satisfaction_scores)\n",
        "standard_deviation = np.std(satisfaction_scores, ddof=1)\n",
        "\n",
        "standard_error = standard_deviation / np.sqrt(sample_size)\n",
        "\n",
        "print(\"Standard Error of the Mean:\", standard_error)"
      ],
      "metadata": {
        "colab": {
          "base_uri": "https://localhost:8080/"
        },
        "id": "FSnqFIX9HswW",
        "outputId": "3bfff5d2-f0bb-45f0-cc79-e60d3b430670"
      },
      "execution_count": 19,
      "outputs": [
        {
          "output_type": "stream",
          "name": "stdout",
          "text": [
            "Standard Error of the Mean: 0.30550504633038933\n"
          ]
        }
      ]
    },
    {
      "cell_type": "markdown",
      "source": [
        "# 20.\n",
        "Scenario: A company wants to analyze the relationship between advertising expenditure and sales. The data collected is as follows:\n",
        "\n",
        "  Advertising Expenditure (in thousands): [10, 15, 12, 8, 14]\n",
        "\n",
        "   Sales (in thousands): [25, 30, 28, 20, 26]\n",
        "\n",
        "   Perform a multiple regression analysis to predict sales based on advertising expenditure.\n",
        "\n"
      ],
      "metadata": {
        "id": "B_ui7WU-Hyne"
      }
    },
    {
      "cell_type": "code",
      "source": [
        "#Ans 20\n",
        "\n",
        "from sklearn.linear_model import LinearRegression\n",
        "import numpy as np\n",
        "\n",
        "advertising_expenditure = np.array([10, 15, 12, 8, 14]).reshape((-1, 1))\n",
        "sales = np.array([25, 30, 28, 20, 26])\n",
        "\n",
        "regression_model = LinearRegression().fit(advertising_expenditure, sales)\n",
        "\n",
        "new_expenditure = np.array([13]).reshape((-1, 1))\n",
        "predicted_sales = regression_model.predict(new_expenditure)\n",
        "\n",
        "print(\"Predicted Sales:\", predicted_sales)"
      ],
      "metadata": {
        "colab": {
          "base_uri": "https://localhost:8080/"
        },
        "id": "8ud4aNIyH53r",
        "outputId": "dfc0e75b-290e-4b16-8e10-51ab1ed9c787"
      },
      "execution_count": 20,
      "outputs": [
        {
          "output_type": "stream",
          "name": "stdout",
          "text": [
            "Predicted Sales: [27.18292683]\n"
          ]
        }
      ]
    }
  ]
}