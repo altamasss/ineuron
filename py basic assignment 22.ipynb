{
 "cells": [
  {
   "cell_type": "code",
   "execution_count": null,
   "id": "c2dd8102",
   "metadata": {},
   "outputs": [],
   "source": [
    "#1. What is the result of the code, and explain?\n",
    "\n",
    ">>> X = 'iNeuron'\n",
    ">>> def func():\n",
    "         print(X)\n",
    "\n",
    ">>> func()\n",
    "\n",
    "\n",
    "# Output: iNeuron\n",
    "# X is a global variable with value iNeuron and hence it is printed."
   ]
  },
  {
   "cell_type": "code",
   "execution_count": null,
   "id": "1276a2bd",
   "metadata": {},
   "outputs": [],
   "source": [
    "#2. What is the result of the code, and explain?\n",
    "\n",
    ">>> X = 'iNeuron'\n",
    ">>> def func():\n",
    "       X = 'NI!'\n",
    "\n",
    ">>> func()\n",
    ">>> print(X)\n",
    "\n",
    "\n",
    "# Output: iNeuron\n",
    "# X is a global variable with value iNeuron.\n",
    "# The X that is altered inide the function is local to the function. It doesn't change the value of global variable X."
   ]
  },
  {
   "cell_type": "code",
   "execution_count": null,
   "id": "ddfe99d2",
   "metadata": {},
   "outputs": [],
   "source": [
    "#3. What does this code print, and why?\n",
    "\n",
    "\n",
    ">>> X = 'iNeuron'\n",
    ">>> def func():\n",
    "        X = 'NI'\n",
    "        print(X)\n",
    ">>> func()\n",
    ">>> print(X)\n",
    "\n",
    "\n",
    "#Output: NI\n",
    "#        iNeuron\n",
    "\n",
    "# X is a global variable with value iNeuron.\n",
    "# The X that is altered inside the function is local to the function. And it is printed. Hence NI gets printed.\n",
    "# Later when X is printed outside the function, global X is printed .i.e. iNeuron"
   ]
  },
  {
   "cell_type": "code",
   "execution_count": null,
   "id": "a1961107",
   "metadata": {},
   "outputs": [],
   "source": [
    "#4. What output does this code produce? Why?\n",
    "\n",
    ">>> X = 'iNeuron'\n",
    ">>> def func():\n",
    "      global X\n",
    "      X = 'NI'\n",
    "\n",
    ">>> func()\n",
    ">>> print(X)\n",
    "\n",
    "\n",
    "# Output: NI\n",
    "# X is a global variable with value iNeuron.\n",
    "# The X that is altered inside the function is referring to the global X since it is prefixed with global keyword.\n",
    "# Hence value of X changes to NI.\n",
    "# Later when X is printed outside the function, it prints NI."
   ]
  },
  {
   "cell_type": "code",
   "execution_count": null,
   "id": "68d2f738",
   "metadata": {},
   "outputs": [],
   "source": [
    "#5. What about this code—what’s the output, and why?\n",
    "\n",
    "\n",
    ">>> X = 'iNeuron'\n",
    ">>> def func():\n",
    "      X = 'NI'\n",
    "      def nested():\n",
    "          print(X)\n",
    "      nested()\n",
    "\n",
    ">>> func()\n",
    ">>> X\n",
    "\n",
    "\n",
    "# Output: NI\n",
    "#         iNeuron\n",
    "\n",
    "# X is a global variable with value iNeuron.\n",
    "# The X that is altered inside the function is local to the function. \n",
    "# And the X inside nested() is having value NI since it is again referring to the local variable X. \n",
    "# So first local X(NI) is printed.\n",
    "# Later when X is printed outside the function, global X is printed .i.e. iNeuron"
   ]
  },
  {
   "cell_type": "code",
   "execution_count": null,
   "id": "f9717e97",
   "metadata": {},
   "outputs": [],
   "source": [
    "#6. How about this code: what is its output in Python 3, and explain?\n",
    "\n",
    "\n",
    ">>> def func():\n",
    "    X = 'NI'\n",
    "    def nested():\n",
    "        nonlocal X\n",
    "        X = 'Spam'\n",
    "    nested()\n",
    "    print(X)\n",
    "\n",
    ">>> func()\n",
    "\n",
    "\n",
    "# Output: Spam\n",
    "# X is created in outer function with value 'NI'.\n",
    "# X is again created as a nonlocal variable which means that it is not local to the inner function. \n",
    "# So when X is changed to Spam, value of outer X is changed.\n",
    "# And once printed, it prints Spam"
   ]
  }
 ],
 "metadata": {
  "kernelspec": {
   "display_name": "Python 3 (ipykernel)",
   "language": "python",
   "name": "python3"
  },
  "language_info": {
   "codemirror_mode": {
    "name": "ipython",
    "version": 3
   },
   "file_extension": ".py",
   "mimetype": "text/x-python",
   "name": "python",
   "nbconvert_exporter": "python",
   "pygments_lexer": "ipython3",
   "version": "3.9.13"
  }
 },
 "nbformat": 4,
 "nbformat_minor": 5
}
