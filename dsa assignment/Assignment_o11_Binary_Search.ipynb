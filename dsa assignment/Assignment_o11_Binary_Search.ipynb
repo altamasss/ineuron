{
  "nbformat": 4,
  "nbformat_minor": 0,
  "metadata": {
    "colab": {
      "provenance": []
    },
    "kernelspec": {
      "name": "python3",
      "display_name": "Python 3"
    },
    "language_info": {
      "name": "python"
    }
  },
  "cells": [
    {
      "cell_type": "markdown",
      "source": [
        "# Assignment 11 - Binary Search"
      ],
      "metadata": {
        "id": "PQDEHheRspRx"
      }
    },
    {
      "cell_type": "markdown",
      "source": [
        "## Question no.1 :-\n",
        "\n",
        "Given a non-negative integer x, return the square root of x rounded down to the nearest integer. The returned integer should be non-negative as well.\n",
        "\n",
        "You must not use any built-in exponent function or operator.\n",
        "\n",
        "For example, do not use pow(x, 0.5) in c++ or x ** 0.5 in python.\n",
        "Example 1:\n",
        "\n",
        "Input: x = 4\n",
        "\n",
        "Output: 2\n",
        "\n",
        "Explanation: The square root of 4 is 2, so we return 2."
      ],
      "metadata": {
        "id": "tj7cQYbgsqXw"
      }
    },
    {
      "cell_type": "code",
      "execution_count": 1,
      "metadata": {
        "colab": {
          "base_uri": "https://localhost:8080/"
        },
        "id": "EvUUXR9Xrdua",
        "outputId": "1f9a1a6f-eadf-448b-8b47-339ff1ed3d77"
      },
      "outputs": [
        {
          "output_type": "stream",
          "name": "stdout",
          "text": [
            "4\n"
          ]
        }
      ],
      "source": [
        "class Square_root:\n",
        "    def sqrt(self,x):\n",
        "\n",
        "        low = 0\n",
        "        high = x\n",
        "\n",
        "        while low <= high:\n",
        "            mid = low + (high - low) // 2\n",
        "            if mid * mid == x:\n",
        "                return mid\n",
        "            elif mid * mid < x:\n",
        "                ans = mid\n",
        "                low = mid + 1\n",
        "            else:\n",
        "                high = mid - 1\n",
        "        return ans\n",
        "\n",
        "\n",
        "obj = Square_root()\n",
        "x = 16\n",
        "print(obj.sqrt(x))"
      ]
    },
    {
      "cell_type": "markdown",
      "source": [
        "## Question no.2 :-\n",
        "\n",
        "A peak element is an element that is strictly greater than its neighbors.\n",
        "\n",
        "Given a 0-indexed integer array nums, find a peak element, and return its index. If the array contains multiple peaks, return the index to any of the peaks.\n",
        "\n",
        "You may imagine that nums[-1] = nums[n] = -∞. In other words, an element is always considered to be strictly greater than a neighbor that is outside the array.\n",
        "\n",
        "You must write an algorithm that runs in O(log n) time.\n",
        "\n",
        "Example 1:\n",
        "\n",
        "Input: nums = [1,2,3,1]\n",
        "\n",
        "Output: 2\n",
        "\n",
        "Explanation: 3 is a peak element and your function should return the index number 2."
      ],
      "metadata": {
        "id": "NspMNuAps3-g"
      }
    },
    {
      "cell_type": "code",
      "source": [
        "class Peak_ele:\n",
        "    def get_peak(self,nums):\n",
        "\n",
        "        left = 0\n",
        "        right = len(nums)-1\n",
        "\n",
        "        while left < right:\n",
        "            mid = (left + right) // 2\n",
        "            if nums[mid] > nums[mid+1]:\n",
        "                right = mid\n",
        "            else:\n",
        "                left = mid + 1\n",
        "        return left\n",
        "\n",
        "\n",
        "obj1 = Peak_ele()\n",
        "nums = [1,2,3,1]\n",
        "print(obj1.get_peak(nums))"
      ],
      "metadata": {
        "colab": {
          "base_uri": "https://localhost:8080/"
        },
        "id": "yFmJMmRcsyAJ",
        "outputId": "f6562238-27c1-4545-dbd0-be7f8fef1043"
      },
      "execution_count": 2,
      "outputs": [
        {
          "output_type": "stream",
          "name": "stdout",
          "text": [
            "2\n"
          ]
        }
      ]
    },
    {
      "cell_type": "markdown",
      "source": [
        "## Question no.3 :-\n",
        "\n",
        "Given an array nums containing n distinct numbers in the range [0, n], return the only number in the range that is missing from the array.\n",
        "\n",
        "Example 1:\n",
        "\n",
        "Input: nums = [3,0,1]\n",
        "\n",
        "Output: 2\n",
        "\n",
        "Explanation: n = 3 since there are 3 numbers, so all numbers are in the range [0,3]. 2 is the missing number in the range since it does not appear in nums."
      ],
      "metadata": {
        "id": "Vqpm0mn0s8pI"
      }
    },
    {
      "cell_type": "code",
      "source": [
        "class Lost:\n",
        "    def missing(self,nums):\n",
        "\n",
        "        low = 0\n",
        "        high = len(nums)-1\n",
        "        nums.sort()\n",
        "\n",
        "        while low <= high:\n",
        "            mid = (low+high)//2\n",
        "            if mid == nums[mid]:\n",
        "                low = mid+1\n",
        "            elif mid != nums[mid]:\n",
        "                high = mid-1\n",
        "        return high+1\n",
        "obj2 = Lost()\n",
        "nums = [3,0,1]\n",
        "print(obj2.missing(nums))"
      ],
      "metadata": {
        "colab": {
          "base_uri": "https://localhost:8080/"
        },
        "id": "-qiw-FThs7sR",
        "outputId": "a16d3131-7292-4955-e7b9-e738f4dead34"
      },
      "execution_count": 3,
      "outputs": [
        {
          "output_type": "stream",
          "name": "stdout",
          "text": [
            "2\n"
          ]
        }
      ]
    },
    {
      "cell_type": "markdown",
      "source": [
        "## Question no.4 :-\n",
        "\n",
        "Given an array of integers nums containing n + 1 integers where each integer is in the range [1, n] inclusive.\n",
        "\n",
        "There is only one repeated number in nums, return this repeated number.\n",
        "\n",
        "You must solve the problem without modifying the array nums and uses only constant extra space.\n",
        "\n",
        "Example 1:\n",
        "\n",
        "Input: nums = [1,3,4,2,2]\n",
        "\n",
        "Output: 2"
      ],
      "metadata": {
        "id": "7hgZX5Y1tF2n"
      }
    },
    {
      "cell_type": "code",
      "source": [
        "class Duplicate:\n",
        "    def get_duplicate(self,nums):\n",
        "        nums.sort()\n",
        "\n",
        "        for i in range(len(nums)):\n",
        "            l, r = i + 1, len(nums) - 1\n",
        "            while l <= r:\n",
        "                mid = l + ((r - l) // 2)\n",
        "                if nums[i] == nums[mid]:\n",
        "                    return nums[mid]\n",
        "                elif nums[i] <= nums[mid]:\n",
        "                    r = mid - 1\n",
        "                else:\n",
        "                    l = mid + 1\n",
        "        return nums[mid]\n",
        "\n",
        "\n",
        "obj3 = Duplicate()\n",
        "nums = [1,3,4,2,2]\n",
        "print(obj3.get_duplicate(nums))"
      ],
      "metadata": {
        "colab": {
          "base_uri": "https://localhost:8080/"
        },
        "id": "1Lx33FBRtFDg",
        "outputId": "ba7138e2-3ec3-45a6-edb2-4656b108c2d1"
      },
      "execution_count": 4,
      "outputs": [
        {
          "output_type": "stream",
          "name": "stdout",
          "text": [
            "2\n"
          ]
        }
      ]
    },
    {
      "cell_type": "markdown",
      "source": [
        "## Question no.5 :-\n",
        "\n",
        "Given two integer arrays nums1 and nums2, return an array of their intersection. Each element in the result must be unique and you may return the result in any order.\n",
        "\n",
        "Example 1:\n",
        "\n",
        "Input: nums1 = [1,2,2,1], nums2 = [2,2]\n",
        "\n",
        "Output: [2]"
      ],
      "metadata": {
        "id": "9io7QdZdtPof"
      }
    },
    {
      "cell_type": "code",
      "source": [
        "class Intersection:\n",
        "    def get_common(self,nums1,nums2):\n",
        "        nums1 = list(set(nums1))\n",
        "        nums2 = list(set(nums2))\n",
        "        arr = []\n",
        "        for i in nums1:\n",
        "            if i in nums2:\n",
        "                arr.append(i)\n",
        "        return arr\n",
        "\n",
        "\n",
        "obj4 = Intersection()\n",
        "nums1 = [1,2,4,5,7]\n",
        "nums2 = [2,3,4,8,9]\n",
        "print(obj4.get_common(nums1,nums2))\n",
        ""
      ],
      "metadata": {
        "colab": {
          "base_uri": "https://localhost:8080/"
        },
        "id": "QuF4GBIvtPBI",
        "outputId": "99ffc36c-4b09-4cba-e0f2-889dfd335c9c"
      },
      "execution_count": 5,
      "outputs": [
        {
          "output_type": "stream",
          "name": "stdout",
          "text": [
            "[2, 4]\n"
          ]
        }
      ]
    },
    {
      "cell_type": "markdown",
      "source": [
        "## Question no.6 :-\n",
        "\n",
        "Suppose an array of length n sorted in ascending order is rotated between 1 and n times. For example, the array nums = [0,1,2,4,5,6,7] might become:\n",
        "\n",
        "[4,5,6,7,0,1,2] if it was rotated 4 times.\n",
        "[0,1,2,4,5,6,7] if it was rotated 7 times.\n",
        "Notice that rotating an array [a[0], a[1], a[2], ..., a[n-1]] 1 time results in the array [a[n-1], a[0], a[1], a[2], ..., a[n-2]].\n",
        "\n",
        "Given the sorted rotated array nums of unique elements, return the minimum element of this array.\n",
        "\n",
        "You must write an algorithm that runs in O(log n) time.\n",
        "\n",
        "Example 1:\n",
        "\n",
        "Input: nums = [3,4,5,1,2]\n",
        "\n",
        "Output: 1\n",
        "\n",
        "Explanation: The original array was [1,2,3,4,5] rotated 3 times."
      ],
      "metadata": {
        "id": "jwN3PHBztZxf"
      }
    },
    {
      "cell_type": "code",
      "source": [
        "class Minimum:\n",
        "    def get_min(self,nums):\n",
        "        low, high = 0, len(nums) - 1\n",
        "\n",
        "        while low < high:\n",
        "            mid = low + (high - low) // 2\n",
        "            if nums[mid] > nums[high]:\n",
        "                low = mid + 1\n",
        "            elif nums[mid] < nums[high]:\n",
        "                high = mid\n",
        "        return nums[low]\n",
        "\n",
        "\n",
        "obj5 = Minimum()\n",
        "nums = [3,4,5,1,2]\n",
        "print(obj5.get_min(nums))\n",
        ""
      ],
      "metadata": {
        "colab": {
          "base_uri": "https://localhost:8080/"
        },
        "id": "8szN8YvstXuv",
        "outputId": "b306e27f-1f68-48ac-dcc3-c849a18516ae"
      },
      "execution_count": 6,
      "outputs": [
        {
          "output_type": "stream",
          "name": "stdout",
          "text": [
            "1\n"
          ]
        }
      ]
    },
    {
      "cell_type": "markdown",
      "source": [
        "## Question no.7 :-\n",
        "\n",
        " Given an array of integers nums sorted in non-decreasing order, find the starting and ending position of a given target value.\n",
        "\n",
        "If target is not found in the array, return [-1, -1].\n",
        "\n",
        "You must write an algorithm with O(log n) runtime complexity.\n",
        "\n",
        "Example 1:\n",
        "\n",
        "Input: nums = [5,7,7,8,8,10], target = 8\n",
        "\n",
        "Output: [3,4]"
      ],
      "metadata": {
        "id": "K8ikBHostkLX"
      }
    },
    {
      "cell_type": "code",
      "source": [
        "class Target:\n",
        "    def get_target(self,nums,target):\n",
        "        start = 0\n",
        "        end = len(nums)-1\n",
        "\n",
        "        while start <= end:\n",
        "            mid = (start+end) // 2\n",
        "            if nums[start] == nums[end] == target:\n",
        "                return [start, end]\n",
        "            if nums[mid] < target:\n",
        "                start = mid+1\n",
        "            elif nums[mid] > target:\n",
        "                end = mid-1\n",
        "            else:\n",
        "                if nums[start] != target:\n",
        "                    start += 1\n",
        "                if nums[end] != target:\n",
        "                    end -= 1\n",
        "        return [-1,-1]\n",
        "\n",
        "\n",
        "obj6 = Target()\n",
        "nums = [5,7,7,8,8,10]\n",
        "target = 8\n",
        "print(obj6.get_target(nums,target))"
      ],
      "metadata": {
        "colab": {
          "base_uri": "https://localhost:8080/"
        },
        "id": "8cx61m2tth-4",
        "outputId": "fd3e19c0-3e11-44a4-c8bf-fd4045585db6"
      },
      "execution_count": 7,
      "outputs": [
        {
          "output_type": "stream",
          "name": "stdout",
          "text": [
            "[3, 4]\n"
          ]
        }
      ]
    },
    {
      "cell_type": "markdown",
      "source": [
        "## Question no.8 :-\n",
        "\n",
        " Given two integer arrays nums1 and nums2, return an array of their intersection. Each element in the result must appear as many times as it shows in both arrays and you may return the result in any order.\n",
        "\n",
        "Example 1:\n",
        "\n",
        "Input: nums1 = [1,2,2,1], nums2 = [2,2]\n",
        "\n",
        "Output: [2,2]"
      ],
      "metadata": {
        "id": "VyweaKlCtpdI"
      }
    },
    {
      "cell_type": "code",
      "source": [
        "from collections import Counter\n",
        "\n",
        "class Intersection2:\n",
        "    def get_intersect(self,nums1,nums2):\n",
        "        d1 = Counter(nums1)\n",
        "        d2 = Counter(nums2)\n",
        "        d12 = (d1 & d2)\n",
        "\n",
        "        res = []\n",
        "        for item in d12.items():\n",
        "            res.extend([item[0]]*item[1])\n",
        "        return res\n",
        "\n",
        "\n",
        "obj7 = Intersection2()\n",
        "nums1 = [1,2,2,1]\n",
        "nums2 = [2,2]\n",
        "print(obj7.get_intersect(nums1,nums2))"
      ],
      "metadata": {
        "colab": {
          "base_uri": "https://localhost:8080/"
        },
        "id": "Y2OuIuOItoYh",
        "outputId": "fa65bbd9-f88e-49ce-aa61-a71498219831"
      },
      "execution_count": 8,
      "outputs": [
        {
          "output_type": "stream",
          "name": "stdout",
          "text": [
            "[2, 2]\n"
          ]
        }
      ]
    }
  ]
}