{
  "nbformat": 4,
  "nbformat_minor": 0,
  "metadata": {
    "colab": {
      "provenance": []
    },
    "kernelspec": {
      "name": "python3",
      "display_name": "Python 3"
    },
    "language_info": {
      "name": "python"
    }
  },
  "cells": [
    {
      "cell_type": "markdown",
      "source": [
        "# Question 1"
      ],
      "metadata": {
        "id": "RT-WEynu2YuE"
      }
    },
    {
      "cell_type": "markdown",
      "source": [
        "Implement a stack using a list in Python. Include the necessary methods such as push, pop, and isEmpty."
      ],
      "metadata": {
        "id": "pl5NHDNp3ki9"
      }
    },
    {
      "cell_type": "code",
      "execution_count": 2,
      "metadata": {
        "colab": {
          "base_uri": "https://localhost:8080/"
        },
        "id": "zqZ1WEnl2UUk",
        "outputId": "c6c7837d-e4e6-4cef-857b-20fe03d26977"
      },
      "outputs": [
        {
          "output_type": "stream",
          "name": "stdout",
          "text": [
            "30\n",
            "20\n",
            "False\n",
            "10\n",
            "True\n"
          ]
        }
      ],
      "source": [
        "class Stack:\n",
        "    def __init__(self):\n",
        "        self.stack = []\n",
        "\n",
        "    def push(self, item):\n",
        "        self.stack.append(item)\n",
        "\n",
        "    def pop(self):\n",
        "        if self.isEmpty():\n",
        "            raise IndexError(\"Cannot pop from an empty stack\")\n",
        "        return self.stack.pop()\n",
        "\n",
        "    def isEmpty(self):\n",
        "        return len(self.stack) == 0\n",
        "\n",
        "\n",
        "stack = Stack()\n",
        "stack.push(10)\n",
        "stack.push(20)\n",
        "stack.push(30)\n",
        "print(stack.pop())\n",
        "print(stack.pop())\n",
        "print(stack.isEmpty())\n",
        "print(stack.pop())\n",
        "print(stack.isEmpty())\n"
      ]
    },
    {
      "cell_type": "markdown",
      "source": [
        "# Question 2"
      ],
      "metadata": {
        "id": "wUNXEccs24HD"
      }
    },
    {
      "cell_type": "markdown",
      "source": [
        "Implement a queue using a list in Python. Include the necessary methods such as enqueue, dequeue, and isEmpty."
      ],
      "metadata": {
        "id": "RRdWclqe3JQY"
      }
    },
    {
      "cell_type": "code",
      "source": [
        "class Queue:\n",
        "    def __init__(self):\n",
        "        self.queue = []\n",
        "\n",
        "    def enqueue(self, item):\n",
        "        self.queue.append(item)\n",
        "\n",
        "    def dequeue(self):\n",
        "        if self.isEmpty():\n",
        "            raise IndexError(\"Cannot dequeue from an empty queue\")\n",
        "        return self.queue.pop(0)\n",
        "\n",
        "    def isEmpty(self):\n",
        "        return len(self.queue) == 0\n",
        "\n",
        "\n",
        "\n",
        "queue = Queue()\n",
        "queue.enqueue(10)\n",
        "queue.enqueue(20)\n",
        "queue.enqueue(30)\n",
        "print(queue.dequeue())\n",
        "print(queue.dequeue())\n",
        "print(queue.isEmpty())\n",
        "print(queue.dequeue())\n",
        "print(queue.isEmpty())\n"
      ],
      "metadata": {
        "colab": {
          "base_uri": "https://localhost:8080/"
        },
        "id": "cyu2NxvK27Y-",
        "outputId": "c7568f18-cb8f-4a76-ae19-43f166eb9d51"
      },
      "execution_count": 3,
      "outputs": [
        {
          "output_type": "stream",
          "name": "stdout",
          "text": [
            "10\n",
            "20\n",
            "False\n",
            "30\n",
            "True\n"
          ]
        }
      ]
    }
  ]
}