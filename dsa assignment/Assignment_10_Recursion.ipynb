{
  "nbformat": 4,
  "nbformat_minor": 0,
  "metadata": {
    "colab": {
      "provenance": []
    },
    "kernelspec": {
      "name": "python3",
      "display_name": "Python 3"
    },
    "language_info": {
      "name": "python"
    }
  },
  "cells": [
    {
      "cell_type": "markdown",
      "source": [
        "# Assignment 10 - Recursion"
      ],
      "metadata": {
        "id": "cvBSNw2_o0mb"
      }
    },
    {
      "cell_type": "markdown",
      "source": [
        "## Question no.1 :-\n",
        "\n",
        "Given an integer n, return true if it is a power of three. Otherwise, return false.\n",
        "\n",
        "An integer n is a power of three, if there exists an integer x such that n == 3x.\n",
        "\n",
        "Example 1:\n",
        "\n",
        "Input: n = 27 Output: true\n",
        "\n",
        "Explanation: 27 = 3**3\n",
        "\n",
        "Example 2:\n",
        "\n",
        "Input: n = 0 Output: false\n",
        "\n",
        "Explanation: There is no x where 3x = 0.\n",
        "\n",
        "Example 3:\n",
        "\n",
        "Input: n = -1 Output: false\n",
        "\n",
        "Explanation: There is no x where 3x = (-1)."
      ],
      "metadata": {
        "id": "wW-E7juCo4PL"
      }
    },
    {
      "cell_type": "code",
      "execution_count": 1,
      "metadata": {
        "colab": {
          "base_uri": "https://localhost:8080/"
        },
        "id": "8yRJwcT0oTLE",
        "outputId": "2de34cc2-7c6f-47e0-bf0b-25a3db85f8b1"
      },
      "outputs": [
        {
          "output_type": "stream",
          "name": "stdout",
          "text": [
            "False\n"
          ]
        }
      ],
      "source": [
        "class Power_three:\n",
        "    def is_power(self,n):\n",
        "        if n==1 or n==3:\n",
        "            return True\n",
        "        if n>3 and n%3==0:\n",
        "            return self.is_power(n/3)\n",
        "        return False\n",
        "\n",
        "\n",
        "obj = Power_three()\n",
        "n = 7\n",
        "print(obj.is_power(n))"
      ]
    },
    {
      "cell_type": "markdown",
      "source": [
        "## Question no.2 :-\n",
        "\n",
        "You have a list arr of all integers in the range [1, n] sorted in a strictly increasing order. Apply the following algorithm on arr:\n",
        "\n",
        "Starting from left to right, remove the first number and every other number afterward until you reach the end of the list.\n",
        "Repeat the previous step again, but this time from right to left, remove the rightmost number and every other number from the remaining numbers.\n",
        "Keep repeating the steps again, alternating left to right and right to left, until a single number remains.\n",
        "Given the integer n, return the last number that remains in arr.\n",
        "\n",
        "Example 1:\n",
        "\n",
        "Input: n = 9\n",
        "\n",
        "Output: 6\n",
        "\n",
        "Explanation: arr = [1, 2,3, 4,5, 6,7, 8,9] arr = [2,4, 6,8] arr = [2, 6] arr = [6]\n",
        "\n",
        "Example 2:\n",
        "\n",
        "Input: n = 1\n",
        "\n",
        "Output: 1\n",
        "\n"
      ],
      "metadata": {
        "id": "XOfQoTLUpMrq"
      }
    },
    {
      "cell_type": "code",
      "source": [
        "class Last_remaining:\n",
        "    def last_one(self,n):\n",
        "            if(n == 1):\n",
        "                return 1\n",
        "            return 2 * ((n // 2 - self.last_one(n // 2)) + 1)\n",
        "\n",
        "\n",
        "obj1 = Last_remaining()\n",
        "n = 9\n",
        "print(obj1.last_one(n))\n",
        ""
      ],
      "metadata": {
        "colab": {
          "base_uri": "https://localhost:8080/"
        },
        "id": "1dwlC3OrpLXs",
        "outputId": "590c552b-ea29-4d1f-f356-e3bdddc10582"
      },
      "execution_count": 2,
      "outputs": [
        {
          "output_type": "stream",
          "name": "stdout",
          "text": [
            "6\n"
          ]
        }
      ]
    },
    {
      "cell_type": "markdown",
      "source": [
        "## Question no.3 :-\n",
        "\n",
        "Given a set represented as a string, write a recursive code to print all subsets of it. The subsets can be printed in any order.\n",
        "\n",
        "Example 1:\n",
        "\n",
        "Input : set = “abc”\n",
        "\n",
        "Output : { “”, “a”, “b”, “c”, “ab”, “ac”, “bc”, “abc”}\n",
        "\n",
        "Example 2:\n",
        "\n",
        "Input : set = “abcd”\n",
        "\n",
        "Output : { “”, “a” ,”ab” ,”abc” ,”abcd”, “abd” ,”ac” ,”acd”, “ad” ,”b”, “bc” ,”bcd” ,”bd” ,”c” ,”cd” ,”d” }"
      ],
      "metadata": {
        "id": "Av-wzM_lpcbp"
      }
    },
    {
      "cell_type": "code",
      "source": [
        "class Subsets:\n",
        "    def get_subsets(self,nums):\n",
        "        res, n = [], len(nums)\n",
        "\n",
        "        def sub(i, l):\n",
        "            if i == n:\n",
        "                res.append(l)\n",
        "                return\n",
        "            sub(i + 1, l + [nums[i]])\n",
        "            sub(i + 1, l)\n",
        "        sub(0,[])\n",
        "        return res\n",
        "\n",
        "\n",
        "obj2 = Subsets()\n",
        "nums = \"abc\"\n",
        "print(obj2.get_subsets(nums))\n",
        ""
      ],
      "metadata": {
        "colab": {
          "base_uri": "https://localhost:8080/"
        },
        "id": "JHQacpYgpVKr",
        "outputId": "81ff8b66-2053-4a2a-d2c8-bf9e34579911"
      },
      "execution_count": 3,
      "outputs": [
        {
          "output_type": "stream",
          "name": "stdout",
          "text": [
            "[['a', 'b', 'c'], ['a', 'b'], ['a', 'c'], ['a'], ['b', 'c'], ['b'], ['c'], []]\n"
          ]
        }
      ]
    },
    {
      "cell_type": "markdown",
      "source": [
        "## Question no.4 :-\n",
        "\n",
        "Given a string calculate length of the string using recursion.\n",
        "\n",
        "Examples:\n",
        "\n",
        "Input : str = \"abcd\"\n",
        "\n",
        "Output :4\n",
        "\n",
        "Input : str = \"GEEKSFORGEEKS\"\n",
        "\n",
        "Output :13"
      ],
      "metadata": {
        "id": "L3h9-6FZpnbC"
      }
    },
    {
      "cell_type": "code",
      "source": [
        "class Length_recur:\n",
        "    def get_len(self,str):\n",
        "        if str == '':\n",
        "            return 0\n",
        "        else :\n",
        "            return 1 + self.get_len(str[1:])\n",
        "\n",
        "obj3 = Length_recur()\n",
        "str = \"BATMANVSSUPERMAN\"\n",
        "print(obj3.get_len(str))\n"
      ],
      "metadata": {
        "colab": {
          "base_uri": "https://localhost:8080/"
        },
        "id": "ZtMqahHBpheS",
        "outputId": "50a599e4-80d1-42e0-cc98-a3848e24bfdd"
      },
      "execution_count": 4,
      "outputs": [
        {
          "output_type": "stream",
          "name": "stdout",
          "text": [
            "16\n"
          ]
        }
      ]
    },
    {
      "cell_type": "markdown",
      "source": [
        "## Question no.5 :-\n",
        "\n",
        "We are given a string S, we need to find count of all contiguous substrings starting and ending with same character.\n",
        "\n",
        "Examples :\n",
        "\n",
        "Input : S = \"abcab\"\n",
        "\n",
        "Output : 7\n",
        "\n",
        "There are 15 substrings of \"abcab\" a, ab, abc, abca, abcab, b, bc, bca bcab, c, ca, cab, a, ab, b Out of the above substrings, there are 7 substrings : a, abca, b, bcab, c, a and b.\n",
        "\n",
        "Input : S = \"aba\"\n",
        "\n",
        "Output : 4\n",
        "\n",
        "The substrings are a, b, a and aba."
      ],
      "metadata": {
        "id": "Cn01fhRhp1Y6"
      }
    },
    {
      "cell_type": "code",
      "source": [
        "class Contiguous:\n",
        "    def get_contiguous(self,S):\n",
        "        result = 0\n",
        "        n = len(S)\n",
        "\n",
        "        for i in range(n):\n",
        "            for j in range(i, n):\n",
        "                if (S[i] == S[j]):\n",
        "                    result = result + 1\n",
        "        return result\n",
        "\n",
        "\n",
        "obj4 = Contiguous()\n",
        "S = \"abcab\"\n",
        "print(obj4.get_contiguous(S))"
      ],
      "metadata": {
        "colab": {
          "base_uri": "https://localhost:8080/"
        },
        "id": "EwH2QYYTpyiT",
        "outputId": "af9f38f8-c31a-4550-d8b6-de2a3136219e"
      },
      "execution_count": 5,
      "outputs": [
        {
          "output_type": "stream",
          "name": "stdout",
          "text": [
            "7\n"
          ]
        }
      ]
    },
    {
      "cell_type": "markdown",
      "source": [
        "## Question no.6 :-\n",
        "\n",
        " The tower of Hanoi is a famous puzzle where we have three rods and N disks. The objective of the puzzle is to move the entire stack to another rod. You are given the number of discs N. Initially, these discs are in the rod 1. You need to print all the steps of discs movement so that all the discs reach the 3rd rod. Also, you need to find the total moves.Note: The discs are arranged such that the top disc is numbered 1 and the bottom-most disc is numbered N. Also, all the discs have different sizes and a bigger disc cannot be put on the top of a smaller disc. Refer the provided link to get a better clarity about the puzzle.\n",
        "\n",
        "Example 1:\n",
        "\n",
        "Input: N = 2\n",
        "\n",
        "Output:\n",
        "\n",
        "move disk 1 from rod 1 to rod 2\n",
        "\n",
        "move disk 2 from rod 1 to rod 3\n",
        "\n",
        "move disk 1 from rod 2 to rod 3\n",
        "\n",
        "Explanation: For N=2 , steps will be as follows in the example and total 3 steps will be taken."
      ],
      "metadata": {
        "id": "B5mJfA9Sp7oz"
      }
    },
    {
      "cell_type": "code",
      "source": [
        "def Tower_of_Hanoi(n,source,destination,auxiliary):\n",
        "    if n==1:\n",
        "        print (\"Move disk 1 from source\",source,\"to destination\",destination)\n",
        "        return\n",
        "    Tower_of_Hanoi(n-1, source, auxiliary, destination)\n",
        "    print (\"Move disk\",n,\"from source\",source,\"to destination\",destination)\n",
        "    Tower_of_Hanoi(n-1, auxiliary, destination, source)\n",
        "\n",
        "\n",
        "n = 2\n",
        "Tower_of_Hanoi(n,'1','2','3')"
      ],
      "metadata": {
        "colab": {
          "base_uri": "https://localhost:8080/"
        },
        "id": "9DcAWdQmp6-S",
        "outputId": "40b9249e-2ace-4542-a871-3a93f39c746d"
      },
      "execution_count": 8,
      "outputs": [
        {
          "output_type": "stream",
          "name": "stdout",
          "text": [
            "Move disk 1 from source 1 to destination 3\n",
            "Move disk 2 from source 1 to destination 2\n",
            "Move disk 1 from source 3 to destination 2\n"
          ]
        }
      ]
    },
    {
      "cell_type": "markdown",
      "source": [
        "## Question no.7 :-\n",
        "\n",
        "Given a string str, the task is to print all the permutations of str. A permutation is an arrangement of all or part of a set of objects, with regard to the order of the arrangement. For instance, the words ‘bat’ and ‘tab’ represents two distinct permutation (or arrangements) of a similar three letter word.\n",
        "\n",
        "Examples:\n",
        "\n",
        "Input: str = “cd”\n",
        "\n",
        "Output: cd dc\n",
        "\n",
        "Input: str = “abb”\n",
        "\n",
        "Output: abb abb bab bba bab bba"
      ],
      "metadata": {
        "id": "eo_lQnBRqIXJ"
      }
    },
    {
      "cell_type": "code",
      "source": [
        "import itertools\n",
        "class Permutations:\n",
        "    def all_pers(self,S):\n",
        "\n",
        "        new_S = sorted(S)\n",
        "        pers = itertools.permutations(new_S)\n",
        "\n",
        "        return pers\n",
        "\n",
        "\n",
        "obj6 = Permutations()\n",
        "S = \"abb\"\n",
        "all_p = obj6.all_pers(S)\n",
        "for i in all_p:\n",
        "    print(\"\".join(i),end = \" \")"
      ],
      "metadata": {
        "colab": {
          "base_uri": "https://localhost:8080/"
        },
        "id": "94nu-5rpqHey",
        "outputId": "2009e2f8-d958-4fca-99d8-1822c93a962f"
      },
      "execution_count": 9,
      "outputs": [
        {
          "output_type": "stream",
          "name": "stdout",
          "text": [
            "abb abb bab bba bab bba "
          ]
        }
      ]
    },
    {
      "cell_type": "markdown",
      "source": [
        "Question no.8 :-\n",
        "\n",
        "Given a string, count total number of consonants in it. A consonant is an English alphabet character that is not vowel (a, e, i, o and u). Examples of constants are b, c, d, f, and g.\n",
        "\n",
        "Examples :\n",
        "\n",
        "Input: \"abc de\"\n",
        "\n",
        "Output: 3\n",
        "\n",
        "There are 3 consonants b, c and d.\n",
        "\n",
        "Input: \"geeksforgeeks portal\"\n",
        "\n",
        "Output: 12"
      ],
      "metadata": {
        "id": "AEPAlUF1qnIi"
      }
    },
    {
      "cell_type": "code",
      "source": [
        "class Consonants:\n",
        "    def count_them(self,S):\n",
        "        consonants = 0\n",
        "        vowels = 0\n",
        "\n",
        "        for i in S:\n",
        "            if i == 'a'or i == 'e'or i == 'i'or i == 'o'or i == 'u':\n",
        "                vowels = vowels+1;\n",
        "            else:\n",
        "                consonants = consonants+1;\n",
        "\n",
        "        return consonants\n",
        "\n",
        "\n",
        "obj7 = Consonants()\n",
        "S = \"geeksforgeeksportal\"\n",
        "print(obj7.count_them(S))"
      ],
      "metadata": {
        "colab": {
          "base_uri": "https://localhost:8080/"
        },
        "id": "eFHSpRhZqkSq",
        "outputId": "19878f5c-77fc-4a26-b8e9-a10319ade6b8"
      },
      "execution_count": 10,
      "outputs": [
        {
          "output_type": "stream",
          "name": "stdout",
          "text": [
            "12\n"
          ]
        }
      ]
    }
  ]
}