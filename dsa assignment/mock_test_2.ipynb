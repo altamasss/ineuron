{
  "nbformat": 4,
  "nbformat_minor": 0,
  "metadata": {
    "colab": {
      "provenance": []
    },
    "kernelspec": {
      "name": "python3",
      "display_name": "Python 3"
    },
    "language_info": {
      "name": "python"
    }
  },
  "cells": [
    {
      "cell_type": "markdown",
      "source": [
        "# Question 1"
      ],
      "metadata": {
        "id": "ZBr4aXgQPova"
      }
    },
    {
      "cell_type": "markdown",
      "source": [
        "Given a non-negative integer x, return the square root of x rounded down to the nearest integer. The returned integer should be non-negative as well. You must not use any built-in exponent function or operator.\n",
        "Example 1:\n",
        "\n",
        "Input: x = 4\n",
        "\n",
        "Output: 2\n",
        "\n",
        "Explanation: The square root of 4 is 2, so we return 2.\n",
        "\n",
        "Example 2:\n",
        "\n",
        "Input: x = 8\n",
        "\n",
        "Output: 2\n",
        "\n",
        "Explanation: The square root of 8 is 2.82842..., and since we round it down to the nearest integer, 2 is returned.\n",
        "\n",
        "Constraints:\n",
        "\n",
        "0 <= x <= 2^31 - 1"
      ],
      "metadata": {
        "id": "ntA0qQDLP0Dy"
      }
    },
    {
      "cell_type": "code",
      "execution_count": 1,
      "metadata": {
        "colab": {
          "base_uri": "https://localhost:8080/"
        },
        "id": "u9vtYZLUNaWm",
        "outputId": "35bb8c41-6bf2-4b77-ea2c-aae907f20dc7"
      },
      "outputs": [
        {
          "output_type": "stream",
          "name": "stdout",
          "text": [
            "2\n",
            "2\n"
          ]
        }
      ],
      "source": [
        "def mySqrt(x):\n",
        "    if x == 0:\n",
        "        return 0\n",
        "\n",
        "    left = 1\n",
        "    right = x\n",
        "\n",
        "    while left <= right:\n",
        "        mid = (left + right) // 2\n",
        "        if mid * mid == x:\n",
        "            return mid\n",
        "        elif mid * mid > x:\n",
        "            right = mid - 1\n",
        "        else:\n",
        "            left = mid + 1\n",
        "\n",
        "    return right\n",
        "\n",
        "# Test cases\n",
        "print(mySqrt(4))\n",
        "print(mySqrt(8))"
      ]
    },
    {
      "cell_type": "markdown",
      "source": [
        "# Question 2"
      ],
      "metadata": {
        "id": "3ChmPQqCQJ73"
      }
    },
    {
      "cell_type": "markdown",
      "source": [
        "You are given two non-empty linked lists representing two non-negative integers. The digits are stored in reverse order, and each of their nodes contains a single digit. Add the two numbers and return the sum as a linked list.\n",
        "You may assume the two numbers do not contain any leading zero, except the number 0 itself.\n",
        "\n",
        "Example 1:\n",
        "\n",
        "Input: l1 = [2,4,3], l2 = [5,6,4]\n",
        "\n",
        "Output: [7,0,8]\n",
        "\n",
        "Explanation: 342 + 465 = 807.\n",
        "\n",
        "Example 2:\n",
        "\n",
        "Input: l1 = [0], l2 = [0]\n",
        "\n",
        "Output: [0]\n",
        "\n",
        "Example 3:\n",
        "\n",
        "Input: l1 = [9,9,9,9,9,9,9], l2 = [9,9,9,9]\n",
        "\n",
        "Output: [8,9,9,9,0,0,0,1]\n",
        "\n",
        "Constraints:\n",
        "\n",
        "The number of nodes in each linked list is in the range [1, 100]. 0 <= Node.val <= 9 It is guaranteed that the list represents a number that does not have leading zeros.\n"
      ],
      "metadata": {
        "id": "vjvdCTyJQOCN"
      }
    },
    {
      "cell_type": "code",
      "source": [
        "class ListNode:\n",
        "    def __init__(self, val=0, next=None):\n",
        "        self.val = val\n",
        "        self.next = next\n",
        "\n",
        "\n",
        "def addTwoNumbers(l1, l2):\n",
        "    dummy = ListNode()\n",
        "    current = dummy\n",
        "    carry = 0\n",
        "\n",
        "    while l1 or l2 or carry:\n",
        "        sum_val = carry\n",
        "\n",
        "        if l1:\n",
        "            sum_val += l1.val\n",
        "            l1 = l1.next\n",
        "\n",
        "        if l2:\n",
        "            sum_val += l2.val\n",
        "            l2 = l2.next\n",
        "\n",
        "        carry = sum_val // 10\n",
        "        digit = sum_val % 10\n",
        "\n",
        "        current.next = ListNode(digit)\n",
        "        current = current.next\n",
        "\n",
        "    return dummy.next\n",
        "\n",
        "\n",
        "# Helper function to create a linked list from a list\n",
        "def createLinkedList(nums):\n",
        "    dummy = ListNode()\n",
        "    current = dummy\n",
        "    for num in nums:\n",
        "        current.next = ListNode(num)\n",
        "        current = current.next\n",
        "    return dummy.next\n",
        "\n",
        "\n",
        "# Helper function to convert a linked list to a list\n",
        "def linkedListToList(head):\n",
        "    result = []\n",
        "    current = head\n",
        "    while current:\n",
        "        result.append(current.val)\n",
        "        current = current.next\n",
        "    return result\n",
        "\n",
        "\n",
        "# Test cases\n",
        "l1 = createLinkedList([2, 4, 3])\n",
        "l2 = createLinkedList([5, 6, 4])\n",
        "result = addTwoNumbers(l1, l2)\n",
        "print(linkedListToList(result))\n",
        "\n",
        "l1 = createLinkedList([0])\n",
        "l2 = createLinkedList([0])\n",
        "result = addTwoNumbers(l1, l2)\n",
        "print(linkedListToList(result))\n",
        "\n",
        "l1 = createLinkedList([9, 9, 9, 9, 9, 9, 9])\n",
        "l2 = createLinkedList([9, 9, 9, 9])\n",
        "result = addTwoNumbers(l1, l2)\n",
        "print(linkedListToList(result))"
      ],
      "metadata": {
        "colab": {
          "base_uri": "https://localhost:8080/"
        },
        "id": "2UFTFa1EP7CM",
        "outputId": "4edf3579-3f65-4174-d967-3db86b065abd"
      },
      "execution_count": 2,
      "outputs": [
        {
          "output_type": "stream",
          "name": "stdout",
          "text": [
            "[7, 0, 8]\n",
            "[0]\n",
            "[8, 9, 9, 9, 0, 0, 0, 1]\n"
          ]
        }
      ]
    }
  ]
}