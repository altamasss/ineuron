{
  "nbformat": 4,
  "nbformat_minor": 0,
  "metadata": {
    "colab": {
      "provenance": []
    },
    "kernelspec": {
      "name": "python3",
      "display_name": "Python 3"
    },
    "language_info": {
      "name": "python"
    }
  },
  "cells": [
    {
      "cell_type": "markdown",
      "source": [
        "\n",
        "# Question 1.\n",
        "\n",
        "Given an integer `n`, return *`true` if it is a power of two. Otherwise, return `false`*.\n",
        "\n",
        "An integer `n` is a power of two, if there exists an integer `x` such that `n == 2x`.\n",
        "\n",
        "**Example 1:**\n",
        "Input: n = 1 \n",
        "\n",
        "Output: true\n",
        "\n",
        "**Example 2:**\n",
        "Input: n = 16 \n",
        "\n",
        "Output: true\n",
        "\n",
        "**Example 3:**\n",
        "Input: n = 3 \n",
        "\n",
        "Output: false"
      ],
      "metadata": {
        "id": "JFtDvOWZ1nlu"
      }
    },
    {
      "cell_type": "code",
      "execution_count": 1,
      "metadata": {
        "colab": {
          "base_uri": "https://localhost:8080/"
        },
        "id": "Jmw-oJE-1KHX",
        "outputId": "75c7aaa0-0ca3-4841-8663-308415e05b9d"
      },
      "outputs": [
        {
          "output_type": "stream",
          "name": "stdout",
          "text": [
            "True\n",
            "True\n",
            "False\n"
          ]
        }
      ],
      "source": [
        "def isPowerOfTwo(n):\n",
        "    if n <= 0:\n",
        "        return False\n",
        "    if n == 1:\n",
        "        return True\n",
        "    while n > 1:\n",
        "        if n % 2 != 0:\n",
        "            return False\n",
        "        n //= 2\n",
        "    return True\n",
        "print(isPowerOfTwo(1))  \n",
        "print(isPowerOfTwo(16)) \n",
        "print(isPowerOfTwo(3))  \n"
      ]
    },
    {
      "cell_type": "markdown",
      "source": [
        "\n",
        "# Question 2\n",
        "\n",
        "Given a number n, find the sum of the first natural numbers.\n",
        "\n",
        "**Example 1:**\n",
        "\n",
        "Input: n = 3 \n",
        "\n",
        "Output: 6\n",
        "\n",
        "**Example 2:**\n",
        "\n",
        "Input  : 5 \n",
        "\n",
        "Output : 15\n",
        "\n"
      ],
      "metadata": {
        "id": "TGGhB3aj2Ic5"
      }
    },
    {
      "cell_type": "code",
      "source": [
        "class Natural_sum:\n",
        "    def find_sum(self,n):\n",
        "\n",
        "        if n <= 1:\n",
        "            return n\n",
        "        else:\n",
        "            return n + self.find_sum(n-1)\n",
        "\n",
        "\n",
        "obj1 = Natural_sum() \n",
        "n = 50\n",
        "print(obj1.find_sum(n))"
      ],
      "metadata": {
        "colab": {
          "base_uri": "https://localhost:8080/"
        },
        "id": "keLUBQST2A86",
        "outputId": "5fbc0687-17f7-4285-c345-79c33abf97fc"
      },
      "execution_count": 2,
      "outputs": [
        {
          "output_type": "stream",
          "name": "stdout",
          "text": [
            "1275\n"
          ]
        }
      ]
    },
    {
      "cell_type": "markdown",
      "source": [
        "# Question 3\n",
        "\n",
        "Given a positive integer, N. Find the factorial of N. \n",
        "\n",
        "**Example 1:**\n",
        "\n",
        "Input: N = 5 \n",
        "\n",
        "Output: 120\n",
        "\n",
        "**Example 2:**\n",
        "\n",
        "Input: N = 4\n",
        "\n",
        "Output: 24"
      ],
      "metadata": {
        "id": "IYf1cEbd2kTx"
      }
    },
    {
      "cell_type": "code",
      "source": [
        "class Factorial:\n",
        "    def get_factorial(self,N):\n",
        "        \n",
        "        if N == 0 or N == 1:\n",
        "            return 1\n",
        "        elif N > 1:\n",
        "            return N * self.get_factorial(N-1)\n",
        "\n",
        "\n",
        "obj2 = Factorial() \n",
        "N = 5\n",
        "print(obj2.get_factorial(N))"
      ],
      "metadata": {
        "colab": {
          "base_uri": "https://localhost:8080/"
        },
        "id": "OwTc2LZ52szc",
        "outputId": "74a93c5f-6ab1-4aac-8451-70c666f65293"
      },
      "execution_count": 3,
      "outputs": [
        {
          "output_type": "stream",
          "name": "stdout",
          "text": [
            "120\n"
          ]
        }
      ]
    },
    {
      "cell_type": "markdown",
      "source": [
        "\n",
        "# Question 4\n",
        "\n",
        "Given a number N and a power P, the task is to find the exponent of this number raised to the given power, i.e. N^P.\n",
        "\n",
        "**Example 1 :** \n",
        "\n",
        "Input: N = 5, P = 2\n",
        "\n",
        "Output: 25\n",
        "\n",
        "**Example 2 :**\n",
        "Input: N = 2, P = 5\n",
        "\n",
        "Output: 32\n"
      ],
      "metadata": {
        "id": "rPLPEFF42xxo"
      }
    },
    {
      "cell_type": "code",
      "source": [
        "class Power_p:\n",
        "    def power(self,N,P):\n",
        "        if P == 0:\n",
        "            return 1\n",
        "        return (N * self.power(N,P-1)) \n",
        "\n",
        "obj3 = Power_p()\n",
        "N = 5\n",
        "P = 2\n",
        "print(obj3.power(N,P))"
      ],
      "metadata": {
        "colab": {
          "base_uri": "https://localhost:8080/"
        },
        "id": "7gDPnpQc24rY",
        "outputId": "bf0bfb7d-54cf-4cfe-9637-243514d5d773"
      },
      "execution_count": 4,
      "outputs": [
        {
          "output_type": "stream",
          "name": "stdout",
          "text": [
            "25\n"
          ]
        }
      ]
    },
    {
      "cell_type": "markdown",
      "source": [
        "# Question 5\n",
        "\n",
        "Given an array of integers **arr**, the task is to find maximum element of that array using recursion.\n",
        "\n",
        "**Example 1:**\n",
        "\n",
        "Input: arr = {1, 4, 3, -5, -4, 8, 6};\n",
        "Output: 8\n",
        "\n",
        "**Example 2:**\n",
        "\n",
        "Input: arr = {1, 4, 45, 6, 10, -8};\n",
        "Output: 45\n"
      ],
      "metadata": {
        "id": "DW6Stmu23AE5"
      }
    },
    {
      "cell_type": "code",
      "source": [
        "class Largest:\n",
        "    def is_largest(self,arr,n):\n",
        "\n",
        "        if n == 1:\n",
        "            return arr[0]\n",
        "        return max(arr[n-1],self.is_largest(arr,n-1))\n",
        "\n",
        "\n",
        "obj4 = Largest()\n",
        "arr = [1, 4, 3, -5, -4, 8, 6]\n",
        "n = len(arr) \n",
        "print(obj4.is_largest(arr,n))"
      ],
      "metadata": {
        "colab": {
          "base_uri": "https://localhost:8080/"
        },
        "id": "hj5-vfk-3DB5",
        "outputId": "0d9f448f-9784-48fb-dc94-24a8fffcd3a4"
      },
      "execution_count": 6,
      "outputs": [
        {
          "output_type": "stream",
          "name": "stdout",
          "text": [
            "8\n"
          ]
        }
      ]
    },
    {
      "cell_type": "markdown",
      "source": [
        "# Question 6\n",
        "\n",
        "Given first term (a), common difference (d) and a integer N of the Arithmetic Progression series, the task is to find Nth term of the series.\n",
        "\n",
        "**Example 1:**\n",
        "\n",
        "Input : a = 2 d = 1 N = 5\n",
        "Output : 6\n",
        "The 5th term of the series is : 6\n",
        "\n",
        "**Example 2:**\n",
        "\n",
        "Input : a = 5 d = 2 N = 10\n",
        "Output : 23\n",
        "The 10th term of the series is : 23"
      ],
      "metadata": {
        "id": "eYs_CzGL3iPz"
      }
    },
    {
      "cell_type": "code",
      "source": [
        "class Nth_term:\n",
        "    def get_nth(self,a,d,N):\n",
        "        return (a + (N-1) * d) \n",
        "\n",
        "\n",
        "obj5 = Nth_term()\n",
        "a = 2\n",
        "d = 1\n",
        "N = 5\n",
        "print(obj5.get_nth(a,d,N))"
      ],
      "metadata": {
        "colab": {
          "base_uri": "https://localhost:8080/"
        },
        "id": "rXLgd6vS3nfq",
        "outputId": "eb7fcb8d-230b-4c92-b21e-55dfc04e3640"
      },
      "execution_count": 8,
      "outputs": [
        {
          "output_type": "stream",
          "name": "stdout",
          "text": [
            "6\n"
          ]
        }
      ]
    },
    {
      "cell_type": "markdown",
      "source": [
        "# Question 7\n",
        "\n",
        "Given a string S, the task is to write a program to print all permutations of a given string.\n",
        "\n",
        "**Example 1:**\n",
        "\n",
        "***Input:***\n",
        "\n",
        "*S = “ABC”*\n",
        "\n",
        "***Output:***\n",
        "\n",
        "*“ABC”, “ACB”, “BAC”, “BCA”, “CBA”, “CAB”*\n",
        "\n",
        "**Example 2:**\n",
        "\n",
        "***Input:***\n",
        "\n",
        "*S = “XY”*\n",
        "\n",
        "***Output:***\n",
        "\n",
        "*“XY”, “YX”*\n"
      ],
      "metadata": {
        "id": "DRJ_Eljz35e6"
      }
    },
    {
      "cell_type": "code",
      "source": [
        "import itertools\n",
        "class Permutations:\n",
        "    def all_pers(self,S):\n",
        "\n",
        "        new_S = sorted(S)\n",
        "        pers = itertools.permutations(new_S)\n",
        "               \n",
        "        return pers \n",
        "\n",
        "\n",
        "obj6 = Permutations()\n",
        "S = \"ABC\"\n",
        "all_p = obj6.all_pers(S) \n",
        "for i in all_p:\n",
        "    print(\"\".join(i),end = \",\")"
      ],
      "metadata": {
        "colab": {
          "base_uri": "https://localhost:8080/"
        },
        "id": "GW-B5mY13-HY",
        "outputId": "54e7cf4d-c479-4b40-9d5b-ffbe50d5a9b5"
      },
      "execution_count": 9,
      "outputs": [
        {
          "output_type": "stream",
          "name": "stdout",
          "text": [
            "ABC,ACB,BAC,BCA,CAB,CBA,"
          ]
        }
      ]
    },
    {
      "cell_type": "markdown",
      "source": [
        "Question 8\n",
        "\n",
        "Given an array, find a product of all array elements.\n",
        "\n",
        "**Example 1:**\n",
        "\n",
        "Input  : arr[] = {1, 2, 3, 4, 5}\n",
        "Output : 120\n",
        "\n",
        "**Example 2:**\n",
        "\n",
        "Input  : arr[] = {1, 6, 3}\n",
        "Output : 18\n",
        "\n"
      ],
      "metadata": {
        "id": "nGGtF7L-4MIo"
      }
    },
    {
      "cell_type": "code",
      "source": [
        "class Product:\n",
        "    def get_product(self,arr):\n",
        "        p = 1\n",
        "        for i in arr:\n",
        "            p = p*i\n",
        "        return p\n",
        "\n",
        "\n",
        "obj7 = Product()\n",
        "arr = {1,2,3,4,5}\n",
        "print(obj7.get_product(arr))"
      ],
      "metadata": {
        "colab": {
          "base_uri": "https://localhost:8080/"
        },
        "id": "XfI_P5xc4LuB",
        "outputId": "f31e30e0-69ac-4106-bc31-c8e9ba63ef6f"
      },
      "execution_count": 10,
      "outputs": [
        {
          "output_type": "stream",
          "name": "stdout",
          "text": [
            "120\n"
          ]
        }
      ]
    }
  ]
}