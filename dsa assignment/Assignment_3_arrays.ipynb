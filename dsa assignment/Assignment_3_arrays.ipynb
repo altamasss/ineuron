{
  "nbformat": 4,
  "nbformat_minor": 0,
  "metadata": {
    "colab": {
      "provenance": []
    },
    "kernelspec": {
      "name": "python3",
      "display_name": "Python 3"
    },
    "language_info": {
      "name": "python"
    }
  },
  "cells": [
    {
      "cell_type": "markdown",
      "source": [
        "# Assignment 3"
      ],
      "metadata": {
        "id": "ntUU0mirmMlm"
      }
    },
    {
      "cell_type": "markdown",
      "source": [
        "Question 1\n",
        "\n",
        "Given an integer array nums of length n and an integer target, find three integers\n",
        "in nums such that the sum is closest to the target.\n",
        "Return the sum of the three integers.\n",
        "\n",
        "You may assume that each input would have exactly one solution.\n",
        "\n",
        "Example 1:\n",
        "Input: nums = [-1,2,1,-4], target = 1\n",
        "Output: 2\n",
        "\n",
        "Explanation: The sum that is closest to the target is 2. (-1 + 2 + 1 = 2)."
      ],
      "metadata": {
        "id": "q5c_QMwGmQwF"
      }
    },
    {
      "cell_type": "code",
      "execution_count": 1,
      "metadata": {
        "colab": {
          "base_uri": "https://localhost:8080/"
        },
        "id": "7a_vfo5rkPEb",
        "outputId": "e9347a75-ce6d-43b9-af17-a90d2405eabc"
      },
      "outputs": [
        {
          "output_type": "stream",
          "name": "stdout",
          "text": [
            "2\n"
          ]
        }
      ],
      "source": [
        "def threeSumClosest(nums, target):\n",
        "    nums.sort()\n",
        "    n = len(nums)\n",
        "    closestSum = float('inf')\n",
        "\n",
        "    for i in range(n - 2):\n",
        "        left = i + 1\n",
        "        right = n - 1\n",
        "\n",
        "        while left < right:\n",
        "            currSum = nums[i] + nums[left] + nums[right]\n",
        "\n",
        "            if abs(currSum - target) < abs(closestSum - target):\n",
        "                closestSum = currSum\n",
        "\n",
        "            if currSum < target:\n",
        "                left += 1\n",
        "            elif currSum > target:\n",
        "                right -= 1\n",
        "            else:\n",
        "                return target\n",
        "\n",
        "    return closestSum\n",
        "nums = [-1, 2, 1, -4]\n",
        "target = 1\n",
        "\n",
        "result = threeSumClosest(nums, target)\n",
        "print(result)  \n"
      ]
    },
    {
      "cell_type": "markdown",
      "source": [
        "Question 2\n",
        "\n",
        "Given an array nums of n integers, return an array of all the unique quadruplets\n",
        "[nums[a], nums[b], nums[c], nums[d]] such that:\n",
        "           ● 0 <= a, b, c, d < n\n",
        "           ● a, b, c, and d are distinct.\n",
        "           ● nums[a] + nums[b] + nums[c] + nums[d] == target\n",
        "\n",
        "You may return the answer in any order.\n",
        "\n",
        "Example 1:\n",
        "Input: nums = [1,0,-1,0,-2,2], target = 0\n",
        "Output: [[-2,-1,1,2],[-2,0,0,2],[-1,0,0,1]]"
      ],
      "metadata": {
        "id": "loDh-Uwsmk4t"
      }
    },
    {
      "cell_type": "code",
      "source": [
        "def fourSum(nums, target):\n",
        "    nums.sort()\n",
        "    n = len(nums)\n",
        "    result = []\n",
        "\n",
        "    for i in range(n - 3):\n",
        "        if i > 0 and nums[i] == nums[i - 1]:\n",
        "            continue\n",
        "\n",
        "        for j in range(i + 1, n - 2):\n",
        "            if j > i + 1 and nums[j] == nums[j - 1]:\n",
        "                continue\n",
        "\n",
        "            left = j + 1\n",
        "            right = n - 1\n",
        "\n",
        "            while left < right:\n",
        "                currSum = nums[i] + nums[j] + nums[left] + nums[right]\n",
        "\n",
        "                if currSum == target:\n",
        "                    result.append([nums[i], nums[j], nums[left], nums[right]])\n",
        "                    left += 1\n",
        "                    right -= 1\n",
        "\n",
        "                    while left < right and nums[left] == nums[left - 1]:\n",
        "                        left += 1\n",
        "\n",
        "                    while left < right and nums[right] == nums[right + 1]:\n",
        "                        right -= 1\n",
        "\n",
        "                elif currSum < target:\n",
        "                    left += 1\n",
        "                else:\n",
        "                    right -= 1\n",
        "\n",
        "    return result\n",
        "nums = [1, 0, -1, 0, -2, 2]\n",
        "target = 0\n",
        "\n",
        "result = fourSum(nums, target)\n",
        "print(result) \n"
      ],
      "metadata": {
        "colab": {
          "base_uri": "https://localhost:8080/"
        },
        "id": "X2LehMFlmud1",
        "outputId": "c3a76c93-4976-4f32-a2c3-9613e64359cd"
      },
      "execution_count": 2,
      "outputs": [
        {
          "output_type": "stream",
          "name": "stdout",
          "text": [
            "[[-2, -1, 1, 2], [-2, 0, 0, 2], [-1, 0, 0, 1]]\n"
          ]
        }
      ]
    },
    {
      "cell_type": "markdown",
      "source": [
        "Question 3. \n",
        "\n",
        "A permutation of an array of integers is an arrangement of its members into a sequence or linear order.\n",
        "\n",
        "For example, for arr = [1,2,3], the following are all the permutations of arr: [1,2,3], [1,3,2], [2, 1, 3], [2, 3, 1], [3,1,2], [3,2,1].\n",
        "\n",
        "The next permutation of an array of integers is the next lexicographically greater permutation of its integer. More formally, if all the permutations of the array are sorted in one container according to their lexicographical order, then the next permutation of that array is the permutation that follows it in the sorted container.\n",
        "\n",
        "If such an arrangement is not possible, the array must be rearranged as the lowest possible order (i.e., sorted in ascending order).\n",
        "\n",
        "● For example, the next permutation of arr = [1,2,3] is [1,3,2].\n",
        "\n",
        "● Similarly, the next permutation of arr = [2,3,1] is [3,1,2].\n",
        "\n",
        "● While the next permutation of arr = [3,2,1] is [1,2,3] because [3,2,1] does not have a lexicographical larger rearrangement.\n",
        "\n",
        "Given an array of integers nums, find the next permutation of nums. The replacement must be in place and use only constant extra memory.\n",
        "\n",
        "Example 1: Input: nums = [1,2,3] Output: [1,3,2]"
      ],
      "metadata": {
        "id": "wbRRW-1aoW01"
      }
    },
    {
      "cell_type": "code",
      "source": [
        "def nextPermutation(nums):\n",
        "    n = len(nums)\n",
        "    i = n - 2  # Start from the second last element\n",
        "\n",
        "    # Find the first decreasing element from the right\n",
        "    while i >= 0 and nums[i] >= nums[i+1]:\n",
        "        i -= 1\n",
        "\n",
        "    if i >= 0:\n",
        "        # Find the next greater element from the right\n",
        "        j = n - 1\n",
        "        while j >= 0 and nums[j] <= nums[i]:\n",
        "            j -= 1\n",
        "\n",
        "        # Swap nums[i] and nums[j]\n",
        "        nums[i], nums[j] = nums[j], nums[i]\n",
        "\n",
        "    # Reverse the elements after i+1\n",
        "    left = i + 1\n",
        "    right = n - 1\n",
        "    while left < right:\n",
        "        nums[left], nums[right] = nums[right], nums[left]\n",
        "        left += 1\n",
        "        right -= 1\n",
        "nums = [1, 2, 3]\n",
        "nextPermutation(nums)\n",
        "print(nums)  \n"
      ],
      "metadata": {
        "colab": {
          "base_uri": "https://localhost:8080/"
        },
        "id": "nlRUhCq1ofdF",
        "outputId": "a447015a-21fe-4de4-ccb8-67de89b68667"
      },
      "execution_count": 3,
      "outputs": [
        {
          "output_type": "stream",
          "name": "stdout",
          "text": [
            "[1, 3, 2]\n"
          ]
        }
      ]
    },
    {
      "cell_type": "markdown",
      "source": [
        "Question 4\n",
        "\n",
        "Given a sorted array of distinct integers and a target value, return the index if the\n",
        "target is found. If not, return the index where it would be if it were inserted in\n",
        "order.\n",
        "\n",
        "You must write an algorithm with O(log n) runtime complexity.\n",
        "\n",
        "Example 1:\n",
        "Input: nums = [1,3,5,6], target = 5\n",
        "Output: 2"
      ],
      "metadata": {
        "id": "iS9Uv1BLo36l"
      }
    },
    {
      "cell_type": "code",
      "source": [
        "def searchInsert(nums, target):\n",
        "    left = 0\n",
        "    right = len(nums) - 1\n",
        "\n",
        "    while left <= right:\n",
        "        mid = left + (right - left) // 2\n",
        "\n",
        "        if nums[mid] == target:\n",
        "            return mid\n",
        "        elif nums[mid] < target:\n",
        "            left = mid + 1\n",
        "        else:\n",
        "            right = mid - 1\n",
        "\n",
        "    return left\n",
        "nums = [1, 3, 5, 6]\n",
        "target = 5\n",
        "\n",
        "result = searchInsert(nums, target)\n",
        "print(result) \n"
      ],
      "metadata": {
        "colab": {
          "base_uri": "https://localhost:8080/"
        },
        "id": "gpb3_NEBo6rN",
        "outputId": "064b337e-0f85-4c93-db4a-729debaa4094"
      },
      "execution_count": 4,
      "outputs": [
        {
          "output_type": "stream",
          "name": "stdout",
          "text": [
            "2\n"
          ]
        }
      ]
    },
    {
      "cell_type": "markdown",
      "source": [
        "\n",
        "Question 5\n",
        "\n",
        "You are given a large integer represented as an integer array digits, where each\n",
        "digits[i] is the ith digit of the integer. The digits are ordered from most significant\n",
        "to least significant in left-to-right order. The large integer does not contain any\n",
        "leading 0's.\n",
        "\n",
        "Increment the large integer by one and return the resulting array of digits.\n",
        "\n",
        "**Example 1:**\n",
        "Input: digits = [1,2,3]\n",
        "Output: [1,2,4]\n",
        "\n",
        "**Explanation:** The array represents the integer 123.\n",
        "Incrementing by one gives 123 + 1 = 124.\n",
        "Thus, the result should be [1,2,4].\n"
      ],
      "metadata": {
        "id": "Fn8K4iZIpP4e"
      }
    },
    {
      "cell_type": "code",
      "source": [
        "def plusOne(digits):\n",
        "    n = len(digits)\n",
        "    carry = 1\n",
        "\n",
        "    for i in range(n - 1, -1, -1):\n",
        "        sum = digits[i] + carry\n",
        "        digits[i] = sum % 10\n",
        "        carry = sum // 10\n",
        "\n",
        "        if carry == 0:\n",
        "            break\n",
        "\n",
        "    if carry != 0:\n",
        "        digits.insert(0, carry)\n",
        "\n",
        "    return digits\n",
        "digits = [1, 2, 3]\n",
        "result = plusOne(digits)\n",
        "print(result)  \n"
      ],
      "metadata": {
        "colab": {
          "base_uri": "https://localhost:8080/"
        },
        "id": "VeuVMOELpa9t",
        "outputId": "1b19ff37-d2de-4859-e11d-f123b57467d5"
      },
      "execution_count": 5,
      "outputs": [
        {
          "output_type": "stream",
          "name": "stdout",
          "text": [
            "[1, 2, 4]\n"
          ]
        }
      ]
    },
    {
      "cell_type": "markdown",
      "source": [
        "Question 6\n",
        "\n",
        "Given a non-empty array of integers nums, every element appears twice except\n",
        "for one. Find that single one.\n",
        "\n",
        "You must implement a solution with a linear runtime complexity and use only\n",
        "constant extra space.\n",
        "\n",
        "Example 1:\n",
        "Input: nums = [2,2,1]\n",
        "Output: 1"
      ],
      "metadata": {
        "id": "Ogb79bJnpqaF"
      }
    },
    {
      "cell_type": "code",
      "source": [
        "def singleNumber(nums):\n",
        "    result = 0\n",
        "\n",
        "    for num in nums:\n",
        "        result ^= num\n",
        "\n",
        "    return result\n",
        "nums = [2, 2, 1]\n",
        "result = singleNumber(nums)\n",
        "print(result)  \n"
      ],
      "metadata": {
        "colab": {
          "base_uri": "https://localhost:8080/"
        },
        "id": "Q1j3ByyEptVX",
        "outputId": "bb33e5fc-17f8-4391-de91-f0f07adea49a"
      },
      "execution_count": 6,
      "outputs": [
        {
          "output_type": "stream",
          "name": "stdout",
          "text": [
            "1\n"
          ]
        }
      ]
    },
    {
      "cell_type": "markdown",
      "source": [
        "Question 7\n",
        "\n",
        "You are given an inclusive range [lower, upper] and a sorted unique integer array\n",
        "nums, where all elements are within the inclusive range.\n",
        "\n",
        "A number x is considered missing if x is in the range [lower, upper] and x is not in\n",
        "nums.\n",
        "\n",
        "Return the shortest sorted list of ranges that exactly covers all the missing\n",
        "numbers. That is, no element of nums is included in any of the ranges, and each\n",
        "missing number is covered by one of the ranges.\n",
        "\n",
        "Example 1:\n",
        "Input: nums = [0,1,3,50,75], lower = 0, upper = 99\n",
        "Output: [[2,2],[4,49],[51,74],[76,99]]\n",
        "\n",
        "Explanation: The ranges are:\n",
        "[2,2]\n",
        "[4,49]\n",
        "[51,74]\n",
        "[76,99]"
      ],
      "metadata": {
        "id": "jwfBquXzp5JV"
      }
    },
    {
      "cell_type": "code",
      "source": [
        "def findMissingRanges(nums, lower, upper):\n",
        "    result = []\n",
        "    start = lower\n",
        "\n",
        "    for num in nums:\n",
        "        if num == start:\n",
        "            start += 1\n",
        "        elif num > start:\n",
        "            result.append([start, num - 1])\n",
        "            start = num + 1\n",
        "\n",
        "    if start <= upper:\n",
        "        result.append([start, upper])\n",
        "\n",
        "    return result\n",
        "nums = [0, 1, 3, 50, 75]\n",
        "lower = 0\n",
        "upper = 99\n",
        "result = findMissingRanges(nums, lower, upper)\n",
        "print(result)"
      ],
      "metadata": {
        "colab": {
          "base_uri": "https://localhost:8080/"
        },
        "id": "zkD4Ka8QqIx7",
        "outputId": "3c81cdd6-46f0-47d0-cac0-512471ddcdce"
      },
      "execution_count": 8,
      "outputs": [
        {
          "output_type": "stream",
          "name": "stdout",
          "text": [
            "[[2, 2], [4, 49], [51, 74], [76, 99]]\n"
          ]
        }
      ]
    },
    {
      "cell_type": "markdown",
      "source": [
        "Question 8\n",
        " \n",
        "Given an array of meeting time intervals where intervals[i] = [starti, endi], determine if a person could attend all meetings.\n",
        "\n",
        "Example 1: Input: intervals = [[0,30],[5,10],[15,20]] Output: false"
      ],
      "metadata": {
        "id": "MyCuL-VsqkjN"
      }
    },
    {
      "cell_type": "code",
      "source": [
        "def canAttendMeetings(intervals):\n",
        "    intervals.sort(key=lambda x: x[0])\n",
        "\n",
        "    for i in range(1, len(intervals)):\n",
        "        if intervals[i][0] < intervals[i-1][1]:\n",
        "            return False\n",
        "\n",
        "    return True\n",
        "intervals = [[0, 30], [5, 10], [15, 20]]\n",
        "\n",
        "result = canAttendMeetings(intervals)\n",
        "print(result)  # Output: False\n"
      ],
      "metadata": {
        "colab": {
          "base_uri": "https://localhost:8080/"
        },
        "id": "HDm6rb6Dq6Jt",
        "outputId": "7af44796-3bda-4980-b6e1-ac16bd9fa691"
      },
      "execution_count": 10,
      "outputs": [
        {
          "output_type": "stream",
          "name": "stdout",
          "text": [
            "False\n"
          ]
        }
      ]
    }
  ]
}