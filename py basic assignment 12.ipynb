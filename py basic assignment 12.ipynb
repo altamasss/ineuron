{
 "cells": [
  {
   "cell_type": "code",
   "execution_count": null,
   "id": "1e9168fe",
   "metadata": {},
   "outputs": [],
   "source": [
    "#1.In what modes should the PdfFileReader() and PdfFileWriter() File objects will be opened?\n",
    "\n",
    "PdfFileReader() should be opened in read-binary mode. \n",
    "PdfFileWriter() should be opened in write-binary mode."
   ]
  },
  {
   "cell_type": "code",
   "execution_count": null,
   "id": "8cfe5ac8",
   "metadata": {},
   "outputs": [],
   "source": [
    "#2.From a PdfFileReader object, how do you get a Page object for page 5?\n",
    "\n",
    "PdfFileReader.getPage(5)"
   ]
  },
  {
   "cell_type": "code",
   "execution_count": null,
   "id": "44d45215",
   "metadata": {},
   "outputs": [],
   "source": [
    "#3.What PdfFileReader variable stores the number of pages in the PDF document?\n",
    "\n",
    "numPages"
   ]
  },
  {
   "cell_type": "code",
   "execution_count": null,
   "id": "82b351e0",
   "metadata": {},
   "outputs": [],
   "source": [
    "#4.If a PdfFileReader object’s PDF is encrypted with the password swordfish, what must you do before you can obtain Page objects from it?\n",
    "\n",
    "obj.decrypt(\"swordfish\")"
   ]
  },
  {
   "cell_type": "code",
   "execution_count": null,
   "id": "d74abadb",
   "metadata": {},
   "outputs": [],
   "source": [
    "#5.What methods do you use to rotate a page?\n",
    "\n",
    "rotateClockwise() and rotateCounterClockwise()"
   ]
  },
  {
   "cell_type": "code",
   "execution_count": null,
   "id": "1437816c",
   "metadata": {},
   "outputs": [],
   "source": [
    "#6.What is the difference between a Run object and a Paragraph object?\n",
    "\n",
    "paragraps object is needed to get paragraph from a document, \n",
    "runs object is needed whenever text style changes in a paragraph."
   ]
  },
  {
   "cell_type": "code",
   "execution_count": null,
   "id": "3f3c77e4",
   "metadata": {},
   "outputs": [],
   "source": [
    "#7.How do you obtain a list of Paragraph objects for a Document object that’s stored in a variable named doc?\n",
    "\n",
    "doc.paragraphs"
   ]
  },
  {
   "cell_type": "code",
   "execution_count": null,
   "id": "9cd6ef82",
   "metadata": {},
   "outputs": [],
   "source": [
    "#8.What type of object has bold, underline, italic, strike, and outline variables?\n",
    "\n",
    "Ans - runs"
   ]
  },
  {
   "cell_type": "code",
   "execution_count": null,
   "id": "c641ae3d",
   "metadata": {},
   "outputs": [],
   "source": [
    "#9.What is the difference between False, True, and None for the bold variable?\n",
    "\n",
    "True = bold is always enabled no matter what other styles are applied to the run, \n",
    "False = bold is always disabled, \n",
    "None = defaults to whatever the run's style set to"
   ]
  },
  {
   "cell_type": "code",
   "execution_count": null,
   "id": "74701d6a",
   "metadata": {},
   "outputs": [],
   "source": [
    "#10.How do you create a Document object for a new Word document?\n",
    "\n",
    "import docx\n",
    "doc=docx.Document(.docx file name)"
   ]
  },
  {
   "cell_type": "code",
   "execution_count": null,
   "id": "18f3fc76",
   "metadata": {},
   "outputs": [],
   "source": [
    "#11.How do you add a paragraph with the text 'Hello, there!' to a Document object stored in a variable named doc?\n",
    "\n",
    "doc.add_paragraph(\"Hello, there!\")"
   ]
  },
  {
   "cell_type": "code",
   "execution_count": null,
   "id": "9d96db30",
   "metadata": {},
   "outputs": [],
   "source": [
    "#12.What integers represent the levels of headings available in Word documents?\n",
    "\n",
    "0 to 4"
   ]
  }
 ],
 "metadata": {
  "kernelspec": {
   "display_name": "Python 3 (ipykernel)",
   "language": "python",
   "name": "python3"
  },
  "language_info": {
   "codemirror_mode": {
    "name": "ipython",
    "version": 3
   },
   "file_extension": ".py",
   "mimetype": "text/x-python",
   "name": "python",
   "nbconvert_exporter": "python",
   "pygments_lexer": "ipython3",
   "version": "3.9.13"
  }
 },
 "nbformat": 4,
 "nbformat_minor": 5
}
