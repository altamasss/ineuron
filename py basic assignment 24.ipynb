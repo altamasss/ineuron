{
 "cells": [
  {
   "cell_type": "code",
   "execution_count": null,
   "id": "60f4aec6",
   "metadata": {},
   "outputs": [],
   "source": [
    "#1. What is the relationship between def statements and lambda expressions ?\n",
    "\n",
    "# Lambda's body is a single expression. def refers to a block of statements. \n",
    "# Lambda returns a value that can optionally be assigned a name. \n",
    "# In contrast, the def statement always assigns the new function to the name in the header."
   ]
  },
  {
   "cell_type": "code",
   "execution_count": null,
   "id": "8f9e5a6e",
   "metadata": {},
   "outputs": [],
   "source": [
    "#2. What is the benefit of lambda?\n",
    "\n",
    "# Lambda reduces the number of lines of code and returns the result without an extra statement."
   ]
  },
  {
   "cell_type": "code",
   "execution_count": null,
   "id": "be3acc00",
   "metadata": {},
   "outputs": [],
   "source": [
    "#3. Compare and contrast map, filter, and reduce.\n",
    "\n",
    "# All the three functions takes a < func > and an < iterable > as arguments, \n",
    "# but works in a totally different manner. map() and filter() are built-in Python functions \n",
    "# but reduce() is a part of functools module.\n",
    "\n",
    "Map\n",
    "Syntax:\n",
    "   < map object >= map(< func >, < iterable >)\n",
    "\n",
    "#map() executes the < func > with each and every item of < iterable > \n",
    "# and returns a map object containing result of < func > on each element.\n",
    "\n",
    "\n",
    "\n",
    "filter\n",
    "Syntax:\n",
    "   < filter object >= filter(< func >, < iterable >)\n",
    "\n",
    "#filter() applies the filter condition given by < func > \n",
    "# to each and every item of < iterable > and returns a filter object containing elements which returned only True. \n",
    "#Here the < func > should be a True or False function.\n",
    "\n",
    "\n",
    "\n",
    "reduce\n",
    "Syntax:\n",
    "  reduce(< func >, < iterable >)\n",
    "\n",
    "#reduce() works by calling the < func > argument with 2 elements. \n",
    "# Initially first two elements from the < iterable > is used, then the result of it and the third element is used and so on. \n",
    "# Finally it returns a single output .i.e. it reduces the < iterable > to a single element based on the < func >."
   ]
  },
  {
   "cell_type": "code",
   "execution_count": null,
   "id": "4d7c2389",
   "metadata": {},
   "outputs": [],
   "source": [
    "#4. What are function annotations, and how are they used?\n",
    "\n",
    "# Function annotations are special elements added to functions which makes the code more understandable. \n",
    "# For eg:- It can specify the type of input parameter and return type. \n",
    "# These annotations are just for readability and has no meaning during run time."
   ]
  },
  {
   "cell_type": "code",
   "execution_count": null,
   "id": "9779ef43",
   "metadata": {},
   "outputs": [],
   "source": [
    "#5. What are recursive functions, and how are they used?\n",
    "\n",
    "# A function that calls itself is called a recursive functions. \n",
    "# It is mainly used to repeat a particular task over and over again with different inputs.\n",
    "# For example: factorial(n) is factorial(n-1) * n. Here same function is used with a different input.\n",
    "\n",
    "\n",
    "def factorial(n):\n",
    "    if n == 1: \n",
    "        return 1\n",
    "    else:\n",
    "        return factorial(n-1) * n\n",
    "\n",
    "factorial(4)"
   ]
  },
  {
   "cell_type": "code",
   "execution_count": null,
   "id": "b8fdbcc7",
   "metadata": {},
   "outputs": [],
   "source": [
    "#6. What are some general design guidelines for coding functions?\n",
    "\n",
    "# Only lower case letters in function names.\n",
    "# _ can be used in between to seperate two words.\n",
    "# Write docstrings."
   ]
  },
  {
   "cell_type": "code",
   "execution_count": null,
   "id": "3a3b52ff",
   "metadata": {},
   "outputs": [],
   "source": [
    "#7. Name three or more ways that functions can communicate results to a caller.\n",
    "\n",
    "# Returning the results using keyword return.\n",
    "# Updating a global variable.\n",
    "# Writing to a file."
   ]
  }
 ],
 "metadata": {
  "kernelspec": {
   "display_name": "Python 3 (ipykernel)",
   "language": "python",
   "name": "python3"
  },
  "language_info": {
   "codemirror_mode": {
    "name": "ipython",
    "version": 3
   },
   "file_extension": ".py",
   "mimetype": "text/x-python",
   "name": "python",
   "nbconvert_exporter": "python",
   "pygments_lexer": "ipython3",
   "version": "3.9.13"
  }
 },
 "nbformat": 4,
 "nbformat_minor": 5
}
