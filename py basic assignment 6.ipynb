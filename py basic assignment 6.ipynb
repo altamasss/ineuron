{
 "cells": [
  {
   "cell_type": "code",
   "execution_count": null,
   "id": "ec77ce41",
   "metadata": {},
   "outputs": [],
   "source": [
    "#1. What are escape characters, and how do you use them?\n",
    "\n",
    "escape characters are special characters that are used to represent other characters or actions that are \n",
    "difficult or impossible to represent directly in a string. \n",
    "They are represented by a backslash (\\) followed by a specific character or sequence of characters.\n",
    "\n",
    "escape characters in Python:\n",
    "\n",
    "\\': single quote\n",
    "\\\": double quote\n",
    "\\\\: backslash\n",
    "\\n: newline\n",
    "\\t: tab\n",
    "    \n",
    "print('She said \\'Hello!\\'')\n",
    "print('This is the first line.\\n\\tThis is the second line.')\n"
   ]
  },
  {
   "cell_type": "code",
   "execution_count": null,
   "id": "1dcef172",
   "metadata": {},
   "outputs": [],
   "source": [
    "#2. What do the escape characters n and t stand for?\n",
    "\\n: newline\n",
    "\\t: tab "
   ]
  },
  {
   "cell_type": "code",
   "execution_count": null,
   "id": "dbae2e4a",
   "metadata": {},
   "outputs": [],
   "source": [
    "#3. What is the way to include backslash characters in a string?\n",
    "\n",
    "We can have a backslash in a string by adding it as // where first / serves as escape character \n",
    "and removes the special meaning associated with second /"
   ]
  },
  {
   "cell_type": "code",
   "execution_count": null,
   "id": "663399c6",
   "metadata": {},
   "outputs": [],
   "source": [
    "#4. The string \"Howl's Moving Castle\" is a correct value. \n",
    "#Why isn't the single quote character in the word Howl's not escaped a problem?"
   ]
  },
  {
   "cell_type": "markdown",
   "id": "3274fdc5",
   "metadata": {},
   "source": [
    "The single quote character ' doesn't cause a problem in this case since \n",
    "the entire string is specified using double quotes(\"). \n",
    "Hence single quote(') doesn't have a special meaning associated with it in this case."
   ]
  },
  {
   "cell_type": "code",
   "execution_count": null,
   "id": "e222716e",
   "metadata": {},
   "outputs": [],
   "source": [
    "#5. How do you write a string of newlines if you don't want to use the n character?\n"
   ]
  },
  {
   "cell_type": "code",
   "execution_count": null,
   "id": "836e1abb",
   "metadata": {},
   "outputs": [],
   "source": [
    "'''print() satement by default adds a newline to the end of the statement.\n",
    "If we wan't to insert multiple new lines we can go by having multiple print() statements.'''\n",
    "\n",
    "Eg:- \n",
    "    print()\n",
    "    print()\n",
    "    print()\n",
    "    will insert 3 newlines to the output."
   ]
  },
  {
   "cell_type": "code",
   "execution_count": null,
   "id": "f9c0773d",
   "metadata": {},
   "outputs": [],
   "source": [
    "#6. What are the values of the given expressions?\n",
    "\n",
    "'Hello, world!'[1]\n",
    "'Hello, world!'[0:5]\n",
    "'Hello, world!'[:5]\n",
    "'Hello, world!'[3:]"
   ]
  },
  {
   "cell_type": "code",
   "execution_count": null,
   "id": "981b08ae",
   "metadata": {},
   "outputs": [],
   "source": [
    "'Hello, world!'[1]     -> 'e'\n",
    "'Hello, world!'[0:5]   -> 'Hello'\n",
    "'Hello, world!'[:5]    -> 'Hello'\n",
    "'Hello, world!'[3:]    -> 'lo, world!'"
   ]
  },
  {
   "cell_type": "code",
   "execution_count": null,
   "id": "efd18f72",
   "metadata": {},
   "outputs": [],
   "source": [
    "#7. What are the values of the following expressions?\n",
    "\n",
    "'Hello'.upper()\n",
    "'Hello'.upper().isupper()\n",
    "'Hello'.upper().lower()"
   ]
  },
  {
   "cell_type": "code",
   "execution_count": null,
   "id": "bdf936c7",
   "metadata": {},
   "outputs": [],
   "source": [
    "'Hello'.upper()             -> 'HELLO'\n",
    "'Hello'.upper().isupper()   -> True\n",
    "'Hello'.upper().lower()     -> 'hello'"
   ]
  },
  {
   "cell_type": "code",
   "execution_count": null,
   "id": "4cc41c95",
   "metadata": {},
   "outputs": [],
   "source": [
    "#8. What are the values of the following expressions?\n",
    "\n",
    "'Remember, remember, the fifth of July.'.split()\n",
    "'-'.join('There can only one.'.split())"
   ]
  },
  {
   "cell_type": "code",
   "execution_count": null,
   "id": "c6ca5cb5",
   "metadata": {},
   "outputs": [],
   "source": [
    "'Remember, remember, the fifth of July.'.split() \n",
    "output - ['Remember,', 'remember,', 'the', 'fifth', 'of', 'July.']\n",
    "\n",
    "'-'.join('There can only one.'.split()) \n",
    "output - 'There-can-only-one.'"
   ]
  },
  {
   "cell_type": "code",
   "execution_count": null,
   "id": "5c1f85a9",
   "metadata": {},
   "outputs": [],
   "source": [
    "#9. What are the methods for right-justifying, left-justifying, and centering a string?\n",
    "\n",
    "center() #Example: \"Hello\".center(10, '-') returns \"--Hello---\"\n",
    "ljust()  #Example: \"Hello\".ljust(10, '-') returns \"Hello-----\"\n",
    "rjust()  #Example: \"Hello\".rjust(10, '-') returns \"-----Hello\""
   ]
  },
  {
   "cell_type": "code",
   "execution_count": null,
   "id": "1fc29aa9",
   "metadata": {},
   "outputs": [],
   "source": [
    "#10. What is the best way to remove whitespace characters from the start or end?\n",
    "\n",
    "strip() ->Return a copy of the string with leading and trailing whitespace removed.\n",
    "lstrip() ->Return a copy of the string with leading whitespace removed.\n",
    "rstrip() ->Return a copy of the string with trailing whitespace removed."
   ]
  }
 ],
 "metadata": {
  "kernelspec": {
   "display_name": "Python 3 (ipykernel)",
   "language": "python",
   "name": "python3"
  },
  "language_info": {
   "codemirror_mode": {
    "name": "ipython",
    "version": 3
   },
   "file_extension": ".py",
   "mimetype": "text/x-python",
   "name": "python",
   "nbconvert_exporter": "python",
   "pygments_lexer": "ipython3",
   "version": "3.9.13"
  }
 },
 "nbformat": 4,
 "nbformat_minor": 5
}
