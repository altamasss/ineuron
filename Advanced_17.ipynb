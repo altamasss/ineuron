{
 "cells": [
  {
   "cell_type": "code",
   "execution_count": null,
   "id": "7084966f",
   "metadata": {},
   "outputs": [],
   "source": [
    "'''\n",
    "Q1. Explain the difference between greedy and non-greedy syntax with visual terms in as few words as possible.\n",
    "What is the bare minimum effort required to transform a greedy pattern into a non-greedy one?\n",
    "What characters or characters can you introduce or change?\n",
    "'''\n",
    "\n",
    "# Ans: The Main difference between Greedy and Non Greedy Match Syntax is The Greedy Match\n",
    "#      will try to match as many repetitions of the quantified pattern as possible Whereas\n",
    "#      The Non Greedy Match will try to match as few repetitions of the quantified pattern as possible\n",
    "\n",
    "import re\n",
    "print(re.findall(\"v*\", \"vvvvvv\")) # Greedy Match Synatx\n",
    "print(re.findall(\"v*?\", \"vvvvvv\")) # Non Greddy Syntax"
   ]
  },
  {
   "cell_type": "code",
   "execution_count": null,
   "id": "9e02dd04",
   "metadata": {},
   "outputs": [],
   "source": [
    "'''\n",
    "Q2. When exactly does greedy versus non-greedy make a difference? \n",
    "What if you're looking for a non-greedy match but the only one available is greedy?\n",
    "'''\n",
    "\n",
    "Ans: The Greedy Match will try to match as many repetitions of the quantified pattern as possible. \n",
    "    The Non Greedy Match will try to match as few repetitions of the quantified pattern as possible. \n",
    "    If only Non Greedy Match is available, we can use other filtering or pattern matching methods of regex \n",
    "    and further identify the required pattern.\n",
    "\n"
   ]
  },
  {
   "cell_type": "code",
   "execution_count": null,
   "id": "774c5797",
   "metadata": {},
   "outputs": [],
   "source": [
    "'''\n",
    "Q3. In a simple match of a string, which looks only for one match and does not do any replacement,\n",
    "is the use of a nontagged group likely to make any practical difference?\n",
    "'''\n",
    "\n",
    "# Ans: In this Case The Non Tagged Group will not make any diffrence in this case.\n",
    "\n",
    "import re\n",
    "phoneNumRegex = re.compile(r'\\d\\d\\d')\n",
    "num = phoneNumRegex.search('My number is 234-567-8901.')\n",
    "print(f'Phone number found -> {num.group()}') # Non Tagged group\n",
    "print(f'Phone number found -> {num.group(0)}') # Tagged Group"
   ]
  },
  {
   "cell_type": "code",
   "execution_count": null,
   "id": "61236dec",
   "metadata": {},
   "outputs": [],
   "source": [
    "'''\n",
    "Q4. Describe a scenario in which using a nontagged category would have a significant impact on the program's outcomes ?\n",
    "'''\n",
    "\n",
    "#Ans: Here in the below Code Snippet . decimal is not tagged or captured.\n",
    " #   It will useful in scenarios where the separator of value in a string is of no use and we need to capture only the values.\n",
    "\n",
    "import re\n",
    "text='135.456'\n",
    "pattern=r'(\\d+)(?:.)(\\d+)'\n",
    "regobj=re.compile(pattern)\n",
    "matobj=regobj.search(text)\n",
    "matobj.groups()"
   ]
  },
  {
   "cell_type": "code",
   "execution_count": null,
   "id": "e9b9e8dc",
   "metadata": {},
   "outputs": [],
   "source": [
    "'''\n",
    "Q5. Unlike a normal regex pattern, a look-ahead condition does not consume the characters it examines.\n",
    "Describe a situation in which this could make a difference in the results of your programme ?\n",
    "'''\n",
    "\n",
    "Ans: While counting the number of multiple lines or mutiple sentence in a string the positive look ahead makes a difference,\n",
    "    without which we wont get the correct count of lines or sentences in a string.\n",
    "    "
   ]
  },
  {
   "cell_type": "code",
   "execution_count": null,
   "id": "0d27baf4",
   "metadata": {},
   "outputs": [],
   "source": [
    "'''\n",
    "Q6. In standard expressions, what is the difference between positive look-ahead and negative look-ahead ?\n",
    "'''\n",
    "\n",
    "Ans: Positive Lookahead allows to add a condition for what follows. \n",
    "    Negative Lookahead is similar, but it looks behind. That is,\n",
    "    it allows to match a pattern only if there’s something before it."
   ]
  },
  {
   "cell_type": "code",
   "execution_count": null,
   "id": "18121499",
   "metadata": {},
   "outputs": [],
   "source": [
    "'''\n",
    "Q7. What is the benefit of referring to groups by name rather than by number in a standard expression?\n",
    "'''\n",
    "\n",
    "Ans: Referring to groups by name rather than by number in a standard expression helps to keep\n",
    "    the code clear and easy to understand."
   ]
  },
  {
   "cell_type": "code",
   "execution_count": null,
   "id": "0cd522d6",
   "metadata": {},
   "outputs": [],
   "source": [
    "'''\n",
    "Q8. Can you identify repeated items within a target string using named groups, as in \"The cow jumped over the moon\"?\n",
    "'''\n",
    "\n",
    "import re\n",
    "text = \"The cow jumped over the moon\"\n",
    "regobj=re.compile(r'(?P<w1>The)',re.I)\n",
    "regobj.findall(text)"
   ]
  },
  {
   "cell_type": "code",
   "execution_count": null,
   "id": "65b8f2b1",
   "metadata": {},
   "outputs": [],
   "source": [
    "'''\n",
    "Q9. When parsing a string, what is at least one thing that the Scanner interface\n",
    "does for you that the re.findall feature does not ?\n",
    "'''\n",
    "\n",
    "Ans: re.findall() module is used to search for all occurrences that match a given pattern. \n",
    "    In contrast, re.search() will only return the first occurrence that \n",
    "    matches the specified pattern. re.findall() will iterate over all the lines of\n",
    "    the file and will return all non-overlapping matches of pattern in a single step."
   ]
  },
  {
   "cell_type": "code",
   "execution_count": null,
   "id": "3c59da72",
   "metadata": {},
   "outputs": [],
   "source": [
    "'''\n",
    "Q10. Does a scanner object have to be named scanner?\n",
    "'''\n",
    "Ans: Yes, It may have any name."
   ]
  }
 ],
 "metadata": {
  "kernelspec": {
   "display_name": "Python 3 (ipykernel)",
   "language": "python",
   "name": "python3"
  },
  "language_info": {
   "codemirror_mode": {
    "name": "ipython",
    "version": 3
   },
   "file_extension": ".py",
   "mimetype": "text/x-python",
   "name": "python",
   "nbconvert_exporter": "python",
   "pygments_lexer": "ipython3",
   "version": "3.9.13"
  }
 },
 "nbformat": 4,
 "nbformat_minor": 5
}
