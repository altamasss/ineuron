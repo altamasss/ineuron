{
 "cells": [
  {
   "cell_type": "code",
   "execution_count": 8,
   "id": "b4c72e56",
   "metadata": {},
   "outputs": [
    {
     "name": "stdout",
     "output_type": "stream",
     "text": [
      "Enter distance in km(s): 1\n",
      "1.0 km(s) = 0.6215040397762586 mile(s)\n"
     ]
    }
   ],
   "source": [
    "#1. Write a Python program to convert kilometers to miles?\n",
    "\n",
    "dkm = float(input(\"Enter distance in km(s): \"))\n",
    "dmiles = dkm / 1.609\n",
    "print(\"{} km(s) = {} mile(s)\".format(dkm, dmiles))"
   ]
  },
  {
   "cell_type": "code",
   "execution_count": 10,
   "id": "ffdf594c",
   "metadata": {},
   "outputs": [
    {
     "name": "stdout",
     "output_type": "stream",
     "text": [
      "Enter temperature in celsius: 32\n",
      "32.0 celsius = 89.6 farenheit\n"
     ]
    }
   ],
   "source": [
    "#2. Write a Python program to convert Celsius to Fahrenheit?\n",
    "\n",
    "tempc = float(input(\"Enter temperature in celsius: \"))\n",
    "tempf = (tempc * 9/5) + 32 \n",
    "print(\"{} celsius = {} farenheit\".format(tempc, tempf))"
   ]
  },
  {
   "cell_type": "code",
   "execution_count": null,
   "id": "10f2048c",
   "metadata": {},
   "outputs": [],
   "source": [
    "#3. Write a Python program to display calendar?\n",
    "\n",
    "import calendar\n",
    "year = int(input(\"Enter year: \"))\n",
    "print(calendar.calendar(year))"
   ]
  },
  {
   "cell_type": "code",
   "execution_count": null,
   "id": "8466e38f",
   "metadata": {},
   "outputs": [],
   "source": [
    "#4. Write a Python program to solve quadratic equation?\n",
    "\n",
    "import math\n",
    "print(\"Assume quadratic equation to be of form ax*x + bx + c = 0\")\n",
    "a = int(input(\"Enter a: \"))\n",
    "b = int(input(\"Enter b: \"))\n",
    "c = int(input(\"Enter c: \"))\n",
    "temp = math.sqrt(b*b - 4*a*c)\n",
    "sol1 = (-b+temp) / (2*a)\n",
    "sol2 = (-b-temp) / (2*a)\n",
    "print(\"Solutions : {}, {}\".format(sol1, sol2))"
   ]
  },
  {
   "cell_type": "code",
   "execution_count": null,
   "id": "7d2fcce9",
   "metadata": {},
   "outputs": [],
   "source": [
    "#5. Write a Python program to swap two variables without temp variable?\n",
    "\n",
    "var1 = input(\"Enter value1: \")\n",
    "var2 = input(\"Enter value2: \")\n",
    "var2, var1 = var1, var2\n",
    "print(\"Swapped values: {}, {}\".format(var1, var2))"
   ]
  }
 ],
 "metadata": {
  "kernelspec": {
   "display_name": "Python 3 (ipykernel)",
   "language": "python",
   "name": "python3"
  },
  "language_info": {
   "codemirror_mode": {
    "name": "ipython",
    "version": 3
   },
   "file_extension": ".py",
   "mimetype": "text/x-python",
   "name": "python",
   "nbconvert_exporter": "python",
   "pygments_lexer": "ipython3",
   "version": "3.9.13"
  }
 },
 "nbformat": 4,
 "nbformat_minor": 5
}
