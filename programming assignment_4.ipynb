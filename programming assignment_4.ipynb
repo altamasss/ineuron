{
 "cells": [
  {
   "cell_type": "code",
   "execution_count": null,
   "id": "4fd767a2",
   "metadata": {},
   "outputs": [],
   "source": [
    "#1. Write a Python Program to Find the Factorial of a Number\n",
    "\n",
    "num = int(input(\"Enter number: \"))\n",
    "factorial = 1\n",
    "if num==0:\n",
    "    print(\"Factorial = 1\")\n",
    "elif num>0:\n",
    "    for i in range(1, num+1):\n",
    "        factorial = factorial*i\n",
    "    print(\"Factorial = \", factorial)\n",
    "else:\n",
    "    print(\"Invalid\")"
   ]
  },
  {
   "cell_type": "code",
   "execution_count": null,
   "id": "bb6a02f8",
   "metadata": {},
   "outputs": [],
   "source": [
    "#2. Write a Python Program to Display the multiplication Table.\n",
    "\n",
    "num = int(input(\"Enter number: \"))\n",
    "for i in range(1, 11):\n",
    "    print(\"{} x {} = {}\".format(i, num, i*num))"
   ]
  },
  {
   "cell_type": "code",
   "execution_count": null,
   "id": "9e64af8d",
   "metadata": {},
   "outputs": [],
   "source": [
    "#3. Write a Python Program to Print the Fibonacci sequence\n",
    "\n",
    "n = int(input(\"Enter no. of terms in the series: \"))\n",
    "if n==1:\n",
    "    print(0)\n",
    "elif n==2:\n",
    "    print(\"0 1\")\n",
    "elif n>2:\n",
    "    term1 = 0\n",
    "    term2 = 1\n",
    "    s = 0\n",
    "    print(\"0 1\", end=\" \")\n",
    "    for i in range(2, n):\n",
    "        s = term1+ term2\n",
    "        term1 = term2\n",
    "        term2 = s\n",
    "        print(s, end=\" \")\n",
    "else:\n",
    "    print(\"Invalid\")"
   ]
  },
  {
   "cell_type": "code",
   "execution_count": null,
   "id": "57200187",
   "metadata": {},
   "outputs": [],
   "source": [
    "#4. Write a Python Program to Check Armstrong Number\n",
    "\n",
    "n = int(input(\"Enter number: \"))\n",
    "if n>=0:\n",
    "    num = n\n",
    "    s = 0\n",
    "    while num!=0:\n",
    "        digit = num % 10\n",
    "        num = num//10\n",
    "        s = s + digit**3\n",
    "    if s == n:\n",
    "        print(\"Armstrong Number\")\n",
    "    else:\n",
    "        print(\"Not an armstrong number\")\n",
    "else:\n",
    "    print(\"Invalid\")"
   ]
  },
  {
   "cell_type": "code",
   "execution_count": null,
   "id": "76f576f8",
   "metadata": {},
   "outputs": [],
   "source": [
    "#5. Write a Python Program to Find Armstrong Number in an Interval.\n",
    "\n",
    "def armstrong(n):\n",
    "    if n>=0:\n",
    "        num = n\n",
    "        s = 0\n",
    "        while num!=0:\n",
    "            digit = num % 10\n",
    "            num = num//10\n",
    "            s = s + digit**3\n",
    "        if s == n:\n",
    "            print(n, end=\" \")\n",
    "lb = int(input(\"Enter lower bound: \"))\n",
    "ub = int(input(\"Enter upper bound: \"))\n",
    "for i in range(lb, ub+1):\n",
    "    armstrong(i)\n",
    "    "
   ]
  },
  {
   "cell_type": "code",
   "execution_count": null,
   "id": "e8a3ac0d",
   "metadata": {},
   "outputs": [],
   "source": [
    "#6. Write a Python Program to Find the Sum of Natural Numbers\n",
    "\n",
    "n = int(input(\"Sum up till which number? \"))\n",
    "s = 0\n",
    "for i in range(1, n+1):\n",
    "    s = s+i\n",
    "print(s)"
   ]
  }
 ],
 "metadata": {
  "kernelspec": {
   "display_name": "Python 3 (ipykernel)",
   "language": "python",
   "name": "python3"
  },
  "language_info": {
   "codemirror_mode": {
    "name": "ipython",
    "version": 3
   },
   "file_extension": ".py",
   "mimetype": "text/x-python",
   "name": "python",
   "nbconvert_exporter": "python",
   "pygments_lexer": "ipython3",
   "version": "3.9.13"
  }
 },
 "nbformat": 4,
 "nbformat_minor": 5
}
