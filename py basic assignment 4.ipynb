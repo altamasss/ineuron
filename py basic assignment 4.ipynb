{
 "cells": [
  {
   "cell_type": "code",
   "execution_count": null,
   "id": "1b32bad4",
   "metadata": {},
   "outputs": [],
   "source": [
    "#1. What exactly is []?\n",
    "In Python, [] is used to denote an empty list."
   ]
  },
  {
   "cell_type": "code",
   "execution_count": null,
   "id": "0ca4fa7d",
   "metadata": {},
   "outputs": [],
   "source": [
    "#2 In a list of values stored in a variable called spam, how would you assign the value 'hello' as the third value? \n",
    "(Assume [2, 4, 6, 8, 10] are in spam.)"
   ]
  },
  {
   "cell_type": "code",
   "execution_count": null,
   "id": "355c4d14",
   "metadata": {},
   "outputs": [],
   "source": [
    "spam = [2, 4, 6, 8, 10]\n",
    "spam[2] = \"hello\""
   ]
  },
  {
   "cell_type": "markdown",
   "id": "ab834793",
   "metadata": {},
   "source": [
    "# Let's pretend the spam includes the list ['a', 'b', 'c', 'd'] for the next three queries."
   ]
  },
  {
   "cell_type": "code",
   "execution_count": null,
   "id": "4ca07c7c",
   "metadata": {},
   "outputs": [],
   "source": [
    "#3. What is the value of spam[int(int('3' * 2) / 11)]?"
   ]
  },
  {
   "cell_type": "code",
   "execution_count": null,
   "id": "7c315572",
   "metadata": {},
   "outputs": [],
   "source": [
    "spam[int(int('3' * 2) / 11)]\n",
    "= spam[int(int(33)/11)]\n",
    "= spam[int(3)]\n",
    "= spam[3]\n",
    "='d'"
   ]
  },
  {
   "cell_type": "code",
   "execution_count": null,
   "id": "79fe17bb",
   "metadata": {},
   "outputs": [],
   "source": [
    "#4. What is the value of spam[-1]?\n",
    "output - 'd'"
   ]
  },
  {
   "cell_type": "code",
   "execution_count": null,
   "id": "3bc82bc1",
   "metadata": {},
   "outputs": [],
   "source": [
    "#5. What is the value of spam[:2]?\n",
    "output - ['a', 'b']"
   ]
  },
  {
   "cell_type": "markdown",
   "id": "553dac95",
   "metadata": {},
   "source": [
    "# Let's pretend bacon has the list [3.14, 'cat,' 11, 'cat,' True] for the next three questions."
   ]
  },
  {
   "cell_type": "code",
   "execution_count": null,
   "id": "314c8e91",
   "metadata": {},
   "outputs": [],
   "source": [
    "#6. What is the value of bacon.index('cat')?\n",
    "output - 1"
   ]
  },
  {
   "cell_type": "code",
   "execution_count": null,
   "id": "ae254589",
   "metadata": {},
   "outputs": [],
   "source": [
    "#7. How does bacon.append(99) change the look of the list value in bacon?\n",
    "output - [3.14, 'cat', 11, 'cat', True, 99]"
   ]
  },
  {
   "cell_type": "code",
   "execution_count": null,
   "id": "4efba262",
   "metadata": {},
   "outputs": [],
   "source": [
    "#8. How does bacon.remove('cat') change the look of the list in bacon?\n",
    "output - [3.14, 11, 'cat', True, 99]"
   ]
  },
  {
   "cell_type": "code",
   "execution_count": null,
   "id": "f4ea85bb",
   "metadata": {},
   "outputs": [],
   "source": [
    "#9. What are the list concatenation and list replication operators?\n",
    "List concatenation operator is +. It appends two lists.\n",
    "List replication operator is *. It duplicates a list, the specified number of times."
   ]
  },
  {
   "cell_type": "code",
   "execution_count": null,
   "id": "22f63ccf",
   "metadata": {},
   "outputs": [],
   "source": [
    "#10. What is difference between the list methods append() and insert()?\n",
    "append() adds an item to the end of the list.\n",
    "insert() inserts an item at the index specified."
   ]
  },
  {
   "cell_type": "code",
   "execution_count": null,
   "id": "65b1c87f",
   "metadata": {},
   "outputs": [],
   "source": [
    "#11. What are the two methods for removing items from a list?\n",
    "\n",
    "pop() and remove()"
   ]
  },
  {
   "cell_type": "code",
   "execution_count": null,
   "id": "2c877682",
   "metadata": {},
   "outputs": [],
   "source": [
    "#12. Describe how list values and string values are identical.\n",
    "\n",
    "1. Items in a list and characters in a string can be accessed using an index.\n",
    "2. Slicing operations works the same way in both.\n",
    "3. Append(+) and replicate(*) operators have the same effect in both."
   ]
  },
  {
   "cell_type": "code",
   "execution_count": null,
   "id": "4ac84f5b",
   "metadata": {},
   "outputs": [],
   "source": [
    "#13. What's the difference between tuples and lists?\n",
    "\n",
    "1. Lists are mutable where as tuples are not mutable.\n",
    "2. Lists are represented using [] where as tuples using ().\n",
    "3. A sequence of items seperated by comma(,) is also considered a tuple. Eg:- 2,3,4 is also considered as a tuple.\n",
    "4. Mutable operations are not allowed on a tuple where as it is allowed in a list."
   ]
  },
  {
   "cell_type": "code",
   "execution_count": null,
   "id": "5feec2cb",
   "metadata": {},
   "outputs": [],
   "source": [
    "#14. How do you type a tuple value that only contains the integer 42?\n",
    "\n",
    "Ans - 42,"
   ]
  },
  {
   "cell_type": "code",
   "execution_count": null,
   "id": "38b0c377",
   "metadata": {},
   "outputs": [],
   "source": [
    "#15. How do you get a list value's tuple form? How do you get a tuple value's list form?\n",
    "\n",
    "list() coverts a sequence to a list and tuple() converts a sequence to a tuple."
   ]
  },
  {
   "cell_type": "code",
   "execution_count": null,
   "id": "87a8f154",
   "metadata": {},
   "outputs": [],
   "source": [
    "#16. Variables that \"contain\" list values are not necessarily lists themselves. Instead, what do they contain?"
   ]
  },
  {
   "cell_type": "markdown",
   "id": "e5cc2945",
   "metadata": {},
   "source": [
    "Variables that \"contain\" list values in Python are not actually lists themselves, but rather they contain a reference to a list object."
   ]
  },
  {
   "cell_type": "code",
   "execution_count": null,
   "id": "7238155e",
   "metadata": {},
   "outputs": [],
   "source": [
    "#17. How do you distinguish between copy.copy() and copy.deepcopy()?"
   ]
  },
  {
   "cell_type": "code",
   "execution_count": null,
   "id": "4e26eac8",
   "metadata": {},
   "outputs": [],
   "source": [
    "import copy\n",
    "\n",
    "original = [1, [2, 3], 4]\n",
    "shallow_copy = copy.copy(original)\n",
    "deep_copy = copy.deepcopy(original)\n",
    "\n",
    "original[1].append(5)\n",
    "\n",
    "print(\"Original:\", original)        # Output: [1, [2, 3, 5], 4]\n",
    "print(\"Shallow copy:\", shallow_copy)  # Output: [1, [2, 3, 5], 4]\n",
    "print(\"Deep copy:\", deep_copy)      # Output: [1, [2, 3], 4]"
   ]
  },
  {
   "cell_type": "markdown",
   "id": "0f5603ff",
   "metadata": {},
   "source": [
    "1. Difference between copy() and deepcopy() is visible only when the structure is a nested structure.\n",
    "2. copy() creates a new object and then inserts references of the items found in the original.So a change in the original will be reflected in the copied object also.\n",
    "3. A deepcopy() creates a new object and also creates new items recursively. The new references to the items are then inserted to the copied object. Hence any change in new object won't affect the original.\n"
   ]
  }
 ],
 "metadata": {
  "kernelspec": {
   "display_name": "Python 3 (ipykernel)",
   "language": "python",
   "name": "python3"
  },
  "language_info": {
   "codemirror_mode": {
    "name": "ipython",
    "version": 3
   },
   "file_extension": ".py",
   "mimetype": "text/x-python",
   "name": "python",
   "nbconvert_exporter": "python",
   "pygments_lexer": "ipython3",
   "version": "3.9.13"
  }
 },
 "nbformat": 4,
 "nbformat_minor": 5
}
