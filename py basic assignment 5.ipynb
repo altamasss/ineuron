{
 "cells": [
  {
   "cell_type": "code",
   "execution_count": null,
   "id": "2abe465a",
   "metadata": {},
   "outputs": [],
   "source": [
    "#1. What does an empty dictionary's code look like?\n",
    "dictionary={}"
   ]
  },
  {
   "cell_type": "code",
   "execution_count": null,
   "id": "6f78c19a",
   "metadata": {},
   "outputs": [],
   "source": [
    "#2. What is the value of a dictionary value with the key 'foo' and the value 42?\n",
    "dictionary = {'foo': 42}"
   ]
  },
  {
   "cell_type": "code",
   "execution_count": null,
   "id": "fd658b2c",
   "metadata": {},
   "outputs": [],
   "source": [
    "#3. What is the most significant distinction between a dictionary and a list?\n",
    "lists are indexed by a numeric index, \n",
    "dictionaries are indexed by keys that can be of any immutable data type, such as strings or numbers. \n",
    "This makes dictionaries a flexible and powerful data structure for mapping between values,\n",
    "while lists are better suited for storing ordered collections of data."
   ]
  },
  {
   "cell_type": "code",
   "execution_count": null,
   "id": "e7f00039",
   "metadata": {},
   "outputs": [],
   "source": [
    "#4. What happens if you try to access spam['foo'] if spam is {'bar': 100}?\n",
    "output - it will throw key error because 'foo' is not available"
   ]
  },
  {
   "cell_type": "code",
   "execution_count": null,
   "id": "8f4fb706",
   "metadata": {},
   "outputs": [],
   "source": [
    "#5. If a dictionary is stored in spam, what is the difference between the expressions 'cat' in spam and 'cat' in spam.keys()?\n",
    "output - both the expression will give the same result."
   ]
  },
  {
   "cell_type": "code",
   "execution_count": null,
   "id": "def9efd1",
   "metadata": {},
   "outputs": [],
   "source": [
    "#6. If a dictionary is stored in spam, what is the difference between the expressions 'cat' in spam and 'cat' in spam.values()?\n",
    "'cat' in spam tests whether the string 'cat' is a key in the dictionary spam.\n",
    "'cat' in spam.values() tests whether the string 'cat' is a value in the dictionary spam. "
   ]
  },
  {
   "cell_type": "code",
   "execution_count": null,
   "id": "d7f838f1",
   "metadata": {},
   "outputs": [],
   "source": [
    "#7. What is a shortcut for the following code?\n",
    "if 'color' not in spam:\n",
    "  spam['color'] = 'black'"
   ]
  },
  {
   "cell_type": "code",
   "execution_count": null,
   "id": "3651c60e",
   "metadata": {},
   "outputs": [],
   "source": [
    "spam.setdefault('color', 'black')"
   ]
  },
  {
   "cell_type": "code",
   "execution_count": null,
   "id": "3e267cf1",
   "metadata": {},
   "outputs": [],
   "source": [
    "#8. How do you pretty print dictionary values using which module and function?\n",
    "\n",
    "import pprint\n",
    "\n",
    "my_dict = {'key1': 1, 'key2': 2, 'key3': 3}\n",
    "\n",
    "pprint.pprint(my_dict)\n"
   ]
  }
 ],
 "metadata": {
  "kernelspec": {
   "display_name": "Python 3 (ipykernel)",
   "language": "python",
   "name": "python3"
  },
  "language_info": {
   "codemirror_mode": {
    "name": "ipython",
    "version": 3
   },
   "file_extension": ".py",
   "mimetype": "text/x-python",
   "name": "python",
   "nbconvert_exporter": "python",
   "pygments_lexer": "ipython3",
   "version": "3.9.13"
  }
 },
 "nbformat": 4,
 "nbformat_minor": 5
}
