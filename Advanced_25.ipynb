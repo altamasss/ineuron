{
 "cells": [
  {
   "cell_type": "code",
   "execution_count": null,
   "id": "22fba42a",
   "metadata": {},
   "outputs": [],
   "source": [
    "'''\n",
    "Q1. What is the distinction between a numpy array and a pandas data frame?\n",
    "Is there a way to convert between the two if there is ?\n",
    "'''\n",
    "Ans:\n",
    "Numpy Ndarray provides a lot of convenient and optimized methods for performing several mathematical operations on vectors.\n",
    "Pandas Dataframe is an in-memory 2-dimensional tabular representation of data. In simpler words,\n",
    "it can be seen as a spreadsheet having rows and columns."
   ]
  },
  {
   "cell_type": "code",
   "execution_count": null,
   "id": "2bbb6ee5",
   "metadata": {},
   "outputs": [],
   "source": [
    "'''\n",
    "Q2. What can go wrong when an user enters in a stock-ticker symbol, and how do you handle it?\n",
    "'''\n",
    "Entering an invalid or non-existent ticker symbol: Users may accidentally or intentionally enter\n",
    "an incorrect or non-existent ticker symbol, which could result in an error or no data being returned.\n",
    "Verify the entered ticker symbol: Check if the entered ticker symbol is valid and exists in the \n",
    "database or data source used to retrieve stock information. If it's not valid or doesn't exist,\n",
    "notify the user and prompt them to enter a valid symbol."
   ]
  },
  {
   "cell_type": "code",
   "execution_count": null,
   "id": "aa18f2d4",
   "metadata": {},
   "outputs": [],
   "source": [
    "'''\n",
    "Q3. Identify some of the plotting techniques that are used to produce a stock-market chart ?\n",
    "'''\n",
    "\n",
    "Ans: Bar chart, Line Chart are used for plotting."
   ]
  },
  {
   "cell_type": "code",
   "execution_count": null,
   "id": "192f5e65",
   "metadata": {},
   "outputs": [],
   "source": [
    "'''\n",
    "Q4. Why is it essential to print a legend on a stock market chart ?\n",
    "'''\n",
    "Ans: Legend will help comparison between different stocks, so will be essential on a stock market chart"
   ]
  },
  {
   "cell_type": "code",
   "execution_count": null,
   "id": "a8473e8d",
   "metadata": {},
   "outputs": [],
   "source": [
    "'''\n",
    "Q5. What is the best way to limit the length of a pandas data frame to less than a year ?\n",
    "'''\n",
    "\n",
    "Ans: : We can use start and end parameters for that. In start we write the date from where \n",
    "        we are starting and at the end we write the end date. SO within this span we can restric \n",
    "        the duration.Also we can use the parameters like periods for how much times we need the\n",
    "        duration and we can also use the frequency parameter."
   ]
  },
  {
   "cell_type": "code",
   "execution_count": null,
   "id": "a5d4f2a0",
   "metadata": {},
   "outputs": [],
   "source": [
    "'''\n",
    "Q6. What is the definition of a 180-day moving average ?\n",
    "'''\n",
    "Ans: : The 180-day moving average is represented as a line on charts and represents\n",
    "        the average price over the past 180 days. The moving average can give traders \n",
    "        a sense regarding whether the trend is up or down, while also identifying potential support or resistance areas."
   ]
  },
  {
   "cell_type": "code",
   "execution_count": null,
   "id": "37a568d4",
   "metadata": {},
   "outputs": [],
   "source": [
    "'''\n",
    "Q7. Did the chapter's final example use \"indirect\" importing? If so, how exactly do you do it?\n",
    "'''\n",
    "Use clear and concise naming conventions for packages and modules: Choose descriptive names for \n",
    "packages and modules that accurately reflect their purpose and content. \n",
    "\n",
    "Organize your packages and modules logically: Structure your code into packages and modules based \n",
    "on their functionality and relationships.\n",
    "\n",
    "Use relative imports sparingly: While relative imports can be useful in certain cases, \n",
    "its generally recommended to use absolute imports instead. \n",
    "\n",
    "Be mindful of circular imports: Circular imports occur when two or more modules depend on each other\n",
    "and import each others functions or classes. "
   ]
  }
 ],
 "metadata": {
  "kernelspec": {
   "display_name": "Python 3 (ipykernel)",
   "language": "python",
   "name": "python3"
  },
  "language_info": {
   "codemirror_mode": {
    "name": "ipython",
    "version": 3
   },
   "file_extension": ".py",
   "mimetype": "text/x-python",
   "name": "python",
   "nbconvert_exporter": "python",
   "pygments_lexer": "ipython3",
   "version": "3.9.13"
  }
 },
 "nbformat": 4,
 "nbformat_minor": 5
}
