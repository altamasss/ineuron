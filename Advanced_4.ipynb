{
 "cells": [
  {
   "cell_type": "code",
   "execution_count": null,
   "id": "4c843bd2",
   "metadata": {},
   "outputs": [],
   "source": [
    "# 1. Which two operator overloading methods can you use in your classes to support iteration?\n",
    "\n",
    "__iter__() and __next__()"
   ]
  },
  {
   "cell_type": "code",
   "execution_count": null,
   "id": "cf9f1686",
   "metadata": {},
   "outputs": [],
   "source": [
    "# 2. In what contexts do the two operator overloading methods manage printing?\n",
    "\n",
    "__str__() can be overloaded if we need to print class details while printing the class name. \n",
    "__next__() can be overloaded to print the next element from a sequence of elements."
   ]
  },
  {
   "cell_type": "code",
   "execution_count": null,
   "id": "e281acfd",
   "metadata": {},
   "outputs": [],
   "source": [
    "# 3. In a class, how do you intercept slice operations?\n",
    "\n",
    "__getitem__() method can be implement in a class, and the behavior of slicing can be defined inside it."
   ]
  },
  {
   "cell_type": "code",
   "execution_count": null,
   "id": "8eeb7133",
   "metadata": {},
   "outputs": [],
   "source": [
    "# 4. In a class, how do you capture in-place addition?\n",
    "\n",
    "operator.iadd() can be used to capture in-place addition."
   ]
  },
  {
   "cell_type": "code",
   "execution_count": null,
   "id": "094899b8",
   "metadata": {},
   "outputs": [],
   "source": [
    "# 5. When is it appropriate to use operator overloading?\n",
    "\n",
    "When the user-defined classes have to work with normal operators, \n",
    "operator overloading must be defined so that it will be compatible with these operators."
   ]
  }
 ],
 "metadata": {
  "kernelspec": {
   "display_name": "Python 3 (ipykernel)",
   "language": "python",
   "name": "python3"
  },
  "language_info": {
   "codemirror_mode": {
    "name": "ipython",
    "version": 3
   },
   "file_extension": ".py",
   "mimetype": "text/x-python",
   "name": "python",
   "nbconvert_exporter": "python",
   "pygments_lexer": "ipython3",
   "version": "3.9.13"
  }
 },
 "nbformat": 4,
 "nbformat_minor": 5
}
