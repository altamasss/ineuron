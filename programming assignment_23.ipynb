{
 "cells": [
  {
   "cell_type": "code",
   "execution_count": 1,
   "id": "c30eaeb2",
   "metadata": {},
   "outputs": [
    {
     "data": {
      "text/plain": [
       "True"
      ]
     },
     "execution_count": 1,
     "metadata": {},
     "output_type": "execute_result"
    }
   ],
   "source": [
    "'''\n",
    "1.\n",
    "Create a function that takes a number as an argument and returns True or False\n",
    "depending on whether the number is symmetrical or not. \n",
    "A number is symmetrical when it is the same as its reverse.\n",
    "'''\n",
    "\n",
    "def is_symmetrical(num):\n",
    "    \"\"\"\n",
    "    Checks if a number is symmetrical or not.\n",
    "    Input\n",
    "    num: an integer\n",
    "    \"\"\"\n",
    "    number = str(num)\n",
    "    reverse_number = number[::-1]\n",
    "    if number == reverse_number:\n",
    "        return True\n",
    "    else:\n",
    "        return False\n",
    "is_symmetrical(7227)"
   ]
  },
  {
   "cell_type": "code",
   "execution_count": 2,
   "id": "59ee8979",
   "metadata": {},
   "outputs": [
    {
     "data": {
      "text/plain": [
       "False"
      ]
     },
     "execution_count": 2,
     "metadata": {},
     "output_type": "execute_result"
    }
   ],
   "source": [
    "is_symmetrical(12567)"
   ]
  },
  {
   "cell_type": "code",
   "execution_count": 3,
   "id": "e807678d",
   "metadata": {},
   "outputs": [
    {
     "data": {
      "text/plain": [
       "False"
      ]
     },
     "execution_count": 3,
     "metadata": {},
     "output_type": "execute_result"
    }
   ],
   "source": [
    "is_symmetrical(9939)"
   ]
  },
  {
   "cell_type": "code",
   "execution_count": 4,
   "id": "7d714187",
   "metadata": {},
   "outputs": [
    {
     "name": "stdout",
     "output_type": "stream",
     "text": [
      "6\n"
     ]
    }
   ],
   "source": [
    "'''\n",
    "2.\n",
    "Given a string of numbers separated by a comma and space, return the product of the numbers.\n",
    "'''\n",
    "\n",
    "def multiply_nums(numStr):\n",
    "    \"\"\"\n",
    "    Returns the product of numbers entered.\n",
    "    Input\n",
    "    numStr: Numbers separated by a comma and space. Eg: \"2, 3\"\n",
    "    \"\"\"\n",
    "    num_tuple = numStr.split()\n",
    "    product = 1\n",
    "    for num in num_tuple:\n",
    "        n = num.strip(',')\n",
    "        product = product*int(n)\n",
    "    print(product)\n",
    "multiply_nums(\"2, 3\")"
   ]
  },
  {
   "cell_type": "code",
   "execution_count": 5,
   "id": "43e8db32",
   "metadata": {},
   "outputs": [
    {
     "name": "stdout",
     "output_type": "stream",
     "text": [
      "120\n"
     ]
    }
   ],
   "source": [
    "multiply_nums(\"1, 2, 3, 4, 5\")"
   ]
  },
  {
   "cell_type": "code",
   "execution_count": 6,
   "id": "2ba9b68d",
   "metadata": {},
   "outputs": [
    {
     "name": "stdout",
     "output_type": "stream",
     "text": [
      "-20\n"
     ]
    }
   ],
   "source": [
    "multiply_nums(\"10, -2\")"
   ]
  },
  {
   "cell_type": "code",
   "execution_count": 7,
   "id": "92b90f6c",
   "metadata": {},
   "outputs": [
    {
     "data": {
      "text/plain": [
       "811181"
      ]
     },
     "execution_count": 7,
     "metadata": {},
     "output_type": "execute_result"
    }
   ],
   "source": [
    "'''\n",
    "3.\n",
    "Create a function that squares every digit of a number.\n",
    "'''\n",
    "\n",
    "def square_digits(num):\n",
    "    \"\"\"Returns a number formed by squaring every digit of input\n",
    "       Input\n",
    "       num: An integer \"\"\"\n",
    "    sNum = str(num)\n",
    "    sSqNum = \"\"\n",
    "    for digit in sNum:\n",
    "        sSqNum = sSqNum + str(int(digit)**2)\n",
    "    return int(sSqNum)\n",
    "square_digits(9119)"
   ]
  },
  {
   "cell_type": "code",
   "execution_count": 8,
   "id": "e6ad9061",
   "metadata": {},
   "outputs": [
    {
     "data": {
      "text/plain": [
       "416649"
      ]
     },
     "execution_count": 8,
     "metadata": {},
     "output_type": "execute_result"
    }
   ],
   "source": [
    "square_digits(2483)"
   ]
  },
  {
   "cell_type": "code",
   "execution_count": 9,
   "id": "079a8150",
   "metadata": {},
   "outputs": [
    {
     "data": {
      "text/plain": [
       "9414"
      ]
     },
     "execution_count": 9,
     "metadata": {},
     "output_type": "execute_result"
    }
   ],
   "source": [
    "square_digits(3212)"
   ]
  },
  {
   "cell_type": "code",
   "execution_count": 10,
   "id": "12e51571",
   "metadata": {},
   "outputs": [
    {
     "data": {
      "text/plain": [
       "[1, 3, 5]"
      ]
     },
     "execution_count": 10,
     "metadata": {},
     "output_type": "execute_result"
    }
   ],
   "source": [
    "'''\n",
    "4.\n",
    "Create a function that sorts a list and removes all duplicate items from it.\n",
    "'''\n",
    "\n",
    "def setify(l):\n",
    "    s = set(l)\n",
    "    l = list(s).sort()    \n",
    "    return list(s)\n",
    "setify([1, 3, 3, 5, 5])"
   ]
  },
  {
   "cell_type": "code",
   "execution_count": 11,
   "id": "b6642017",
   "metadata": {},
   "outputs": [
    {
     "data": {
      "text/plain": [
       "[5, 7, 8, 9, 10, 15]"
      ]
     },
     "execution_count": 11,
     "metadata": {},
     "output_type": "execute_result"
    }
   ],
   "source": [
    "setify([5, 7, 8, 9, 10, 15])"
   ]
  },
  {
   "cell_type": "code",
   "execution_count": 12,
   "id": "82952986",
   "metadata": {},
   "outputs": [
    {
     "data": {
      "text/plain": [
       "[4]"
      ]
     },
     "execution_count": 12,
     "metadata": {},
     "output_type": "execute_result"
    }
   ],
   "source": [
    "setify([4, 4, 4, 4])"
   ]
  },
  {
   "cell_type": "code",
   "execution_count": 13,
   "id": "dded1c3c",
   "metadata": {},
   "outputs": [
    {
     "data": {
      "text/plain": [
       "[1, 2, 3]"
      ]
     },
     "execution_count": 13,
     "metadata": {},
     "output_type": "execute_result"
    }
   ],
   "source": [
    "setify([3, 3, 3, 2, 1])"
   ]
  },
  {
   "cell_type": "code",
   "execution_count": 14,
   "id": "189e4c7a",
   "metadata": {},
   "outputs": [
    {
     "data": {
      "text/plain": [
       "3"
      ]
     },
     "execution_count": 14,
     "metadata": {},
     "output_type": "execute_result"
    }
   ],
   "source": [
    "'''\n",
    "5.\n",
    "Create a function that returns the mean of all digits.\n",
    "'''\n",
    "\n",
    "def mean(num):\n",
    "    \"\"\"\n",
    "    Returns mean of digits in the number.\n",
    "    Input\n",
    "    num: An integer\n",
    "    \"\"\"\n",
    "    total = 0\n",
    "    snum = str(num)\n",
    "    for digit in snum:\n",
    "        total = total + int(digit)\n",
    "    avg = total / len(snum)\n",
    "    return int(avg)\n",
    "mean(42)"
   ]
  },
  {
   "cell_type": "code",
   "execution_count": 15,
   "id": "4a398fde",
   "metadata": {},
   "outputs": [
    {
     "data": {
      "text/plain": [
       "3"
      ]
     },
     "execution_count": 15,
     "metadata": {},
     "output_type": "execute_result"
    }
   ],
   "source": [
    "mean(12345)"
   ]
  },
  {
   "cell_type": "code",
   "execution_count": 16,
   "id": "67568801",
   "metadata": {},
   "outputs": [
    {
     "data": {
      "text/plain": [
       "6"
      ]
     },
     "execution_count": 16,
     "metadata": {},
     "output_type": "execute_result"
    }
   ],
   "source": [
    "mean(666)"
   ]
  }
 ],
 "metadata": {
  "kernelspec": {
   "display_name": "Python 3 (ipykernel)",
   "language": "python",
   "name": "python3"
  },
  "language_info": {
   "codemirror_mode": {
    "name": "ipython",
    "version": 3
   },
   "file_extension": ".py",
   "mimetype": "text/x-python",
   "name": "python",
   "nbconvert_exporter": "python",
   "pygments_lexer": "ipython3",
   "version": "3.9.13"
  }
 },
 "nbformat": 4,
 "nbformat_minor": 5
}
