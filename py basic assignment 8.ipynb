{
 "cells": [
  {
   "cell_type": "code",
   "execution_count": null,
   "id": "0225ab95",
   "metadata": {},
   "outputs": [],
   "source": [
    "#1. Is the Python Standard Library included with PyInputPlus?\n",
    "\n",
    "- NO"
   ]
  },
  {
   "cell_type": "code",
   "execution_count": null,
   "id": "1d180995",
   "metadata": {},
   "outputs": [],
   "source": [
    "#2. Why is PyInputPlus commonly imported with import pyinputplus as pypi?\n",
    "\n",
    "- PyInputPlus is commonly imported with import pyinputplus as pypi to create \n",
    "  a shorter and more convenient alias for the module name."
   ]
  },
  {
   "cell_type": "code",
   "execution_count": null,
   "id": "70fb0d52",
   "metadata": {},
   "outputs": [],
   "source": [
    "#3. How do you distinguish between inputInt() and inputFloat()?\n",
    "\n",
    "- The inputInt() function is used to take integer inputs and returns an int. \n",
    "  inputFloat()  Accepts a floating-point numeric value and returns a float."
   ]
  },
  {
   "cell_type": "code",
   "execution_count": null,
   "id": "9aaa5694",
   "metadata": {},
   "outputs": [],
   "source": [
    "#4. Using PyInputPlus, how do you ensure that the user enters a whole number between 0 and 99?\n",
    "\n",
    "pyip.inputInt(prompt = \"Enter an Integer... \", min = 0, lessThan = 99 )\n",
    "\n",
    "This ensures that the user can only enter a whole number between 0 and 99."
   ]
  },
  {
   "cell_type": "code",
   "execution_count": null,
   "id": "d5a200e8",
   "metadata": {},
   "outputs": [],
   "source": [
    "#5. What is transferred to the keyword arguments allowRegexes and blockRegexes?\n",
    "\n",
    "Keyword arguments take a list of regular expression strings to determine \n",
    "what the PyInputPlus function will accept or reject as valid input."
   ]
  },
  {
   "cell_type": "code",
   "execution_count": null,
   "id": "2a94667e",
   "metadata": {},
   "outputs": [],
   "source": [
    "#6. If a blank input is entered three times, what does inputStr(limit=3) do?\n",
    "\n",
    "The limit parameter is used to specify the maximum number of tries \n",
    "the user has for entering a valid input, after which the default value is returned, \n",
    "if specified, or a RetryLimitException is raised otherwise."
   ]
  },
  {
   "cell_type": "code",
   "execution_count": null,
   "id": "aef503b5",
   "metadata": {},
   "outputs": [],
   "source": [
    "#7. If blank input is entered three times, what does inputStr(limit=3, default='hello') do?\n",
    "\n",
    "it will return hello"
   ]
  }
 ],
 "metadata": {
  "kernelspec": {
   "display_name": "Python 3 (ipykernel)",
   "language": "python",
   "name": "python3"
  },
  "language_info": {
   "codemirror_mode": {
    "name": "ipython",
    "version": 3
   },
   "file_extension": ".py",
   "mimetype": "text/x-python",
   "name": "python",
   "nbconvert_exporter": "python",
   "pygments_lexer": "ipython3",
   "version": "3.9.13"
  }
 },
 "nbformat": 4,
 "nbformat_minor": 5
}
