{
 "cells": [
  {
   "cell_type": "code",
   "execution_count": null,
   "id": "09c7bd63",
   "metadata": {},
   "outputs": [],
   "source": [
    "#1. To what does a relative path refer?\n",
    "\n",
    "Relative path refers to the path of a particular file with respect to the current folder."
   ]
  },
  {
   "cell_type": "code",
   "execution_count": null,
   "id": "915bb038",
   "metadata": {},
   "outputs": [],
   "source": [
    "#2. What does an absolute path start with your operating system?\n",
    "\n",
    "An absolute path refers to the path of a file with respect to the root directory"
   ]
  },
  {
   "cell_type": "code",
   "execution_count": null,
   "id": "afc9d535",
   "metadata": {},
   "outputs": [],
   "source": [
    "#3. What do the functions os.getcwd() and os.chdir() do?\n",
    "\n",
    "The method getcwd() returns current working directory.\n",
    "The method chdir() changes the current working directory to the given path."
   ]
  },
  {
   "cell_type": "code",
   "execution_count": null,
   "id": "b1d5bb7c",
   "metadata": {},
   "outputs": [],
   "source": [
    "#4. What are the . and .. folders?\n",
    "\n",
    "In a file system, the . and .. folders are special directory entries \n",
    "that refer to the current directory and the parent directory, respectively."
   ]
  },
  {
   "cell_type": "code",
   "execution_count": null,
   "id": "4b258e47",
   "metadata": {},
   "outputs": [],
   "source": [
    "#5. In C:\\bacon\\eggs\\spam.txt, which part is the dir name, and which part is the base name?\n",
    "\n",
    "dir name: C:\\bacon\\eggs\n",
    "base name: spam.txt"
   ]
  },
  {
   "cell_type": "code",
   "execution_count": null,
   "id": "c5601db5",
   "metadata": {},
   "outputs": [],
   "source": [
    "#6. What are the three “mode” arguments that can be passed to the open() function?\n",
    "\n",
    "read(r)\n",
    "write(w)\n",
    "append(a)"
   ]
  },
  {
   "cell_type": "code",
   "execution_count": null,
   "id": "165f1bab",
   "metadata": {},
   "outputs": [],
   "source": [
    "#7. What happens if an existing file is opened in write mode?\n",
    "\n",
    "If an existing file is opened in write mode ('w'), the file's contents will be truncated, \n",
    "and the file will be treated as a new empty file. \n",
    "This means that any data that was previously stored in the file will be lost."
   ]
  },
  {
   "cell_type": "code",
   "execution_count": null,
   "id": "8baa59d0",
   "metadata": {},
   "outputs": [],
   "source": [
    "#8. How do you tell the difference between read() and readlines()?\n",
    "\n",
    "read() - reads the entire file content and returns as a single chunk.\n",
    "readlines() - returns a list of lines in the file."
   ]
  },
  {
   "cell_type": "code",
   "execution_count": null,
   "id": "7cd180ec",
   "metadata": {},
   "outputs": [],
   "source": [
    "#9. What data structure does a shelf value resemble?\n",
    "\n",
    "- dictionary"
   ]
  }
 ],
 "metadata": {
  "kernelspec": {
   "display_name": "Python 3 (ipykernel)",
   "language": "python",
   "name": "python3"
  },
  "language_info": {
   "codemirror_mode": {
    "name": "ipython",
    "version": 3
   },
   "file_extension": ".py",
   "mimetype": "text/x-python",
   "name": "python",
   "nbconvert_exporter": "python",
   "pygments_lexer": "ipython3",
   "version": "3.9.13"
  }
 },
 "nbformat": 4,
 "nbformat_minor": 5
}
