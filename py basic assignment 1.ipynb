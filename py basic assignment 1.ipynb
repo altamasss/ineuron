{
 "cells": [
  {
   "cell_type": "markdown",
   "id": "5feb4110",
   "metadata": {},
   "source": [
    "# 1. In the below elements which of them are values or an expression? eg:- values can be integer or string and expressions will be mathematical operators."
   ]
  },
  {
   "cell_type": "markdown",
   "id": "1e602437",
   "metadata": {},
   "source": [
    "'hello'  value\n",
    "-87.8 , 6  value\n",
    "/, *, +, -  expression"
   ]
  },
  {
   "cell_type": "markdown",
   "id": "7b39f643",
   "metadata": {},
   "source": [
    "# 2. What is the difference between string and variable?"
   ]
  },
  {
   "cell_type": "markdown",
   "id": "b7f3be3b",
   "metadata": {},
   "source": [
    "A variable is a place holder to hold some value. It is a name associated with a memory location and is used to access the contents of that particular location. eg:- x = 2, here x is a variable and 2 is the value associated with it.\n",
    "\n",
    "A string is a type of data. Anything enclosed within single quotes(''), double quotes(\"\" \"\"), triple quotes(\"\"\" \"\"\") is considered a string."
   ]
  },
  {
   "cell_type": "markdown",
   "id": "86e9c483",
   "metadata": {},
   "source": [
    "# 3. Describe three different data types."
   ]
  },
  {
   "cell_type": "markdown",
   "id": "4f2b4b7c",
   "metadata": {},
   "source": [
    "Int, or integer, is a whole number, positive or negative, without decimals, of unlimited length."
   ]
  },
  {
   "cell_type": "markdown",
   "id": "f61eaea6",
   "metadata": {},
   "source": [
    "Float is a function or reusable code in the Python programming language that converts values into floating point numbers. Floating point numbers are decimal values or fractional numbers like 133.5, 2897.11, and 3571.213."
   ]
  },
  {
   "cell_type": "markdown",
   "id": "f9274800",
   "metadata": {},
   "source": [
    "# 4. What is an expression made up of? What do all expressions do?"
   ]
  },
  {
   "cell_type": "markdown",
   "id": "6846366b",
   "metadata": {},
   "source": [
    "An expression is a combination of operators and operands that is interpreted to produce some other value. In any programming language, an expression is evaluated as per the precedence of its operators. So that if there is more than one operator in an expression, their precedence decides which operation will be performed first. We have many different types of expressions in Python."
   ]
  },
  {
   "cell_type": "code",
   "execution_count": null,
   "id": "582d1936",
   "metadata": {},
   "outputs": [],
   "source": [
    "# Constant Expressions\n",
    "x = 15 + 1.3\n",
    "\n",
    "print(x)\n",
    "\n",
    "\n",
    "\n",
    "# Arithmetic Expressions\n",
    "x = 40\n",
    "y = 12\n",
    "\n",
    "add = x + y\n",
    "sub = x - y\n",
    "pro = x * y\n",
    "div = x / y\n",
    "\n",
    "print(add)\n",
    "print(sub)\n",
    "print(pro)\n",
    "print(div)\n",
    " \n",
    "  \n",
    "# Relational Expressions\n",
    "a = 21\n",
    "b = 13\n",
    "c = 40\n",
    "d = 37\n",
    "\n",
    "p = (a + b) >= (c - d)\n",
    "print(p)\n",
    "\n",
    "\n"
   ]
  },
  {
   "cell_type": "markdown",
   "id": "23167088",
   "metadata": {},
   "source": [
    "# 5. This assignment statements, like spam = 10. What is the difference between an expression and a statement?"
   ]
  },
  {
   "cell_type": "markdown",
   "id": "98e9914a",
   "metadata": {},
   "source": [
    "An expression evaluates to a final value. An expression is a combination of numeric values(variables) and operators. eg:- 2+3/6\n",
    "\n",
    "A statement performs some operation. eg:- print(\"hello\")"
   ]
  },
  {
   "cell_type": "markdown",
   "id": "94a72d87",
   "metadata": {},
   "source": [
    "# 6. After running the following code, what does the variable bacon contain?\n",
    "bacon = 22\n",
    "bacon + 1"
   ]
  },
  {
   "cell_type": "code",
   "execution_count": null,
   "id": "a5375c98",
   "metadata": {},
   "outputs": [],
   "source": [
    "bacon will contain 22"
   ]
  },
  {
   "cell_type": "markdown",
   "id": "e500e114",
   "metadata": {},
   "source": [
    "# 7. What should the values of the following two terms be?\n",
    "'spam' + 'spamspam'\n",
    "'spam' * 3\n"
   ]
  },
  {
   "cell_type": "code",
   "execution_count": null,
   "id": "cde01453",
   "metadata": {},
   "outputs": [],
   "source": [
    "\n",
    "Both expressions evaluate to 'spamspamspam'"
   ]
  },
  {
   "cell_type": "markdown",
   "id": "2f777465",
   "metadata": {},
   "source": [
    "# 8. Why is eggs a valid variable name while 100 is invalid?"
   ]
  },
  {
   "cell_type": "markdown",
   "id": "913c06e3",
   "metadata": {},
   "source": [
    "A variable name can start with an alphabet or underscore('_') but not with a number. Hence eggs is a valid variable name while 100 is not."
   ]
  },
  {
   "cell_type": "markdown",
   "id": "c8c1aab3",
   "metadata": {},
   "source": [
    "# 9. What three functions can be used to get the integer, floating-point number, or string version of a value?"
   ]
  },
  {
   "cell_type": "code",
   "execution_count": null,
   "id": "68a7c7d1",
   "metadata": {},
   "outputs": [],
   "source": [
    "int()\n",
    "float() \n",
    "str()"
   ]
  },
  {
   "cell_type": "markdown",
   "id": "49d283ea",
   "metadata": {},
   "source": [
    "# 10. Why does this expression cause an error? How can you fix it?\n",
    "'I have eaten ' + 99 + ' burritos.'"
   ]
  },
  {
   "cell_type": "markdown",
   "id": "58255d69",
   "metadata": {},
   "source": [
    "This will create an issue because you cannot concatenate strings and integers. It can be fixed by giving\n",
    "'I have eaten ' + '99' + ' burritos.'"
   ]
  },
  {
   "cell_type": "code",
   "execution_count": null,
   "id": "b99da72d",
   "metadata": {},
   "outputs": [],
   "source": []
  }
 ],
 "metadata": {
  "kernelspec": {
   "display_name": "Python 3 (ipykernel)",
   "language": "python",
   "name": "python3"
  },
  "language_info": {
   "codemirror_mode": {
    "name": "ipython",
    "version": 3
   },
   "file_extension": ".py",
   "mimetype": "text/x-python",
   "name": "python",
   "nbconvert_exporter": "python",
   "pygments_lexer": "ipython3",
   "version": "3.9.13"
  }
 },
 "nbformat": 4,
 "nbformat_minor": 5
}
