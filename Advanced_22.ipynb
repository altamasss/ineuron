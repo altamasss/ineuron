{
 "cells": [
  {
   "cell_type": "code",
   "execution_count": null,
   "id": "2bdaf3e4",
   "metadata": {},
   "outputs": [],
   "source": [
    "'''\n",
    "Q1. What are the benefits of the built-in array package, if any?\n",
    "'''\n",
    "Ans: Arrays represent multiple data items of the same type using a single name. \n",
    "    In arrays, the elements can be accessed randomly by using the index number.\n",
    "    Arrays allocate memory in contiguous memory locations for all its elements.\n",
    "    Hence there is no chance of extra memory being allocated in case of arrays.\n",
    "    This avoids memory overflow or shortage of memory in arrays."
   ]
  },
  {
   "cell_type": "code",
   "execution_count": null,
   "id": "58b141c2",
   "metadata": {},
   "outputs": [],
   "source": [
    "'''\n",
    "Q2. What are some of the array package's limitations ?\n",
    "'''\n",
    "\n",
    "Ans: The number of elements to be stored in an array should be known in advance.\n",
    "    An array is a static structure (which means the array is of fixed size).\n",
    "    Once declared the size of the array cannot be modified. \n",
    "    The memory which is allocated to it cannot be increased or decreased.\n",
    "\n",
    "Insertion and deletion are quite difficult in an array as the elements are\n",
    "stored in consecutive memory locations and the shifting operation is costly.\n",
    "\n",
    "Allocating more memory than the requirement leads to wastage of memory space\n",
    "and less allocation of memory also leads to a problem"
   ]
  },
  {
   "cell_type": "code",
   "execution_count": null,
   "id": "f7739cbd",
   "metadata": {},
   "outputs": [],
   "source": [
    "'''\n",
    "Q3. Describe the main differences between the array and numpy packages ?\n",
    "'''\n",
    "\n",
    "Ans: The array package doesnt provide any help with numerical calculation with the\n",
    "    items insdie it in number form while NumPy give you a wide variety of numerical operations.\n",
    "\n",
    "An array is a single dimensional entity which hold the numerical data, while numpy can have more than 1 dimension.\n",
    "\n",
    "In case of array, item can be accessed by its index position and it is easy task while in \n",
    "numpy item is accessed by its column and row index, which makes it slightly time taking. Same goes with appending operation.\n",
    "\n",
    "In case of array we do not form a tabular structure, while in numpy it forms a tabular structure"
   ]
  },
  {
   "cell_type": "code",
   "execution_count": null,
   "id": "81d4fe3a",
   "metadata": {},
   "outputs": [],
   "source": [
    "'''\n",
    "Q4. Explain the distinctions between the empty, ones, and zeros functions ?\n",
    "'''\n",
    "\n",
    "Ans: The distinctions between the empty, ones, and zero functions are as follows :\n",
    "\n",
    "Empty function: An empty function is a function that does not contain any statement within its body.\n",
    "    If you try to write a function definition without any statement in python ,it will return an error.\n",
    "    To avoid this, we use pass statement. pass is a special statement in Python that does nothing.\n",
    "    It only works as a dummy statement.\n",
    "    Ones: This function returns a new array of given shape and data type, where the element’s value is 1.\n",
    "    Zeros: This function returns a new array of given shape and data type, where the element’s value is 0."
   ]
  },
  {
   "cell_type": "code",
   "execution_count": null,
   "id": "19b7c4db",
   "metadata": {},
   "outputs": [],
   "source": [
    "'''\n",
    "Q5. In the fromfunction function, which is used to construct new arrays, what is the role of the callable argument ?\n",
    "'''\n",
    "\n",
    "Ans: Its function is to execute the function over each coordinate and the resulting array.\n",
    "    The function is called with N parameters, where N is the rank of shape.\n",
    "    Each parameter represents the coordinates of the array varying along a specific axis."
   ]
  },
  {
   "cell_type": "code",
   "execution_count": null,
   "id": "c89657cf",
   "metadata": {},
   "outputs": [],
   "source": [
    "'''\n",
    "Q6. What happens when a numpy array is combined with a single-value operand (a scalar,\n",
    "such as an int or a floating-point value) through addition, as in the expression A + n ?\n",
    "'''\n",
    "Ans: If any scaler value such as integer is added to the numpy array then all the elements \n",
    "    inside the array will add that value in it."
   ]
  },
  {
   "cell_type": "code",
   "execution_count": null,
   "id": "584e7000",
   "metadata": {},
   "outputs": [],
   "source": [
    "'''\n",
    "Q7. Can array-to-scalar operations use combined operation-assign operators (such as += or *=)? What is the outcome ?\n",
    "'''\n",
    "\n",
    "Ans: It will carry out provided operation on all elements of array."
   ]
  },
  {
   "cell_type": "code",
   "execution_count": null,
   "id": "0e97710b",
   "metadata": {},
   "outputs": [],
   "source": [
    "'''\n",
    "Q8. Does a numpy array contain fixed-length strings? What happens if you allocate a longer string to one of these arrays ?\n",
    "'''\n",
    "\n",
    "Ans: : Yes, it is possible that we can include a string of fixed length in numpy array.\n",
    "        The dtype of any numpy array containing string values is the maximum length of any string\n",
    "        present in the array.Once set, it will only be able to store new string having length not more \n",
    "        than the maximum length at the time of the creation. If we try to reassign some another string \n",
    "        value having length greater than the maximum length of the existing elements, it simply discards \n",
    "        all the values beyond the maximum length accept upto those values which are under the limit."
   ]
  },
  {
   "cell_type": "code",
   "execution_count": null,
   "id": "293f3609",
   "metadata": {},
   "outputs": [],
   "source": [
    "'''\n",
    "Q9. What happens when you combine two numpy arrays using an operation like addition (+) or \n",
    "multiplication (*)? What are the conditions for combining two numpy arrays ?\n",
    "'''\n",
    "\n",
    "Ans: It will simply add or multiply element to element at same position."
   ]
  },
  {
   "cell_type": "code",
   "execution_count": null,
   "id": "21ad3e33",
   "metadata": {},
   "outputs": [],
   "source": [
    "'''\n",
    "Q10. What is the best way to use a Boolean array to mask another array ?\n",
    "\n",
    "'''\n",
    "Ans: The best way to use a Boolean array to mask another array is by Using masked_where of numpy package"
   ]
  },
  {
   "cell_type": "code",
   "execution_count": null,
   "id": "059eebb7",
   "metadata": {},
   "outputs": [],
   "source": [
    "'''\n",
    "Q11. What are three different ways to get the standard deviation of a wide\n",
    "collection of data using both standard Python and its packages?\n",
    "Sort the three of them by how quickly they execute ?\n",
    "'''\n",
    "\n",
    "Ans: np.std and math package can be used individually.\n",
    "\n"
   ]
  },
  {
   "cell_type": "code",
   "execution_count": null,
   "id": "dd068131",
   "metadata": {},
   "outputs": [],
   "source": [
    "'''\n",
    "12. What is the dimensionality of a Boolean mask-generated array ?\n",
    "'''\n",
    "Ans: It will have same dimensionality as input array."
   ]
  }
 ],
 "metadata": {
  "kernelspec": {
   "display_name": "Python 3 (ipykernel)",
   "language": "python",
   "name": "python3"
  },
  "language_info": {
   "codemirror_mode": {
    "name": "ipython",
    "version": 3
   },
   "file_extension": ".py",
   "mimetype": "text/x-python",
   "name": "python",
   "nbconvert_exporter": "python",
   "pygments_lexer": "ipython3",
   "version": "3.9.13"
  }
 },
 "nbformat": 4,
 "nbformat_minor": 5
}
