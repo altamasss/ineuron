{
 "cells": [
  {
   "cell_type": "code",
   "execution_count": null,
   "id": "7e3b7267",
   "metadata": {},
   "outputs": [],
   "source": [
    "# Q1. What is the purpose of Python's OOP?\n",
    "\n",
    "OOPs aims to structure programs in the form of real-world entities.\n",
    "It implements features like inheritance, polymorphisms, encapsulation, etc. in the programming. \n",
    "It makes the code more readable, reusable and structured."
   ]
  },
  {
   "cell_type": "code",
   "execution_count": null,
   "id": "6e42bf78",
   "metadata": {},
   "outputs": [],
   "source": [
    "# Q2. Where does an inheritance search look for an attribute?\n",
    "\n",
    "Inheritance search look for an attribute in a namespace tree from bottom to top, left to right."
   ]
  },
  {
   "cell_type": "code",
   "execution_count": null,
   "id": "d6f3ea94",
   "metadata": {},
   "outputs": [],
   "source": [
    "# Q3. How do you distinguish between a class object and an instance object?\n",
    "\n",
    "A class describes a data type; a blue print of a real world entity.\n",
    "An instance of a class is an object of the data type that exists in memory."
   ]
  },
  {
   "cell_type": "code",
   "execution_count": null,
   "id": "b3a10c4f",
   "metadata": {},
   "outputs": [],
   "source": [
    "# Q4. What makes the first argument in a class’s method function special?\n",
    "\n",
    "The first argument in a class method is a pointer to the instance. \n",
    "It is widely used as self but it can be any variable name."
   ]
  },
  {
   "cell_type": "code",
   "execution_count": null,
   "id": "845ca8d8",
   "metadata": {},
   "outputs": [],
   "source": [
    "# Q5. What is the purpose of the __init__ method?\n",
    "\n",
    "It is called when an object is created. \n",
    "It acts as a constructor and is mainly used to initialize the class variables."
   ]
  },
  {
   "cell_type": "code",
   "execution_count": null,
   "id": "0c9d1344",
   "metadata": {},
   "outputs": [],
   "source": [
    "# Q6. What is the process for creating a class instance?\n",
    "\n",
    "A class instance can be created using the syntax\n",
    "<instance_name> = <class_name>(<arguments>)"
   ]
  },
  {
   "cell_type": "code",
   "execution_count": null,
   "id": "b8901993",
   "metadata": {},
   "outputs": [],
   "source": [
    "# Q7. What is the process for creating a class?\n",
    "\n",
    "'A class can be created using the syntax'\n",
    "\n",
    "A class can be created using the syntax\n",
    "<pre>\n",
    "class < class_name >:\n",
    "    < method1 >\n",
    "    \n",
    "    < method2 >"
   ]
  },
  {
   "cell_type": "code",
   "execution_count": null,
   "id": "73b68c6a",
   "metadata": {},
   "outputs": [],
   "source": [
    "# Q8. How would you define the superclasses of a class?\n",
    "\n",
    "'A super class of a class can be defined by passing it as an argument while defining the class.'\n",
    "\n",
    "\n",
    "class A(SuperS):\n",
    "\n",
    "Here SuperS is the super class of A."
   ]
  }
 ],
 "metadata": {
  "kernelspec": {
   "display_name": "Python 3 (ipykernel)",
   "language": "python",
   "name": "python3"
  },
  "language_info": {
   "codemirror_mode": {
    "name": "ipython",
    "version": 3
   },
   "file_extension": ".py",
   "mimetype": "text/x-python",
   "name": "python",
   "nbconvert_exporter": "python",
   "pygments_lexer": "ipython3",
   "version": "3.9.13"
  }
 },
 "nbformat": 4,
 "nbformat_minor": 5
}
