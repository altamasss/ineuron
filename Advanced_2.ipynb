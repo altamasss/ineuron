{
 "cells": [
  {
   "cell_type": "code",
   "execution_count": null,
   "id": "75954420",
   "metadata": {},
   "outputs": [],
   "source": [
    "# 1. What is the relationship between classes and modules?\n",
    "\n",
    "Modules are collections of methods and constants. \n",
    "They cannot generate instances. \n",
    "A class is used to define a blueprint for a given object and can generate instances (objects),\n",
    "and have per-instance state (instance variables)."
   ]
  },
  {
   "cell_type": "code",
   "execution_count": null,
   "id": "a66015b3",
   "metadata": {},
   "outputs": [],
   "source": [
    "# 2. How do you make instances and classes?\n",
    "\n",
    "'A class is defined by the syntax,'\n",
    "def < class_name >:\n",
    "    < method1 >\n",
    "    < method2 >\n",
    "    < method3 >\n",
    "    etc\n",
    "    \n",
    "'An instance is created by,'\n",
    "< instance_name > = < class_name >(< arguments >)"
   ]
  },
  {
   "cell_type": "code",
   "execution_count": null,
   "id": "5b6f3ffa",
   "metadata": {},
   "outputs": [],
   "source": [
    "# 3. Where and how should be class attributes created?\n",
    "\n",
    "Class attributes are attributes which are owned by the class itself.\n",
    "They will be shared by all the instances of the class. \n",
    "Therefore they have the same value for every instance. \n",
    "We define class attributes outside all the methods, \n",
    "usually they are placed at the top, right below the class header."
   ]
  },
  {
   "cell_type": "code",
   "execution_count": null,
   "id": "14f76734",
   "metadata": {},
   "outputs": [],
   "source": [
    "# 4. Where and how are instance attributes created?\n",
    "\n",
    "Instance attributes are defined directly inside a class using the self parameter."
   ]
  },
  {
   "cell_type": "code",
   "execution_count": null,
   "id": "c9f288f4",
   "metadata": {},
   "outputs": [],
   "source": [
    "# 5. What does the term \"self\" in a Python class mean?\n",
    "\n",
    "The self parameter is a reference to the current instance of the class,\n",
    "and is used to access instance variables of the class."
   ]
  },
  {
   "cell_type": "code",
   "execution_count": null,
   "id": "cc89b25d",
   "metadata": {},
   "outputs": [],
   "source": [
    "# 6. How does a Python class handle operator overloading?\n",
    "\n",
    "To perform operator overloading, \n",
    "Python provides some special function or magic function that is automatically\n",
    "invoked when it is associated with that particular operator.\n",
    "For example, \n",
    "when we use + operator, the magic method __add__ is automatically invoked in which the operation for + operator is defined."
   ]
  },
  {
   "cell_type": "code",
   "execution_count": null,
   "id": "2bb05111",
   "metadata": {},
   "outputs": [],
   "source": [
    "# 7. When do you consider allowing operator overloading of your classes?\n",
    "\n",
    "When we need our user defined classes to behave in a very flexible manner \n",
    "as in built-in classes we can do operator overloading."
   ]
  },
  {
   "cell_type": "code",
   "execution_count": null,
   "id": "07545af9",
   "metadata": {},
   "outputs": [],
   "source": [
    "# 8. What is the most popular form of operator overloading?\n",
    "\n",
    "Operator overloading of +."
   ]
  },
  {
   "cell_type": "code",
   "execution_count": null,
   "id": "6c7daf3e",
   "metadata": {},
   "outputs": [],
   "source": [
    "# 9. What are the two most important concepts to grasp in order to comprehend Python OOP code?\n",
    "\n",
    "The concept of classes and objects."
   ]
  }
 ],
 "metadata": {
  "kernelspec": {
   "display_name": "Python 3 (ipykernel)",
   "language": "python",
   "name": "python3"
  },
  "language_info": {
   "codemirror_mode": {
    "name": "ipython",
    "version": 3
   },
   "file_extension": ".py",
   "mimetype": "text/x-python",
   "name": "python",
   "nbconvert_exporter": "python",
   "pygments_lexer": "ipython3",
   "version": "3.9.13"
  }
 },
 "nbformat": 4,
 "nbformat_minor": 5
}
