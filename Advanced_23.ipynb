{
 "cells": [
  {
   "cell_type": "code",
   "execution_count": null,
   "id": "f5da7842",
   "metadata": {},
   "outputs": [],
   "source": [
    "'''\n",
    "Q1. If you have any, what are your choices for increasing the comparison between different figures on the same graph?\n",
    "'''\n",
    "\n",
    "Ans: Matplotlib provides a convenient method called subplots for increasing the comparison between\n",
    "    different figures on the same graph. Subplots mean a group of smaller axes (where each axis is a plot)\n",
    "    that can exist together within a single figure."
   ]
  },
  {
   "cell_type": "code",
   "execution_count": null,
   "id": "0ba72ad1",
   "metadata": {},
   "outputs": [],
   "source": [
    "'''\n",
    "Q2. Can you explain the benefit of compound interest over a higher rate of interest\n",
    "that does not compound after reading this chapter?\n",
    "'''\n",
    "Ans: Compound interest makes a sum of money grow at a faster rate than simple interest,because in addition to\n",
    "    earning returns on the money you invest, you also earn returns on those returns at the end of every\n",
    "    compounding period, which could be daily, monthly, quarterly or annually.\n",
    "    "
   ]
  },
  {
   "cell_type": "code",
   "execution_count": null,
   "id": "0e065db4",
   "metadata": {},
   "outputs": [],
   "source": [
    "'''\n",
    "Q3. What is a histogram, exactly? Name a numpy method for creating such a graph ?\n",
    "'''\n",
    "\n",
    "Ans: Histogram shows total values of X wrt Y. Which means at any particular position of X, Y value shows \n",
    "    the total number of counts or data below that value of X. numpy.histogram() is the built in function used."
   ]
  },
  {
   "cell_type": "code",
   "execution_count": null,
   "id": "4e32eb91",
   "metadata": {},
   "outputs": [],
   "source": [
    "'''\n",
    "Q4. If necessary, how do you change the aspect ratios between the X and Y axes ?\n",
    "'''\n",
    "\n",
    "Ans: We can use figure(figsize=(10,8)) function inside the matplot.pyplot library which we scale down or up the graph."
   ]
  },
  {
   "cell_type": "code",
   "execution_count": null,
   "id": "32451028",
   "metadata": {},
   "outputs": [],
   "source": [
    "'''\n",
    "Q5. Compare and contrast the three types of array multiplication between two numpy arrays:\n",
    "dot product, outer product, and regular multiplication of two numpy arrays ?\n",
    "'''\n",
    "Ans: : In regular multiplication values of same index get multiplied.\n",
    "\n",
    "In dot product there is row wise multiplication, row of one array with column of second array and so on.\n",
    "In outer multiplication every element of first array a1 will be multiply by every element of \n",
    "other array a2 such such the number of columns will be equal to the number of element in another array a2."
   ]
  },
  {
   "cell_type": "code",
   "execution_count": null,
   "id": "1bbb2889",
   "metadata": {},
   "outputs": [],
   "source": [
    "'''\n",
    "Q6. Before you buy a home, which numpy function will you use to measure your monthly mortgage payment ?\n",
    "'''\n",
    "\n",
    "Ans: np.pmt(rate, nper, pv) function we will be using in order to calculate \n",
    "    monthly mortgage payment before you purchase a house.\n",
    "\n",
    "rate = The periodic interest rate\n",
    "nper = The number of payment periods\n",
    "pv = The total value of the mortgage loan"
   ]
  },
  {
   "cell_type": "code",
   "execution_count": null,
   "id": "01e4e56d",
   "metadata": {},
   "outputs": [],
   "source": [
    "'''\n",
    "Q7. Can string data be stored in numpy arrays? If so, list at least one restriction that applies to this data ?\n",
    "'''\n",
    "\n",
    "Ans: Yes, an array can store the string. The limitation which imposed on the string data is, \n",
    "    whenever we store the data of string dtype then it should should keep in mind that the\n",
    "    string which is having the maximum length is the limit."
   ]
  }
 ],
 "metadata": {
  "kernelspec": {
   "display_name": "Python 3 (ipykernel)",
   "language": "python",
   "name": "python3"
  },
  "language_info": {
   "codemirror_mode": {
    "name": "ipython",
    "version": 3
   },
   "file_extension": ".py",
   "mimetype": "text/x-python",
   "name": "python",
   "nbconvert_exporter": "python",
   "pygments_lexer": "ipython3",
   "version": "3.9.13"
  }
 },
 "nbformat": 4,
 "nbformat_minor": 5
}
