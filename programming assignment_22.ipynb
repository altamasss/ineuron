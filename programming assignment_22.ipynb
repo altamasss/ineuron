{
 "cells": [
  {
   "cell_type": "code",
   "execution_count": 1,
   "id": "551d2ea4",
   "metadata": {},
   "outputs": [
    {
     "data": {
      "text/plain": [
       "[3, 6, 9]"
      ]
     },
     "execution_count": 1,
     "metadata": {},
     "output_type": "execute_result"
    }
   ],
   "source": [
    "'''\n",
    "1. \n",
    "Create a function that takes three parameters where:\n",
    "x is the start of the range (inclusive).\n",
    "y is the end of the range (inclusive).\n",
    "n is the divisor to be checked against.\n",
    "Return an ordered list with numbers in the range that are divisible by the third parameter n.\n",
    "Return an empty list if there are no numbers that are divisible by n.\n",
    "'''\n",
    "def list_operation(x, y, n):\n",
    "    \"\"\"\n",
    "    Returns a list of numbers in the range divisible by the third parameter.\n",
    "    Input\n",
    "    x: start of the range\n",
    "    y: end of the range\n",
    "    n: divisor to be checked against\n",
    "    \"\"\"\n",
    "    l = []\n",
    "    for num in range(x, y+1):\n",
    "        if num%n == 0:\n",
    "            l.append(num)\n",
    "    return l\n",
    " \n",
    "list_operation(1, 10, 3)   "
   ]
  },
  {
   "cell_type": "code",
   "execution_count": 2,
   "id": "efca2a7d",
   "metadata": {},
   "outputs": [
    {
     "data": {
      "text/plain": [
       "[8]"
      ]
     },
     "execution_count": 2,
     "metadata": {},
     "output_type": "execute_result"
    }
   ],
   "source": [
    "list_operation(7, 9, 2)"
   ]
  },
  {
   "cell_type": "code",
   "execution_count": 3,
   "id": "4bfe996f",
   "metadata": {},
   "outputs": [
    {
     "data": {
      "text/plain": [
       "[]"
      ]
     },
     "execution_count": 3,
     "metadata": {},
     "output_type": "execute_result"
    }
   ],
   "source": [
    "list_operation(15, 20, 7)"
   ]
  },
  {
   "cell_type": "code",
   "execution_count": 4,
   "id": "f1e098cf",
   "metadata": {},
   "outputs": [
    {
     "data": {
      "text/plain": [
       "True"
      ]
     },
     "execution_count": 4,
     "metadata": {},
     "output_type": "execute_result"
    }
   ],
   "source": [
    "'''\n",
    "2.\n",
    "Create a function that takes in two lists and returns True if \n",
    "the second list follows the first list by one element, and False otherwise. In other words, \n",
    "determine if the second list is the first list shifted to the right by 1.\n",
    "'''\n",
    "def simon_says(l1, l2):\n",
    "    \"\"\"\n",
    "    Determine if the second list is the first list shifted to the right by 1.\n",
    "    Input\n",
    "    l1: First list\n",
    "    l2: Second list\n",
    "    \"\"\"\n",
    "    # remove last elemnt of first list\n",
    "    l1_modified = l1[:-1]\n",
    "    # remove first elemnt of second list\n",
    "    l2_modified = l2[1:]\n",
    "    if l1_modified == l2_modified:\n",
    "        return True\n",
    "    else:\n",
    "        return False\n",
    "simon_says([1, 2], [5, 1])"
   ]
  },
  {
   "cell_type": "code",
   "execution_count": 5,
   "id": "75fe45ca",
   "metadata": {},
   "outputs": [
    {
     "data": {
      "text/plain": [
       "False"
      ]
     },
     "execution_count": 5,
     "metadata": {},
     "output_type": "execute_result"
    }
   ],
   "source": [
    "simon_says([1, 2], [5, 5])"
   ]
  },
  {
   "cell_type": "code",
   "execution_count": 6,
   "id": "eee9e684",
   "metadata": {},
   "outputs": [
    {
     "data": {
      "text/plain": [
       "True"
      ]
     },
     "execution_count": 6,
     "metadata": {},
     "output_type": "execute_result"
    }
   ],
   "source": [
    "simon_says([1, 2, 3, 4, 5], [0, 1, 2, 3, 4])"
   ]
  },
  {
   "cell_type": "code",
   "execution_count": 7,
   "id": "b56583b0",
   "metadata": {},
   "outputs": [
    {
     "data": {
      "text/plain": [
       "False"
      ]
     },
     "execution_count": 7,
     "metadata": {},
     "output_type": "execute_result"
    }
   ],
   "source": [
    "simon_says([1, 2, 3, 4, 5], [5, 5, 1, 2, 3])"
   ]
  },
  {
   "cell_type": "code",
   "execution_count": 8,
   "id": "0330d868",
   "metadata": {},
   "outputs": [
    {
     "data": {
      "text/plain": [
       "'AMS'"
      ]
     },
     "execution_count": 8,
     "metadata": {},
     "output_type": "execute_result"
    }
   ],
   "source": [
    "'''\n",
    "3.\n",
    "A group of friends have decided to start a secret society. \n",
    "The name will be the first letter of each of their names, sorted in alphabetical order.\n",
    "Create a function that takes in a list of names and returns the name of the secret society.\n",
    "'''\n",
    "def society_name(l):\n",
    "    \"\"\"\n",
    "    Returns name of secret society. The name will be the first letter of each of the friends' names, sorted in alphabetical order.\n",
    "    Input\n",
    "    l : List of friends name    \n",
    "    \"\"\"\n",
    "    name = \"\"\n",
    "    l.sort()\n",
    "    for n in l:\n",
    "        name += n[0]\n",
    "    return name\n",
    "society_name([\"Adam\", \"Sarah\", \"Malcolm\"])"
   ]
  },
  {
   "cell_type": "code",
   "execution_count": 9,
   "id": "c68ebb6c",
   "metadata": {},
   "outputs": [
    {
     "data": {
      "text/plain": [
       "'CHLN'"
      ]
     },
     "execution_count": 9,
     "metadata": {},
     "output_type": "execute_result"
    }
   ],
   "source": [
    "society_name([\"Harry\", \"Newt\", \"Luna\", \"Cho\"])"
   ]
  },
  {
   "cell_type": "code",
   "execution_count": 10,
   "id": "3f15e414",
   "metadata": {},
   "outputs": [
    {
     "data": {
      "text/plain": [
       "'CJMPRR'"
      ]
     },
     "execution_count": 10,
     "metadata": {},
     "output_type": "execute_result"
    }
   ],
   "source": [
    "society_name([\"Phoebe\", \"Chandler\", \"Rachel\", \"Ross\", \"Monica\", \"Joey\"])"
   ]
  },
  {
   "cell_type": "code",
   "execution_count": 11,
   "id": "20d5b42f",
   "metadata": {},
   "outputs": [
    {
     "data": {
      "text/plain": [
       "True"
      ]
     },
     "execution_count": 11,
     "metadata": {},
     "output_type": "execute_result"
    }
   ],
   "source": [
    "'''\n",
    "4.\n",
    "An isogram is a word that has no duplicate letters. \n",
    "Create a function that takes a string and returns either True or False depending on whether or not it's an \"isogram\".\n",
    "'''\n",
    "def is_isogram(s):\n",
    "    \"\"\"\n",
    "    checks if a strings is an isogram.\n",
    "    Input\n",
    "    s: a string\n",
    "    \"\"\"\n",
    "    s = s.lower()\n",
    "    no_duplicate = set(s)\n",
    "    if len(s) == len(no_duplicate):\n",
    "        return True\n",
    "    else:\n",
    "        return False\n",
    "is_isogram(\"Algorism\")"
   ]
  },
  {
   "cell_type": "code",
   "execution_count": 12,
   "id": "70abd07c",
   "metadata": {},
   "outputs": [
    {
     "data": {
      "text/plain": [
       "False"
      ]
     },
     "execution_count": 12,
     "metadata": {},
     "output_type": "execute_result"
    }
   ],
   "source": [
    "is_isogram(\"PasSword\")"
   ]
  },
  {
   "cell_type": "code",
   "execution_count": 13,
   "id": "525f05f1",
   "metadata": {},
   "outputs": [
    {
     "data": {
      "text/plain": [
       "False"
      ]
     },
     "execution_count": 13,
     "metadata": {},
     "output_type": "execute_result"
    }
   ],
   "source": [
    "is_isogram(\"Consecutive\")"
   ]
  },
  {
   "cell_type": "code",
   "execution_count": 14,
   "id": "0d41ca9d",
   "metadata": {},
   "outputs": [
    {
     "data": {
      "text/plain": [
       "True"
      ]
     },
     "execution_count": 14,
     "metadata": {},
     "output_type": "execute_result"
    }
   ],
   "source": [
    "'''\n",
    "5.\n",
    "Create a function that takes a string and returns True or False,\n",
    "depending on whether the characters are in order or not.\n",
    "'''\n",
    "\n",
    "def is_in_order(s):\n",
    "    \"\"\"\n",
    "    checks if the characters of a strings are in order\n",
    "    Input\n",
    "    s: a string\n",
    "    \"\"\"\n",
    "    l = list(s)\n",
    "    l.sort()\n",
    "    s1 = \"\".join(l)\n",
    "    if s == s1:\n",
    "        return True\n",
    "    else:\n",
    "        return False\n",
    "is_in_order(\"abc\")"
   ]
  },
  {
   "cell_type": "code",
   "execution_count": 15,
   "id": "b3bc3efc",
   "metadata": {},
   "outputs": [
    {
     "data": {
      "text/plain": [
       "False"
      ]
     },
     "execution_count": 15,
     "metadata": {},
     "output_type": "execute_result"
    }
   ],
   "source": [
    "is_in_order(\"edabit\")"
   ]
  },
  {
   "cell_type": "code",
   "execution_count": 16,
   "id": "10dbeb2e",
   "metadata": {},
   "outputs": [
    {
     "data": {
      "text/plain": [
       "True"
      ]
     },
     "execution_count": 16,
     "metadata": {},
     "output_type": "execute_result"
    }
   ],
   "source": [
    "is_in_order(\"123\")"
   ]
  },
  {
   "cell_type": "code",
   "execution_count": 17,
   "id": "2014da4e",
   "metadata": {},
   "outputs": [
    {
     "data": {
      "text/plain": [
       "True"
      ]
     },
     "execution_count": 17,
     "metadata": {},
     "output_type": "execute_result"
    }
   ],
   "source": [
    "is_in_order(\"xyzz\")"
   ]
  }
 ],
 "metadata": {
  "kernelspec": {
   "display_name": "Python 3 (ipykernel)",
   "language": "python",
   "name": "python3"
  },
  "language_info": {
   "codemirror_mode": {
    "name": "ipython",
    "version": 3
   },
   "file_extension": ".py",
   "mimetype": "text/x-python",
   "name": "python",
   "nbconvert_exporter": "python",
   "pygments_lexer": "ipython3",
   "version": "3.9.13"
  }
 },
 "nbformat": 4,
 "nbformat_minor": 5
}
